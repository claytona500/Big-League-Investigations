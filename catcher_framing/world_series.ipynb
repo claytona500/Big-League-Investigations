{
 "cells": [
  {
   "cell_type": "code",
   "execution_count": null,
   "metadata": {},
   "outputs": [],
   "source": [
    "import pybaseball as pb\n",
    "import pandas as pd\n",
    "import xgboost as xgb"
   ]
  },
  {
   "cell_type": "code",
   "execution_count": null,
   "metadata": {},
   "outputs": [],
   "source": [
    "data = pb.statcast(start_dt='2023-10-27', end_dt='2023-11-1')\n",
    "data = data.loc[(data['description'] == 'called_strike') | (data['description'] == 'ball')].copy() # only called strikes and balls\n"
   ]
  }
 ],
 "metadata": {
  "language_info": {
   "name": "python"
  }
 },
 "nbformat": 4,
 "nbformat_minor": 2
}
