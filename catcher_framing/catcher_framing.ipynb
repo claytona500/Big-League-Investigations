{
 "cells": [
  {
   "cell_type": "code",
   "execution_count": 15,
   "metadata": {},
   "outputs": [],
   "source": [
    "import pandas as pd\n",
    "import numpy as np\n",
    "import matplotlib.pyplot as plt"
   ]
  },
  {
   "cell_type": "code",
   "execution_count": 61,
   "metadata": {},
   "outputs": [],
   "source": [
    "data = pd.read_csv('deltaRE_og_description.csv')"
   ]
  },
  {
   "cell_type": "code",
   "execution_count": 62,
   "metadata": {},
   "outputs": [
    {
     "data": {
      "text/html": [
       "<div>\n",
       "<style scoped>\n",
       "    .dataframe tbody tr th:only-of-type {\n",
       "        vertical-align: middle;\n",
       "    }\n",
       "\n",
       "    .dataframe tbody tr th {\n",
       "        vertical-align: top;\n",
       "    }\n",
       "\n",
       "    .dataframe thead th {\n",
       "        text-align: right;\n",
       "    }\n",
       "</style>\n",
       "<table border=\"1\" class=\"dataframe\">\n",
       "  <thead>\n",
       "    <tr style=\"text-align: right;\">\n",
       "      <th></th>\n",
       "      <th>half_inning</th>\n",
       "      <th>Unnamed: 1</th>\n",
       "      <th>pitch_type</th>\n",
       "      <th>game_date</th>\n",
       "      <th>release_speed</th>\n",
       "      <th>release_pos_x</th>\n",
       "      <th>release_pos_z</th>\n",
       "      <th>player_name</th>\n",
       "      <th>batter</th>\n",
       "      <th>pitcher</th>\n",
       "      <th>...</th>\n",
       "      <th>total_runs</th>\n",
       "      <th>half_inning.1</th>\n",
       "      <th>max_runs_in_half_inning</th>\n",
       "      <th>roi_score</th>\n",
       "      <th>count_state</th>\n",
       "      <th>state</th>\n",
       "      <th>runner_state</th>\n",
       "      <th>RE</th>\n",
       "      <th>next_runs</th>\n",
       "      <th>deltaRE</th>\n",
       "    </tr>\n",
       "  </thead>\n",
       "  <tbody>\n",
       "    <tr>\n",
       "      <th>0</th>\n",
       "      <td>716352_1_Bot</td>\n",
       "      <td>11</td>\n",
       "      <td>SI</td>\n",
       "      <td>2023-10-01</td>\n",
       "      <td>92.0</td>\n",
       "      <td>-2.78</td>\n",
       "      <td>5.68</td>\n",
       "      <td>King, Michael</td>\n",
       "      <td>672580</td>\n",
       "      <td>650633</td>\n",
       "      <td>...</td>\n",
       "      <td>0</td>\n",
       "      <td>716352_1_Bot</td>\n",
       "      <td>0</td>\n",
       "      <td>0</td>\n",
       "      <td>0&amp;0</td>\n",
       "      <td>0&amp;0_0_000</td>\n",
       "      <td>0</td>\n",
       "      <td>0.507947</td>\n",
       "      <td>0</td>\n",
       "      <td>-0.038179</td>\n",
       "    </tr>\n",
       "    <tr>\n",
       "      <th>1</th>\n",
       "      <td>716352_1_Bot</td>\n",
       "      <td>10</td>\n",
       "      <td>FF</td>\n",
       "      <td>2023-10-01</td>\n",
       "      <td>93.8</td>\n",
       "      <td>-2.55</td>\n",
       "      <td>5.86</td>\n",
       "      <td>King, Michael</td>\n",
       "      <td>672580</td>\n",
       "      <td>650633</td>\n",
       "      <td>...</td>\n",
       "      <td>0</td>\n",
       "      <td>716352_1_Bot</td>\n",
       "      <td>0</td>\n",
       "      <td>0</td>\n",
       "      <td>0&amp;1</td>\n",
       "      <td>0&amp;1_0_000</td>\n",
       "      <td>0</td>\n",
       "      <td>0.469768</td>\n",
       "      <td>0</td>\n",
       "      <td>-0.052053</td>\n",
       "    </tr>\n",
       "    <tr>\n",
       "      <th>2</th>\n",
       "      <td>716352_1_Bot</td>\n",
       "      <td>9</td>\n",
       "      <td>FF</td>\n",
       "      <td>2023-10-01</td>\n",
       "      <td>94.3</td>\n",
       "      <td>-2.50</td>\n",
       "      <td>5.95</td>\n",
       "      <td>King, Michael</td>\n",
       "      <td>672580</td>\n",
       "      <td>650633</td>\n",
       "      <td>...</td>\n",
       "      <td>0</td>\n",
       "      <td>716352_1_Bot</td>\n",
       "      <td>0</td>\n",
       "      <td>0</td>\n",
       "      <td>0&amp;2</td>\n",
       "      <td>0&amp;2_0_000</td>\n",
       "      <td>0</td>\n",
       "      <td>0.417715</td>\n",
       "      <td>0</td>\n",
       "      <td>-0.148449</td>\n",
       "    </tr>\n",
       "    <tr>\n",
       "      <th>3</th>\n",
       "      <td>716352_1_Bot</td>\n",
       "      <td>8</td>\n",
       "      <td>SI</td>\n",
       "      <td>2023-10-01</td>\n",
       "      <td>93.5</td>\n",
       "      <td>-2.60</td>\n",
       "      <td>5.68</td>\n",
       "      <td>King, Michael</td>\n",
       "      <td>677951</td>\n",
       "      <td>650633</td>\n",
       "      <td>...</td>\n",
       "      <td>0</td>\n",
       "      <td>716352_1_Bot</td>\n",
       "      <td>0</td>\n",
       "      <td>0</td>\n",
       "      <td>0&amp;0</td>\n",
       "      <td>0&amp;0_1_000</td>\n",
       "      <td>0</td>\n",
       "      <td>0.269266</td>\n",
       "      <td>0</td>\n",
       "      <td>-0.028510</td>\n",
       "    </tr>\n",
       "    <tr>\n",
       "      <th>4</th>\n",
       "      <td>716352_1_Bot</td>\n",
       "      <td>7</td>\n",
       "      <td>SI</td>\n",
       "      <td>2023-10-01</td>\n",
       "      <td>94.0</td>\n",
       "      <td>-2.59</td>\n",
       "      <td>5.74</td>\n",
       "      <td>King, Michael</td>\n",
       "      <td>677951</td>\n",
       "      <td>650633</td>\n",
       "      <td>...</td>\n",
       "      <td>0</td>\n",
       "      <td>716352_1_Bot</td>\n",
       "      <td>0</td>\n",
       "      <td>0</td>\n",
       "      <td>0&amp;1</td>\n",
       "      <td>0&amp;1_1_000</td>\n",
       "      <td>0</td>\n",
       "      <td>0.240756</td>\n",
       "      <td>0</td>\n",
       "      <td>0.020254</td>\n",
       "    </tr>\n",
       "  </tbody>\n",
       "</table>\n",
       "<p>5 rows × 104 columns</p>\n",
       "</div>"
      ],
      "text/plain": [
       "    half_inning  Unnamed: 1 pitch_type   game_date  release_speed  \\\n",
       "0  716352_1_Bot          11         SI  2023-10-01           92.0   \n",
       "1  716352_1_Bot          10         FF  2023-10-01           93.8   \n",
       "2  716352_1_Bot           9         FF  2023-10-01           94.3   \n",
       "3  716352_1_Bot           8         SI  2023-10-01           93.5   \n",
       "4  716352_1_Bot           7         SI  2023-10-01           94.0   \n",
       "\n",
       "   release_pos_x  release_pos_z    player_name  batter  pitcher  ...  \\\n",
       "0          -2.78           5.68  King, Michael  672580   650633  ...   \n",
       "1          -2.55           5.86  King, Michael  672580   650633  ...   \n",
       "2          -2.50           5.95  King, Michael  672580   650633  ...   \n",
       "3          -2.60           5.68  King, Michael  677951   650633  ...   \n",
       "4          -2.59           5.74  King, Michael  677951   650633  ...   \n",
       "\n",
       "  total_runs half_inning.1  max_runs_in_half_inning  roi_score  count_state  \\\n",
       "0          0  716352_1_Bot                        0          0          0&0   \n",
       "1          0  716352_1_Bot                        0          0          0&1   \n",
       "2          0  716352_1_Bot                        0          0          0&2   \n",
       "3          0  716352_1_Bot                        0          0          0&0   \n",
       "4          0  716352_1_Bot                        0          0          0&1   \n",
       "\n",
       "       state  runner_state        RE next_runs   deltaRE  \n",
       "0  0&0_0_000             0  0.507947         0 -0.038179  \n",
       "1  0&1_0_000             0  0.469768         0 -0.052053  \n",
       "2  0&2_0_000             0  0.417715         0 -0.148449  \n",
       "3  0&0_1_000             0  0.269266         0 -0.028510  \n",
       "4  0&1_1_000             0  0.240756         0  0.020254  \n",
       "\n",
       "[5 rows x 104 columns]"
      ]
     },
     "execution_count": 62,
     "metadata": {},
     "output_type": "execute_result"
    }
   ],
   "source": [
    "data.head()"
   ]
  },
  {
   "cell_type": "code",
   "execution_count": 64,
   "metadata": {},
   "outputs": [
    {
     "data": {
      "text/plain": [
       "array([669224, 521692, 571912, 668800, 686452, 518595, 596117, 682626,\n",
       "       605421, 664954, 656024, 650907, 623168, 455117, 664874, 673237,\n",
       "       680777, 553869, 642851, 641680, 663728, 620443, 666310, 668670,\n",
       "       663743, 641511, 669257, 666165, 665804, 661388, 605170, 691016,\n",
       "       681351, 657136, 543510, 543877, 660688, 669221, 672515, 669127,\n",
       "       663886, 671056, 543228, 518735, 543309, 682515, 592663, 553882,\n",
       "       624512, 668939, 607732, 682848, 595978, 595956, 608348, 605131,\n",
       "       672275, 672386, 542194, 686676, 666163, 542208, 669134, 681807,\n",
       "       680418, 595453, 575929, 669087, 645444, 657247, 663698, 666023,\n",
       "       596142, 641598, 643376, 656180, 606992, 642136, 641470, 571466,\n",
       "       608596, 680779, 595751, 642336, 592200, 624431, 543592, 444489,\n",
       "       621532, 643348, 572287, 661531, 506702, 656627, 663967, 621512,\n",
       "       668663, 608360, 644433, 669004, 650619, 547379], dtype=int64)"
      ]
     },
     "execution_count": 64,
     "metadata": {},
     "output_type": "execute_result"
    }
   ],
   "source": [
    "data['fielder_2'].unique()"
   ]
  },
  {
   "cell_type": "code",
   "execution_count": 140,
   "metadata": {},
   "outputs": [],
   "source": [
    "def custom_sigmoid(x, sz):\n",
    "    return 1 / (1 + np.exp(-30 * (x - sz)))"
   ]
  },
  {
   "cell_type": "code",
   "execution_count": 141,
   "metadata": {},
   "outputs": [
    {
     "data": {
      "image/png": "[encoded data removed]",
      "text/plain": [
       "<Figure size 640x480 with 1 Axes>"
      ]
     },
     "metadata": {},
     "output_type": "display_data"
    }
   ],
   "source": [
    "# Test the function\n",
    "x_values = np.linspace(0, 1, 500)\n",
    "y_values = custom_sigmoid(x_values, .708)\n",
    "\n",
    "plt.plot(x_values, y_values)\n",
    "plt.xlabel('x')\n",
    "plt.ylabel('Weight')\n",
    "plt.title('Custom Sigmoid Function')\n",
    "plt.show()"
   ]
  },
  {
   "cell_type": "code",
   "execution_count": 142,
   "metadata": {},
   "outputs": [],
   "source": [
    "df = data.copy()"
   ]
  },
  {
   "cell_type": "code",
   "execution_count": 143,
   "metadata": {},
   "outputs": [],
   "source": [
    "# Calculate the midpoint of the strike zone\n",
    "df['sz_mid'] = (df['sz_top'] + df['sz_bot']) / 2\n",
    "\n",
    "# Apply the custom sigmoid function based on conditions for plate_x\n",
    "df['sigmoid_x'] = df['plate_x'].apply(lambda x: custom_sigmoid(x, -0.708) if x < 0 else custom_sigmoid(x, 0.708))\n",
    "\n",
    "# Apply the custom sigmoid function based on conditions for plate_z\n",
    "df['sigmoid_z'] = df.apply(lambda row: custom_sigmoid(row['plate_z'], row['sz_top']) if row['plate_z'] >= row['sz_mid'] else custom_sigmoid(row['plate_z'], row['sz_bot']), axis=1)\n",
    "\n",
    "# Calculate the sum of squares for sigmoid_x and sigmoid_z\n",
    "df['sum_of_squares'] = df['sigmoid_x']**2 + df['sigmoid_z']**2\n",
    "\n",
    "# Calculate the square root of the sum of squares\n",
    "df['sqrt_sum_of_squares'] = np.sqrt(df['sum_of_squares'])\n",
    "\n",
    "# Normalize the square root of sum of squares\n",
    "min_val = df['sqrt_sum_of_squares'].min()\n",
    "max_val = df['sqrt_sum_of_squares'].max()\n",
    "df['normalized_sqrt_sum_of_squares'] = (df['sqrt_sum_of_squares'] - min_val) / (max_val - min_val)"
   ]
  },
  {
   "cell_type": "code",
   "execution_count": 144,
   "metadata": {},
   "outputs": [],
   "source": [
    "df.loc[df['description'] == 'ball', 'normalized_sqrt_sum_of_squares'] = df.loc[df['description'] == 'ball', 'normalized_sqrt_sum_of_squares'] - 1"
   ]
  },
  {
   "cell_type": "code",
   "execution_count": 145,
   "metadata": {},
   "outputs": [
    {
     "data": {
      "text/plain": [
       "<Axes: >"
      ]
     },
     "execution_count": 145,
     "metadata": {},
     "output_type": "execute_result"
    },
    {
     "data": {
      "image/png": "[encoded data removed]",
      "text/plain": [
       "<Figure size 640x480 with 1 Axes>"
      ]
     },
     "metadata": {},
     "output_type": "display_data"
    }
   ],
   "source": [
    "df['normalized_sqrt_sum_of_squares'].hist()"
   ]
  },
  {
   "cell_type": "code",
   "execution_count": 146,
   "metadata": {},
   "outputs": [
    {
     "data": {
      "text/plain": [
       "description\n",
       "ball                       243446\n",
       "foul                       129398\n",
       "hit_into_play              125641\n",
       "called_strike              119250\n",
       "swinging_strike             77250\n",
       "blocked_ball                16157\n",
       "foul_tip                     7349\n",
       "swinging_strike_blocked      4386\n",
       "hit_by_pitch                 2132\n",
       "foul_bunt                    1012\n",
       "missed_bunt                   185\n",
       "pitchout                       46\n",
       "bunt_foul_tip                  16\n",
       "unknown_strike                  1\n",
       "Name: count, dtype: int64"
      ]
     },
     "execution_count": 146,
     "metadata": {},
     "output_type": "execute_result"
    }
   ],
   "source": [
    "df['description'].value_counts()\n"
   ]
  },
  {
   "cell_type": "code",
   "execution_count": 147,
   "metadata": {},
   "outputs": [
    {
     "name": "stdout",
     "output_type": "stream",
     "text": [
      "Balls that should be strikes description counts:\n",
      "description\n",
      "ball    3999\n",
      "Name: count, dtype: int64\n",
      "Strikes that should be balls description counts:\n",
      "description\n",
      "called_strike    34678\n",
      "Name: count, dtype: int64\n",
      "Combined DataFrame description counts:\n",
      "description\n",
      "called_strike    34678\n",
      "ball              3999\n",
      "Name: count, dtype: int64\n"
     ]
    }
   ],
   "source": [
    "# Balls that should have been called strikes\n",
    "balls_should_be_strikes = df.loc[\n",
    "    ((df['plate_z'] >= df['sz_bot']) & \n",
    "     (df['plate_z'] <= df['sz_top']) & \n",
    "     (abs(df['plate_x']) <= 0.708) & \n",
    "     (df['description'] == 'ball'))\n",
    "].copy()\n",
    "\n",
    "print(\"Balls that should be strikes description counts:\")\n",
    "print(balls_should_be_strikes['description'].value_counts())\n",
    "\n",
    "# Strikes that should have been called balls\n",
    "strikes_should_be_balls = df.loc[\n",
    "    (\n",
    "        (df['plate_z'] < df['sz_bot']) | \n",
    "        (df['plate_z'] > df['sz_top']) | \n",
    "        (abs(df['plate_x']) > 0.708)\n",
    "    ) & \n",
    "    (df['description'] == 'called_strike')\n",
    "].copy()\n",
    "\n",
    "print(\"Strikes that should be balls description counts:\")\n",
    "print(strikes_should_be_balls['description'].value_counts())\n",
    "\n",
    "# Concatenating the two DataFrames\n",
    "catcher = pd.concat([balls_should_be_strikes, strikes_should_be_balls])\n",
    "\n",
    "print(\"Combined DataFrame description counts:\")\n",
    "print(catcher['description'].value_counts())\n"
   ]
  },
  {
   "cell_type": "code",
   "execution_count": 148,
   "metadata": {},
   "outputs": [],
   "source": [
    "catcher['framing_runs'] = catcher['normalized_sqrt_sum_of_squares'] * catcher['deltaRE']"
   ]
  },
  {
   "cell_type": "code",
   "execution_count": 159,
   "metadata": {},
   "outputs": [],
   "source": [
    "player_query = pd.read_csv('player_query.csv')"
   ]
  },
  {
   "cell_type": "code",
   "execution_count": 160,
   "metadata": {},
   "outputs": [],
   "source": [
    "merge = pd.merge(catcher, player_query, left_on='fielder_2', right_on='mlb_id', how='left')"
   ]
  },
  {
   "cell_type": "code",
   "execution_count": 161,
   "metadata": {},
   "outputs": [
    {
     "data": {
      "text/plain": [
       "mlb_name\n",
       "Jonah Heim          -44.152098\n",
       "Shea Langeliers     -40.685290\n",
       "J.T. Realmuto       -40.403430\n",
       "William Contreras   -37.400092\n",
       "Keibert Ruiz        -37.034412\n",
       "                       ...    \n",
       "Luis Torrens         -0.276593\n",
       "Manny Pina           -0.173478\n",
       "Chris Okey           -0.091353\n",
       "Zack Collins         -0.072342\n",
       "Henry Davis          -0.018005\n",
       "Name: framing_runs, Length: 101, dtype: float64"
      ]
     },
     "execution_count": 161,
     "metadata": {},
     "output_type": "execute_result"
    }
   ],
   "source": [
    "merge.groupby('mlb_name')['framing_runs'].sum().sort_values(ascending=True)"
   ]
  },
  {
   "cell_type": "code",
   "execution_count": 162,
   "metadata": {},
   "outputs": [],
   "source": [
    "merge['framing_runs'] = merge['framing_runs'] * -1"
   ]
  },
  {
   "cell_type": "code",
   "execution_count": 163,
   "metadata": {},
   "outputs": [],
   "source": [
    "merge.groupby('mlb_name')['framing_runs'].sum().sort_values(ascending=False).to_csv('catcher_framing.csv')"
   ]
  }
 ],
 "metadata": {
  "kernelspec": {
   "display_name": "Python 3",
   "language": "python",
   "name": "python3"
  },
  "language_info": {
   "codemirror_mode": {
    "name": "ipython",
    "version": 3
   },
   "file_extension": ".py",
   "mimetype": "text/x-python",
   "name": "python",
   "nbconvert_exporter": "python",
   "pygments_lexer": "ipython3",
   "version": "3.11.5"
  },
  "orig_nbformat": 4
 },
 "nbformat": 4,
 "nbformat_minor": 2
}
