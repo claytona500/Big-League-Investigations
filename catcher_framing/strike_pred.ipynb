{
 "cells": [
  {
   "cell_type": "code",
   "execution_count": 580,
   "metadata": {},
   "outputs": [],
   "source": [
    "import pandas as pd\n",
    "from sklearn.model_selection import train_test_split\n",
    "from sklearn.linear_model import LogisticRegression\n",
    "from sklearn.preprocessing import StandardScaler\n",
    "from statsmodels.stats.outliers_influence import variance_inflation_factor\n",
    "import matplotlib.pyplot as plt\n",
    "import numpy as np\n",
    "from sklearn.metrics import accuracy_score, precision_score, recall_score, f1_score, confusion_matrix"
   ]
  },
  {
   "cell_type": "code",
   "execution_count": 2,
   "metadata": {},
   "outputs": [],
   "source": [
    "df = pd.read_csv('deltaRE_og_description.csv')"
   ]
  },
  {
   "cell_type": "code",
   "execution_count": 3,
   "metadata": {},
   "outputs": [
    {
     "data": {
      "text/plain": [
       "Index(['half_inning', 'Unnamed: 1', 'pitch_type', 'game_date', 'release_speed',\n",
       "       'release_pos_x', 'release_pos_z', 'player_name', 'batter', 'pitcher',\n",
       "       ...\n",
       "       'total_runs', 'half_inning.1', 'max_runs_in_half_inning', 'roi_score',\n",
       "       'count_state', 'state', 'runner_state', 'RE', 'next_runs', 'deltaRE'],\n",
       "      dtype='object', length=104)"
      ]
     },
     "execution_count": 3,
     "metadata": {},
     "output_type": "execute_result"
    }
   ],
   "source": [
    "df.columns"
   ]
  },
  {
   "cell_type": "code",
   "execution_count": 369,
   "metadata": {},
   "outputs": [],
   "source": [
    "model_data = df.loc[(df['description'] == 'called_strike') | (df['description'] == 'ball')].copy() # only called strikes and balls"
   ]
  },
  {
   "cell_type": "code",
   "execution_count": 370,
   "metadata": {},
   "outputs": [],
   "source": [
    "model_data['is_strike'] = model_data['description'].map({'called_strike': 1, 'ball': 0}) # convert to binary\n",
    "model_data['p_throws'] = model_data['p_throws'].map({'R': 1, 'L': 0}) # convert to binary\n",
    "model_data['stand'] = model_data['stand'].map({'R': 1, 'L': 0}) # convert to binary"
   ]
  },
  {
   "cell_type": "code",
   "execution_count": 371,
   "metadata": {},
   "outputs": [],
   "source": [
    "model_data.dropna(subset=['release_extension', 'spin_axis'], inplace=True)"
   ]
  },
  {
   "cell_type": "code",
   "execution_count": 372,
   "metadata": {},
   "outputs": [],
   "source": [
    "#map pitch types to numbers\n",
    "pitch_type_dict = {'FF': 1, 'SL': 2, 'CH': 2, 'CU': 2, 'SI': 1, 'FC': 1, 'KC': 2, 'FS': 2, 'KN': 2, 'EP': 2, 'FO': 2, 'SC': 2, 'ST': 2, 'FA': 1, 'SV': 2, 'CS': 2, 'nan': 17}\n",
    "model_data['pitch_type_dict'] = model_data['pitch_type'].map(pitch_type_dict)"
   ]
  },
  {
   "cell_type": "code",
   "execution_count": 373,
   "metadata": {},
   "outputs": [],
   "source": [
    "model_data.loc[model_data['p_throws'] == 'L', 'pfx_x'] *= -1"
   ]
  },
  {
   "cell_type": "code",
   "execution_count": 744,
   "metadata": {},
   "outputs": [],
   "source": [
    "fastball_data = model_data[model_data['pitch_type_dict'] == 1]\n",
    "avg_values = fastball_data.groupby('pitcher').agg({\n",
    "    'release_speed': 'mean',\n",
    "    'pfx_x': 'mean',\n",
    "    'pfx_z': 'mean'\n",
    "}).reset_index()\n",
    "avg_values.columns = ['pitcher', 'avg_velo', 'avg_hmov', 'avg_vmov']"
   ]
  },
  {
   "cell_type": "code",
   "execution_count": 745,
   "metadata": {},
   "outputs": [],
   "source": [
    "model_data = pd.merge(model_data, avg_values, on='pitcher', how='left')"
   ]
  },
  {
   "cell_type": "code",
   "execution_count": 1088,
   "metadata": {},
   "outputs": [],
   "source": [
    "model_data['velo_diff'] = model_data['release_speed'] - model_data['avg_velo']\n",
    "model_data['hmov_diff'] = model_data['pfx_x'] - model_data['avg_hmov']\n",
    "model_data['vmov_diff'] = model_data['pfx_z'] - model_data['avg_vmov']\n",
    "model_data['total_movement'] = model_data['pfx_x'].abs() + model_data['pfx_z'].abs()"
   ]
  },
  {
   "cell_type": "code",
   "execution_count": 1089,
   "metadata": {},
   "outputs": [],
   "source": [
    "model_data['likely_strike'] = ((model_data['plate_x'].abs() <= .708) & \n",
    "                               (model_data['plate_z'] <= model_data['sz_top']) & \n",
    "                               (model_data['plate_z'] >= model_data['sz_bot'])).astype(int)\n"
   ]
  },
  {
   "cell_type": "code",
   "execution_count": 1090,
   "metadata": {},
   "outputs": [],
   "source": [
    "fastball_data = model_data[model_data['pitch_type_dict'] == 1].copy()\n",
    "offspeed_data = model_data[model_data['pitch_type_dict'] == 2].copy()"
   ]
  },
  {
   "cell_type": "code",
   "execution_count": 1091,
   "metadata": {},
   "outputs": [
    {
     "data": {
      "text/html": [
       "<div>\n",
       "<style scoped>\n",
       "    .dataframe tbody tr th:only-of-type {\n",
       "        vertical-align: middle;\n",
       "    }\n",
       "\n",
       "    .dataframe tbody tr th {\n",
       "        vertical-align: top;\n",
       "    }\n",
       "\n",
       "    .dataframe thead th {\n",
       "        text-align: right;\n",
       "    }\n",
       "</style>\n",
       "<table border=\"1\" class=\"dataframe\">\n",
       "  <thead>\n",
       "    <tr style=\"text-align: right;\">\n",
       "      <th></th>\n",
       "      <th>half_inning</th>\n",
       "      <th>Unnamed: 1</th>\n",
       "      <th>pitch_type</th>\n",
       "      <th>game_date</th>\n",
       "      <th>release_speed</th>\n",
       "      <th>release_pos_x</th>\n",
       "      <th>release_pos_z</th>\n",
       "      <th>player_name</th>\n",
       "      <th>batter</th>\n",
       "      <th>pitcher</th>\n",
       "      <th>...</th>\n",
       "      <th>is_strike</th>\n",
       "      <th>pitch_type_dict</th>\n",
       "      <th>velo_diff</th>\n",
       "      <th>hmov_diff</th>\n",
       "      <th>vmov_diff</th>\n",
       "      <th>likely_strike</th>\n",
       "      <th>avg_velo</th>\n",
       "      <th>avg_hmov</th>\n",
       "      <th>avg_vmov</th>\n",
       "      <th>total_movement</th>\n",
       "    </tr>\n",
       "  </thead>\n",
       "  <tbody>\n",
       "    <tr>\n",
       "      <th>0</th>\n",
       "      <td>716352_1_Bot</td>\n",
       "      <td>11</td>\n",
       "      <td>SI</td>\n",
       "      <td>2023-10-01</td>\n",
       "      <td>92.0</td>\n",
       "      <td>-2.78</td>\n",
       "      <td>5.68</td>\n",
       "      <td>King, Michael</td>\n",
       "      <td>672580</td>\n",
       "      <td>650633</td>\n",
       "      <td>...</td>\n",
       "      <td>1</td>\n",
       "      <td>1</td>\n",
       "      <td>-2.302347</td>\n",
       "      <td>-0.206931</td>\n",
       "      <td>-0.295325</td>\n",
       "      <td>1</td>\n",
       "      <td>94.302347</td>\n",
       "      <td>-1.063069</td>\n",
       "      <td>0.785325</td>\n",
       "      <td>1.76</td>\n",
       "    </tr>\n",
       "    <tr>\n",
       "      <th>1</th>\n",
       "      <td>716352_1_Bot</td>\n",
       "      <td>8</td>\n",
       "      <td>SI</td>\n",
       "      <td>2023-10-01</td>\n",
       "      <td>93.5</td>\n",
       "      <td>-2.60</td>\n",
       "      <td>5.68</td>\n",
       "      <td>King, Michael</td>\n",
       "      <td>677951</td>\n",
       "      <td>650633</td>\n",
       "      <td>...</td>\n",
       "      <td>1</td>\n",
       "      <td>1</td>\n",
       "      <td>-0.802347</td>\n",
       "      <td>-0.186931</td>\n",
       "      <td>-0.135325</td>\n",
       "      <td>0</td>\n",
       "      <td>94.302347</td>\n",
       "      <td>-1.063069</td>\n",
       "      <td>0.785325</td>\n",
       "      <td>1.90</td>\n",
       "    </tr>\n",
       "    <tr>\n",
       "      <th>2</th>\n",
       "      <td>716352_1_Bot</td>\n",
       "      <td>7</td>\n",
       "      <td>SI</td>\n",
       "      <td>2023-10-01</td>\n",
       "      <td>94.0</td>\n",
       "      <td>-2.59</td>\n",
       "      <td>5.74</td>\n",
       "      <td>King, Michael</td>\n",
       "      <td>677951</td>\n",
       "      <td>650633</td>\n",
       "      <td>...</td>\n",
       "      <td>0</td>\n",
       "      <td>1</td>\n",
       "      <td>-0.302347</td>\n",
       "      <td>-0.056931</td>\n",
       "      <td>0.104675</td>\n",
       "      <td>0</td>\n",
       "      <td>94.302347</td>\n",
       "      <td>-1.063069</td>\n",
       "      <td>0.785325</td>\n",
       "      <td>2.01</td>\n",
       "    </tr>\n",
       "    <tr>\n",
       "      <th>4</th>\n",
       "      <td>716352_1_Bot</td>\n",
       "      <td>3</td>\n",
       "      <td>SI</td>\n",
       "      <td>2023-10-01</td>\n",
       "      <td>93.9</td>\n",
       "      <td>-2.62</td>\n",
       "      <td>5.54</td>\n",
       "      <td>King, Michael</td>\n",
       "      <td>521692</td>\n",
       "      <td>650633</td>\n",
       "      <td>...</td>\n",
       "      <td>1</td>\n",
       "      <td>1</td>\n",
       "      <td>-0.402347</td>\n",
       "      <td>-0.146931</td>\n",
       "      <td>-0.165325</td>\n",
       "      <td>1</td>\n",
       "      <td>94.302347</td>\n",
       "      <td>-1.063069</td>\n",
       "      <td>0.785325</td>\n",
       "      <td>1.83</td>\n",
       "    </tr>\n",
       "    <tr>\n",
       "      <th>5</th>\n",
       "      <td>716352_1_Bot</td>\n",
       "      <td>2</td>\n",
       "      <td>FF</td>\n",
       "      <td>2023-10-01</td>\n",
       "      <td>95.8</td>\n",
       "      <td>-2.24</td>\n",
       "      <td>5.97</td>\n",
       "      <td>King, Michael</td>\n",
       "      <td>521692</td>\n",
       "      <td>650633</td>\n",
       "      <td>...</td>\n",
       "      <td>1</td>\n",
       "      <td>1</td>\n",
       "      <td>1.497653</td>\n",
       "      <td>0.763069</td>\n",
       "      <td>0.194675</td>\n",
       "      <td>1</td>\n",
       "      <td>94.302347</td>\n",
       "      <td>-1.063069</td>\n",
       "      <td>0.785325</td>\n",
       "      <td>1.28</td>\n",
       "    </tr>\n",
       "  </tbody>\n",
       "</table>\n",
       "<p>5 rows × 114 columns</p>\n",
       "</div>"
      ],
      "text/plain": [
       "    half_inning  Unnamed: 1 pitch_type   game_date  release_speed  \\\n",
       "0  716352_1_Bot          11         SI  2023-10-01           92.0   \n",
       "1  716352_1_Bot           8         SI  2023-10-01           93.5   \n",
       "2  716352_1_Bot           7         SI  2023-10-01           94.0   \n",
       "4  716352_1_Bot           3         SI  2023-10-01           93.9   \n",
       "5  716352_1_Bot           2         FF  2023-10-01           95.8   \n",
       "\n",
       "   release_pos_x  release_pos_z    player_name  batter  pitcher  ...  \\\n",
       "0          -2.78           5.68  King, Michael  672580   650633  ...   \n",
       "1          -2.60           5.68  King, Michael  677951   650633  ...   \n",
       "2          -2.59           5.74  King, Michael  677951   650633  ...   \n",
       "4          -2.62           5.54  King, Michael  521692   650633  ...   \n",
       "5          -2.24           5.97  King, Michael  521692   650633  ...   \n",
       "\n",
       "  is_strike pitch_type_dict  velo_diff  hmov_diff  vmov_diff  likely_strike  \\\n",
       "0         1               1  -2.302347  -0.206931  -0.295325              1   \n",
       "1         1               1  -0.802347  -0.186931  -0.135325              0   \n",
       "2         0               1  -0.302347  -0.056931   0.104675              0   \n",
       "4         1               1  -0.402347  -0.146931  -0.165325              1   \n",
       "5         1               1   1.497653   0.763069   0.194675              1   \n",
       "\n",
       "    avg_velo  avg_hmov  avg_vmov  total_movement  \n",
       "0  94.302347 -1.063069  0.785325            1.76  \n",
       "1  94.302347 -1.063069  0.785325            1.90  \n",
       "2  94.302347 -1.063069  0.785325            2.01  \n",
       "4  94.302347 -1.063069  0.785325            1.83  \n",
       "5  94.302347 -1.063069  0.785325            1.28  \n",
       "\n",
       "[5 rows x 114 columns]"
      ]
     },
     "execution_count": 1091,
     "metadata": {},
     "output_type": "execute_result"
    }
   ],
   "source": [
    "fastball_data.head()"
   ]
  },
  {
   "cell_type": "code",
   "execution_count": 1092,
   "metadata": {},
   "outputs": [
    {
     "data": {
      "text/html": [
       "<div>\n",
       "<style scoped>\n",
       "    .dataframe tbody tr th:only-of-type {\n",
       "        vertical-align: middle;\n",
       "    }\n",
       "\n",
       "    .dataframe tbody tr th {\n",
       "        vertical-align: top;\n",
       "    }\n",
       "\n",
       "    .dataframe thead th {\n",
       "        text-align: right;\n",
       "    }\n",
       "</style>\n",
       "<table border=\"1\" class=\"dataframe\">\n",
       "  <thead>\n",
       "    <tr style=\"text-align: right;\">\n",
       "      <th></th>\n",
       "      <th>half_inning</th>\n",
       "      <th>Unnamed: 1</th>\n",
       "      <th>pitch_type</th>\n",
       "      <th>game_date</th>\n",
       "      <th>release_speed</th>\n",
       "      <th>release_pos_x</th>\n",
       "      <th>release_pos_z</th>\n",
       "      <th>player_name</th>\n",
       "      <th>batter</th>\n",
       "      <th>pitcher</th>\n",
       "      <th>...</th>\n",
       "      <th>is_strike</th>\n",
       "      <th>pitch_type_dict</th>\n",
       "      <th>velo_diff</th>\n",
       "      <th>hmov_diff</th>\n",
       "      <th>vmov_diff</th>\n",
       "      <th>likely_strike</th>\n",
       "      <th>avg_velo</th>\n",
       "      <th>avg_hmov</th>\n",
       "      <th>avg_vmov</th>\n",
       "      <th>total_movement</th>\n",
       "    </tr>\n",
       "  </thead>\n",
       "  <tbody>\n",
       "    <tr>\n",
       "      <th>3</th>\n",
       "      <td>716352_1_Bot</td>\n",
       "      <td>5</td>\n",
       "      <td>ST</td>\n",
       "      <td>2023-10-01</td>\n",
       "      <td>81.9</td>\n",
       "      <td>-2.67</td>\n",
       "      <td>5.47</td>\n",
       "      <td>King, Michael</td>\n",
       "      <td>677951</td>\n",
       "      <td>650633</td>\n",
       "      <td>...</td>\n",
       "      <td>0</td>\n",
       "      <td>2</td>\n",
       "      <td>-12.402347</td>\n",
       "      <td>2.503069</td>\n",
       "      <td>-0.745325</td>\n",
       "      <td>0</td>\n",
       "      <td>94.302347</td>\n",
       "      <td>-1.063069</td>\n",
       "      <td>0.785325</td>\n",
       "      <td>1.48</td>\n",
       "    </tr>\n",
       "    <tr>\n",
       "      <th>11</th>\n",
       "      <td>716352_1_Top</td>\n",
       "      <td>19</td>\n",
       "      <td>CU</td>\n",
       "      <td>2023-10-01</td>\n",
       "      <td>70.3</td>\n",
       "      <td>-1.17</td>\n",
       "      <td>6.16</td>\n",
       "      <td>Greinke, Zack</td>\n",
       "      <td>683011</td>\n",
       "      <td>425844</td>\n",
       "      <td>...</td>\n",
       "      <td>0</td>\n",
       "      <td>2</td>\n",
       "      <td>-18.803535</td>\n",
       "      <td>1.348232</td>\n",
       "      <td>-1.857795</td>\n",
       "      <td>0</td>\n",
       "      <td>89.103535</td>\n",
       "      <td>-0.488232</td>\n",
       "      <td>1.037795</td>\n",
       "      <td>1.68</td>\n",
       "    </tr>\n",
       "    <tr>\n",
       "      <th>12</th>\n",
       "      <td>716352_1_Top</td>\n",
       "      <td>14</td>\n",
       "      <td>SL</td>\n",
       "      <td>2023-10-01</td>\n",
       "      <td>78.9</td>\n",
       "      <td>-1.41</td>\n",
       "      <td>6.10</td>\n",
       "      <td>Greinke, Zack</td>\n",
       "      <td>643396</td>\n",
       "      <td>425844</td>\n",
       "      <td>...</td>\n",
       "      <td>1</td>\n",
       "      <td>2</td>\n",
       "      <td>-10.203535</td>\n",
       "      <td>1.798232</td>\n",
       "      <td>-1.317795</td>\n",
       "      <td>1</td>\n",
       "      <td>89.103535</td>\n",
       "      <td>-0.488232</td>\n",
       "      <td>1.037795</td>\n",
       "      <td>1.59</td>\n",
       "    </tr>\n",
       "    <tr>\n",
       "      <th>21</th>\n",
       "      <td>716352_2_Top</td>\n",
       "      <td>52</td>\n",
       "      <td>CU</td>\n",
       "      <td>2023-10-01</td>\n",
       "      <td>70.3</td>\n",
       "      <td>-1.30</td>\n",
       "      <td>6.18</td>\n",
       "      <td>Greinke, Zack</td>\n",
       "      <td>665828</td>\n",
       "      <td>425844</td>\n",
       "      <td>...</td>\n",
       "      <td>0</td>\n",
       "      <td>2</td>\n",
       "      <td>-18.803535</td>\n",
       "      <td>1.288232</td>\n",
       "      <td>-1.897795</td>\n",
       "      <td>0</td>\n",
       "      <td>89.103535</td>\n",
       "      <td>-0.488232</td>\n",
       "      <td>1.037795</td>\n",
       "      <td>1.66</td>\n",
       "    </tr>\n",
       "    <tr>\n",
       "      <th>22</th>\n",
       "      <td>716352_2_Top</td>\n",
       "      <td>51</td>\n",
       "      <td>SL</td>\n",
       "      <td>2023-10-01</td>\n",
       "      <td>76.8</td>\n",
       "      <td>-1.38</td>\n",
       "      <td>6.19</td>\n",
       "      <td>Greinke, Zack</td>\n",
       "      <td>665828</td>\n",
       "      <td>425844</td>\n",
       "      <td>...</td>\n",
       "      <td>0</td>\n",
       "      <td>2</td>\n",
       "      <td>-12.303535</td>\n",
       "      <td>1.878232</td>\n",
       "      <td>-1.077795</td>\n",
       "      <td>0</td>\n",
       "      <td>89.103535</td>\n",
       "      <td>-0.488232</td>\n",
       "      <td>1.037795</td>\n",
       "      <td>1.43</td>\n",
       "    </tr>\n",
       "  </tbody>\n",
       "</table>\n",
       "<p>5 rows × 114 columns</p>\n",
       "</div>"
      ],
      "text/plain": [
       "     half_inning  Unnamed: 1 pitch_type   game_date  release_speed  \\\n",
       "3   716352_1_Bot           5         ST  2023-10-01           81.9   \n",
       "11  716352_1_Top          19         CU  2023-10-01           70.3   \n",
       "12  716352_1_Top          14         SL  2023-10-01           78.9   \n",
       "21  716352_2_Top          52         CU  2023-10-01           70.3   \n",
       "22  716352_2_Top          51         SL  2023-10-01           76.8   \n",
       "\n",
       "    release_pos_x  release_pos_z    player_name  batter  pitcher  ...  \\\n",
       "3           -2.67           5.47  King, Michael  677951   650633  ...   \n",
       "11          -1.17           6.16  Greinke, Zack  683011   425844  ...   \n",
       "12          -1.41           6.10  Greinke, Zack  643396   425844  ...   \n",
       "21          -1.30           6.18  Greinke, Zack  665828   425844  ...   \n",
       "22          -1.38           6.19  Greinke, Zack  665828   425844  ...   \n",
       "\n",
       "   is_strike pitch_type_dict  velo_diff  hmov_diff  vmov_diff  likely_strike  \\\n",
       "3          0               2 -12.402347   2.503069  -0.745325              0   \n",
       "11         0               2 -18.803535   1.348232  -1.857795              0   \n",
       "12         1               2 -10.203535   1.798232  -1.317795              1   \n",
       "21         0               2 -18.803535   1.288232  -1.897795              0   \n",
       "22         0               2 -12.303535   1.878232  -1.077795              0   \n",
       "\n",
       "     avg_velo  avg_hmov  avg_vmov  total_movement  \n",
       "3   94.302347 -1.063069  0.785325            1.48  \n",
       "11  89.103535 -0.488232  1.037795            1.68  \n",
       "12  89.103535 -0.488232  1.037795            1.59  \n",
       "21  89.103535 -0.488232  1.037795            1.66  \n",
       "22  89.103535 -0.488232  1.037795            1.43  \n",
       "\n",
       "[5 rows x 114 columns]"
      ]
     },
     "execution_count": 1092,
     "metadata": {},
     "output_type": "execute_result"
    }
   ],
   "source": [
    "offspeed_data.head()"
   ]
  },
  {
   "attachments": {},
   "cell_type": "markdown",
   "metadata": {},
   "source": [
    "# Fastball Model First"
   ]
  },
  {
   "cell_type": "code",
   "execution_count": 1338,
   "metadata": {},
   "outputs": [],
   "source": [
    "x = fastball_data.drop(['description', 'half_inning', 'events', 'state', 'game_pk', 'game_date', 'count_state', 'des', 'pitch_type_dict',\n",
    "                     'spin_rate_deprecated', 'break_angle_deprecated', 'break_length_deprecated', 'game_type', 'home_team',\n",
    "                     'away_team', 'type', 'bb_type', 'inning_topbot', 'hc_x', 'hc_y', 'tfs_deprecated', 'tfs_zulu_deprecated',\n",
    "                     'hit_distance_sc', 'launch_speed', 'launch_angle', 'estimated_ba_using_speedangle', 'estimated_woba_using_speedangle',\n",
    "                     'woba_value', 'woba_denom', 'babip_value', 'iso_value', 'launch_speed_angle', 'pitch_name', 'home_score', 'away_score',\n",
    "                     'bat_score', 'fld_score', 'post_away_score', 'post_home_score', 'post_bat_score', 'post_fld_score',\n",
    "                      'if_fielding_alignment', 'of_fielding_alignment', 'delta_home_win_exp', 'delta_run_exp', 'total_runs', 'max_runs_in_half_inning', 'next_runs', 'runner_state', 'half_inning.1', 'player_name', 'hit_location', 'umpire', 'sv_id', 'spin_dir', 'roi_score', 'Unnamed: 1',\n",
    "                      'pitch_type', 'fielder_2.1', 'pitcher.1', 'fielder_3', 'fielder_4', 'fielder_5', 'fielder_6', 'fielder_7', 'fielder_8', \n",
    "                      'fielder_9', 'batter', 'pitcher', 'on_3b', 'on_2b', 'on_1b', 'game_year', 'outs_when_up', 'RE','pitch_number',  'at_bat_number', 'inning', 'stand',\n",
    "                      #removed these columns because of collinearity\n",
    "                      'release_speed', 'release_pos_z',  'effective_speed', 'release_pos_y', 'vy0', 'vx0', 'ax', 'release_extension', 'spin_axis', 'release_spin_rate',\n",
    "                      'pfx_z', 'ay', 'p_throws', 'az', 'avg_velo', 'avg_hmov', 'avg_vmov',\n",
    "                      #'release_spin_rate', 'p_throws', 'spin_axis', 'zone',\n",
    "                      #removed these columns because they are not useful\n",
    "                      'hmov_diff', 'vmov_diff', 'vz0', 'pfx_x', 'release_pos_x', 'velo_diff', 'total_movement', 'balls'\n",
    "                      ], axis=1).copy()"
   ]
  },
  {
   "cell_type": "code",
   "execution_count": 1339,
   "metadata": {},
   "outputs": [],
   "source": [
    "x = x.dropna()"
   ]
  },
  {
   "cell_type": "code",
   "execution_count": 1340,
   "metadata": {},
   "outputs": [],
   "source": [
    "x1 = x.drop(['is_strike'], axis=1).copy()\n",
    "y1 = x['is_strike'].copy()"
   ]
  },
  {
   "cell_type": "code",
   "execution_count": 1341,
   "metadata": {},
   "outputs": [],
   "source": [
    "x_train, x_test, y_train, y_test = train_test_split(x1, y1, test_size=0.2, random_state=42) # split data"
   ]
  },
  {
   "cell_type": "code",
   "execution_count": 1342,
   "metadata": {},
   "outputs": [],
   "source": [
    "# Extracting 'fielder_2' and 'deltaRE' into separate DataFrames\n",
    "x_train_catchers = x_train[['fielder_2', 'deltaRE', 'plate_x', 'plate_z', 'sz_top', 'sz_bot']].copy()\n",
    "x_test_catchers = x_test[['fielder_2', 'deltaRE', 'plate_x', 'sz_top', 'plate_z', 'sz_bot']].copy()\n",
    "\n",
    "# Dropping 'fielder_2' and 'deltaRE' columns from the original DataFrames\n",
    "x_train.drop(['fielder_2', 'deltaRE', 'plate_x', 'sz_top', 'sz_bot'], axis=1, inplace=True)\n",
    "x_test.drop(['fielder_2', 'deltaRE', 'plate_x', 'sz_top', 'sz_bot'], axis=1, inplace=True)"
   ]
  },
  {
   "cell_type": "code",
   "execution_count": 1343,
   "metadata": {},
   "outputs": [
    {
     "name": "stdout",
     "output_type": "stream",
     "text": [
      "         feature       VIF\n",
      "0           zone  4.064070\n",
      "1        strikes  1.812054\n",
      "2        plate_z  4.621193\n",
      "3  likely_strike  1.329928\n"
     ]
    }
   ],
   "source": [
    "vif_data = pd.DataFrame()\n",
    "vif_data[\"feature\"] = x_train.columns\n",
    "\n",
    "# Calculating VIF for each feature\n",
    "vif_data[\"VIF\"] = [variance_inflation_factor(x_train.values, i) for i in range(len(x_train.columns))]\n",
    "print(vif_data)"
   ]
  },
  {
   "cell_type": "code",
   "execution_count": 1344,
   "metadata": {},
   "outputs": [],
   "source": [
    "scaler = StandardScaler() # scale data\n",
    "x_train_scaled = scaler.fit_transform(x_train)\n",
    "x_test_scaled = scaler.transform(x_test)"
   ]
  },
  {
   "cell_type": "code",
   "execution_count": 1345,
   "metadata": {},
   "outputs": [],
   "source": [
    "clf = LogisticRegression(random_state=0).fit(x_train_scaled, y_train)"
   ]
  },
  {
   "cell_type": "code",
   "execution_count": 1346,
   "metadata": {},
   "outputs": [],
   "source": [
    "# Get feature importance (coefficients)\n",
    "feature_importance = clf.coef_[0]"
   ]
  },
  {
   "cell_type": "code",
   "execution_count": 1347,
   "metadata": {},
   "outputs": [],
   "source": [
    "# Pair feature names with their importance\n",
    "features = list(x_train.columns)\n",
    "feature_importance_dict = dict(zip(features, feature_importance))"
   ]
  },
  {
   "cell_type": "code",
   "execution_count": 1348,
   "metadata": {},
   "outputs": [],
   "source": [
    "sorted_features = {k: v for k, v in sorted(feature_importance_dict.items(), key=lambda item: abs(item[1]), reverse=True)}"
   ]
  },
  {
   "cell_type": "code",
   "execution_count": 1349,
   "metadata": {},
   "outputs": [
    {
     "data": {
      "image/png": "[encoded data removed]",
      "text/plain": [
       "<Figure size 1000x600 with 1 Axes>"
      ]
     },
     "metadata": {},
     "output_type": "display_data"
    }
   ],
   "source": [
    "# Convert the dictionary to a DataFrame\n",
    "df_sorted_features = pd.DataFrame(list(sorted_features.items()), columns=['Feature', 'Importance'])\n",
    "\n",
    "# Create the bar chart\n",
    "plt.figure(figsize=(10, 6))\n",
    "plt.barh(df_sorted_features['Feature'], df_sorted_features['Importance'], color='dodgerblue')\n",
    "plt.xlabel('Feature Importance Value')\n",
    "plt.ylabel('Feature')\n",
    "plt.title('Sorted Feature Importances')\n",
    "plt.grid(axis='x')\n",
    "\n",
    "# Show the plot\n",
    "plt.show()"
   ]
  },
  {
   "cell_type": "code",
   "execution_count": 1350,
   "metadata": {},
   "outputs": [
    {
     "data": {
      "text/plain": [
       "array([1, 0, 0, ..., 1, 0, 0], dtype=int64)"
      ]
     },
     "execution_count": 1350,
     "metadata": {},
     "output_type": "execute_result"
    }
   ],
   "source": [
    "# Predict 'is_strike' on the test set\n",
    "y_pred = clf.predict(x_test_scaled)\n",
    "\n",
    "y_pred"
   ]
  },
  {
   "cell_type": "code",
   "execution_count": 1351,
   "metadata": {},
   "outputs": [],
   "source": [
    "# Calculate metrics\n",
    "accuracy = accuracy_score(y_test, y_pred)\n",
    "precision = precision_score(y_test, y_pred)\n",
    "recall = recall_score(y_test, y_pred)\n",
    "f1 = f1_score(y_test, y_pred)\n",
    "conf_matrix = confusion_matrix(y_test, y_pred)\n"
   ]
  },
  {
   "cell_type": "code",
   "execution_count": 1352,
   "metadata": {},
   "outputs": [
    {
     "name": "stdout",
     "output_type": "stream",
     "text": [
      "Accuracy: 0.9064786548432427\n",
      "Precision: 0.9043516677711508\n",
      "Recall: 0.8274607559118776\n",
      "F1: 0.864199268224036\n",
      "Confusion Matrix:\n",
      " [[25132  1299]\n",
      " [ 2561 12282]]\n"
     ]
    }
   ],
   "source": [
    "print('Accuracy:', accuracy)\n",
    "print('Precision:', precision)\n",
    "print('Recall:', recall)\n",
    "print('F1:', f1)\n",
    "print('Confusion Matrix:\\n', conf_matrix)"
   ]
  },
  {
   "cell_type": "code",
   "execution_count": 1330,
   "metadata": {},
   "outputs": [
    {
     "data": {
      "text/html": [
       "<div>\n",
       "<style scoped>\n",
       "    .dataframe tbody tr th:only-of-type {\n",
       "        vertical-align: middle;\n",
       "    }\n",
       "\n",
       "    .dataframe tbody tr th {\n",
       "        vertical-align: top;\n",
       "    }\n",
       "\n",
       "    .dataframe thead th {\n",
       "        text-align: right;\n",
       "    }\n",
       "</style>\n",
       "<table border=\"1\" class=\"dataframe\">\n",
       "  <thead>\n",
       "    <tr style=\"text-align: right;\">\n",
       "      <th></th>\n",
       "      <th>fielder_2</th>\n",
       "      <th>deltaRE</th>\n",
       "      <th>plate_x</th>\n",
       "      <th>sz_top</th>\n",
       "      <th>plate_z</th>\n",
       "      <th>sz_bot</th>\n",
       "    </tr>\n",
       "  </thead>\n",
       "  <tbody>\n",
       "    <tr>\n",
       "      <th>105696</th>\n",
       "      <td>455117</td>\n",
       "      <td>-0.028510</td>\n",
       "      <td>-0.29</td>\n",
       "      <td>3.22</td>\n",
       "      <td>2.92</td>\n",
       "      <td>1.61</td>\n",
       "    </tr>\n",
       "    <tr>\n",
       "      <th>84099</th>\n",
       "      <td>645444</td>\n",
       "      <td>0.071328</td>\n",
       "      <td>1.56</td>\n",
       "      <td>3.39</td>\n",
       "      <td>1.48</td>\n",
       "      <td>1.60</td>\n",
       "    </tr>\n",
       "    <tr>\n",
       "      <th>133770</th>\n",
       "      <td>663728</td>\n",
       "      <td>-0.075513</td>\n",
       "      <td>0.87</td>\n",
       "      <td>3.23</td>\n",
       "      <td>2.32</td>\n",
       "      <td>1.63</td>\n",
       "    </tr>\n",
       "    <tr>\n",
       "      <th>14387</th>\n",
       "      <td>681807</td>\n",
       "      <td>0.153931</td>\n",
       "      <td>0.23</td>\n",
       "      <td>3.37</td>\n",
       "      <td>3.77</td>\n",
       "      <td>1.59</td>\n",
       "    </tr>\n",
       "    <tr>\n",
       "      <th>278027</th>\n",
       "      <td>669127</td>\n",
       "      <td>0.001100</td>\n",
       "      <td>0.09</td>\n",
       "      <td>3.10</td>\n",
       "      <td>4.11</td>\n",
       "      <td>1.52</td>\n",
       "    </tr>\n",
       "  </tbody>\n",
       "</table>\n",
       "</div>"
      ],
      "text/plain": [
       "        fielder_2   deltaRE  plate_x  sz_top  plate_z  sz_bot\n",
       "105696     455117 -0.028510    -0.29    3.22     2.92    1.61\n",
       "84099      645444  0.071328     1.56    3.39     1.48    1.60\n",
       "133770     663728 -0.075513     0.87    3.23     2.32    1.63\n",
       "14387      681807  0.153931     0.23    3.37     3.77    1.59\n",
       "278027     669127  0.001100     0.09    3.10     4.11    1.52"
      ]
     },
     "execution_count": 1330,
     "metadata": {},
     "output_type": "execute_result"
    }
   ],
   "source": [
    "x_test_catchers.head()"
   ]
  },
  {
   "cell_type": "code",
   "execution_count": 1331,
   "metadata": {},
   "outputs": [],
   "source": [
    "\n",
    "result_df = pd.DataFrame({'Actual': y_test, 'Predicted': y_pred})\n",
    "result_df.reset_index(drop=True, inplace=True)\n",
    "x_test_catchers.reset_index(drop=True, inplace=True)\n",
    "result_df = pd.concat([result_df, x_test_catchers.reset_index(drop=True)], axis=1)"
   ]
  },
  {
   "cell_type": "code",
   "execution_count": 1332,
   "metadata": {},
   "outputs": [
    {
     "data": {
      "text/html": [
       "<div>\n",
       "<style scoped>\n",
       "    .dataframe tbody tr th:only-of-type {\n",
       "        vertical-align: middle;\n",
       "    }\n",
       "\n",
       "    .dataframe tbody tr th {\n",
       "        vertical-align: top;\n",
       "    }\n",
       "\n",
       "    .dataframe thead th {\n",
       "        text-align: right;\n",
       "    }\n",
       "</style>\n",
       "<table border=\"1\" class=\"dataframe\">\n",
       "  <thead>\n",
       "    <tr style=\"text-align: right;\">\n",
       "      <th></th>\n",
       "      <th>Actual</th>\n",
       "      <th>Predicted</th>\n",
       "      <th>fielder_2</th>\n",
       "      <th>deltaRE</th>\n",
       "      <th>plate_x</th>\n",
       "      <th>sz_top</th>\n",
       "      <th>plate_z</th>\n",
       "      <th>sz_bot</th>\n",
       "    </tr>\n",
       "  </thead>\n",
       "  <tbody>\n",
       "    <tr>\n",
       "      <th>0</th>\n",
       "      <td>1</td>\n",
       "      <td>1</td>\n",
       "      <td>455117</td>\n",
       "      <td>-0.028510</td>\n",
       "      <td>-0.29</td>\n",
       "      <td>3.22</td>\n",
       "      <td>2.92</td>\n",
       "      <td>1.61</td>\n",
       "    </tr>\n",
       "    <tr>\n",
       "      <th>1</th>\n",
       "      <td>0</td>\n",
       "      <td>0</td>\n",
       "      <td>645444</td>\n",
       "      <td>0.071328</td>\n",
       "      <td>1.56</td>\n",
       "      <td>3.39</td>\n",
       "      <td>1.48</td>\n",
       "      <td>1.60</td>\n",
       "    </tr>\n",
       "    <tr>\n",
       "      <th>2</th>\n",
       "      <td>1</td>\n",
       "      <td>0</td>\n",
       "      <td>663728</td>\n",
       "      <td>-0.075513</td>\n",
       "      <td>0.87</td>\n",
       "      <td>3.23</td>\n",
       "      <td>2.32</td>\n",
       "      <td>1.63</td>\n",
       "    </tr>\n",
       "    <tr>\n",
       "      <th>3</th>\n",
       "      <td>0</td>\n",
       "      <td>0</td>\n",
       "      <td>681807</td>\n",
       "      <td>0.153931</td>\n",
       "      <td>0.23</td>\n",
       "      <td>3.37</td>\n",
       "      <td>3.77</td>\n",
       "      <td>1.59</td>\n",
       "    </tr>\n",
       "    <tr>\n",
       "      <th>4</th>\n",
       "      <td>0</td>\n",
       "      <td>0</td>\n",
       "      <td>669127</td>\n",
       "      <td>0.001100</td>\n",
       "      <td>0.09</td>\n",
       "      <td>3.10</td>\n",
       "      <td>4.11</td>\n",
       "      <td>1.52</td>\n",
       "    </tr>\n",
       "  </tbody>\n",
       "</table>\n",
       "</div>"
      ],
      "text/plain": [
       "   Actual  Predicted  fielder_2   deltaRE  plate_x  sz_top  plate_z  sz_bot\n",
       "0       1          1     455117 -0.028510    -0.29    3.22     2.92    1.61\n",
       "1       0          0     645444  0.071328     1.56    3.39     1.48    1.60\n",
       "2       1          0     663728 -0.075513     0.87    3.23     2.32    1.63\n",
       "3       0          0     681807  0.153931     0.23    3.37     3.77    1.59\n",
       "4       0          0     669127  0.001100     0.09    3.10     4.11    1.52"
      ]
     },
     "execution_count": 1332,
     "metadata": {},
     "output_type": "execute_result"
    }
   ],
   "source": [
    "result_df.head()"
   ]
  },
  {
   "cell_type": "code",
   "execution_count": 1333,
   "metadata": {},
   "outputs": [],
   "source": [
    "# Mask for false negatives\n",
    "mask_false_negatives = (result_df['Actual'] == 1) & (result_df['Predicted'] == 0)\n",
    "\n",
    "# Mask for false positives\n",
    "mask_false_positives = (result_df['Actual'] == 0) & (result_df['Predicted'] == 1)\n",
    "\n",
    "# Filter the DataFrame for false negatives and false positives\n",
    "false_negatives_df = result_df[mask_false_negatives]\n",
    "false_positives_df = result_df[mask_false_positives]\n",
    "\n",
    "# Concatenate the two to create a DataFrame containing both\n",
    "framing = pd.concat([false_negatives_df, false_positives_df])"
   ]
  },
  {
   "cell_type": "code",
   "execution_count": 1334,
   "metadata": {},
   "outputs": [
    {
     "data": {
      "text/plain": [
       "3840"
      ]
     },
     "execution_count": 1334,
     "metadata": {},
     "output_type": "execute_result"
    }
   ],
   "source": [
    "len(framing)"
   ]
  },
  {
   "cell_type": "code",
   "execution_count": 1335,
   "metadata": {},
   "outputs": [],
   "source": [
    "# Create a boolean mask for the conditions\n",
    "condition_mask = (\n",
    "    (framing['plate_x'].abs() <= .708) & \n",
    "    (framing['plate_z'] <= framing['sz_top']) & \n",
    "    (framing['plate_z'] >= framing['sz_bot'])\n",
    ")\n",
    "\n",
    "# Assign 1 or 0 to 'true_strike' based on the conditions\n",
    "framing['true_strike'] = 0  # Initialize all as 0\n",
    "framing.loc[condition_mask, 'true_strike'] = 1  # Set to 1 where conditions are met\n",
    "framing.loc[framing['true_strike'] == 0, 'sum_of_squares'] = ((framing['plate_x']**2 + framing['plate_z']**2)**.5)\n",
    "framing['normalized_sum_of_squares'] = (framing['sum_of_squares'] - framing['sum_of_squares'].min()) / (framing['sum_of_squares'].max() - framing['sum_of_squares'].min())\n",
    "framing['framing_runs'] = framing['deltaRE'] - framing['normalized_sum_of_squares']"
   ]
  },
  {
   "cell_type": "code",
   "execution_count": 1336,
   "metadata": {},
   "outputs": [],
   "source": [
    "players = pd.read_csv('player_query.csv')\n",
    "merged = framing.merge(players, left_on='fielder_2', right_on='mlb_id', how='left')"
   ]
  },
  {
   "cell_type": "code",
   "execution_count": 1337,
   "metadata": {},
   "outputs": [
    {
     "data": {
      "text/plain": [
       "mlb_name\n",
       "Caleb Hamilton       -0.233920\n",
       "Meibrys Viloria      -0.269280\n",
       "Brian Serven         -0.758755\n",
       "Michael Perez        -0.777995\n",
       "Tres Barrera         -0.829619\n",
       "                       ...    \n",
       "Francisco Alvarez   -44.655823\n",
       "Cal Raleigh         -45.078791\n",
       "William Contreras   -46.578102\n",
       "Jonah Heim          -47.966889\n",
       "Shea Langeliers     -48.563665\n",
       "Name: framing_runs, Length: 96, dtype: float64"
      ]
     },
     "execution_count": 1337,
     "metadata": {},
     "output_type": "execute_result"
    }
   ],
   "source": [
    "merged.groupby('mlb_name')['framing_runs'].sum().sort_values(ascending=False)"
   ]
  },
  {
   "cell_type": "code",
   "execution_count": 1134,
   "metadata": {},
   "outputs": [],
   "source": [
    "# Group by 'catcher' and sum 'deltaRE', then filter those with count above 25\n",
    "leaderboard = merged.groupby('mlb_name').agg({'deltaRE': 'sum', 'mlb_name': 'count'})\n",
    "leaderboard.columns = ['Total_deltaRE', 'Count']\n",
    "leaderboard_filtered = leaderboard.sort_values(by='Total_deltaRE', ascending=False)\n",
    "\n",
    "leaderboard_filtered.to_csv('leaderboard_fb.csv')"
   ]
  },
  {
   "attachments": {},
   "cell_type": "markdown",
   "metadata": {},
   "source": [
    "# Off-speed Model"
   ]
  },
  {
   "cell_type": "code",
   "execution_count": 1354,
   "metadata": {},
   "outputs": [],
   "source": [
    "off = offspeed_data.drop(['description', 'half_inning', 'events', 'state', 'game_pk', 'game_date', 'count_state', 'des', 'pitch_type_dict',\n",
    "                     'spin_rate_deprecated', 'break_angle_deprecated', 'break_length_deprecated', 'game_type', 'home_team', 'avg_velo', 'avg_hmov', 'avg_vmov',\n",
    "                     'away_team', 'type', 'bb_type', 'inning_topbot', 'hc_x', 'hc_y', 'tfs_deprecated', 'tfs_zulu_deprecated',\n",
    "                     'hit_distance_sc', 'launch_speed', 'launch_angle', 'estimated_ba_using_speedangle', 'estimated_woba_using_speedangle',\n",
    "                     'woba_value', 'woba_denom', 'babip_value', 'iso_value', 'launch_speed_angle', 'pitch_name', 'home_score', 'away_score',\n",
    "                     'bat_score', 'fld_score', 'post_away_score', 'post_home_score', 'post_bat_score', 'post_fld_score',\n",
    "                      'if_fielding_alignment', 'of_fielding_alignment', 'delta_home_win_exp', 'delta_run_exp', 'total_runs', 'max_runs_in_half_inning', 'next_runs',\n",
    "                      'runner_state', 'half_inning.1', 'player_name', 'hit_location', 'umpire', 'sv_id', 'spin_dir', 'roi_score', 'Unnamed: 1',\n",
    "                      'pitch_type', 'fielder_2.1', 'pitcher.1', 'fielder_3', 'fielder_4', 'fielder_5', 'fielder_6', 'fielder_7', 'fielder_8', \n",
    "                      'fielder_9', 'batter', 'pitcher', 'on_3b', 'on_2b', 'on_1b', 'game_year', 'outs_when_up', 'RE','pitch_number',  'at_bat_number', 'inning',\n",
    "                      #removed these columns because of collinearity\n",
    "                      'release_speed', 'effective_speed', 'release_pos_y', 'az', 'vy0', 'vx0', 'release_pos_z',  'release_extension', 'ay', 'p_throws', 'release_spin_rate', \n",
    "                      'vmov_diff', 'hmov_diff', 'spin_axis',\n",
    "                      # 'sz_bot', 'ax', 'ay', 'az',\n",
    "                      #'release_spin_rate', 'p_throws', 'spin_axis', 'zone',\n",
    "                      #removed these columns because they are not useful\n",
    "                      'pfx_x', 'pfx_z', 'release_pos_x', 'velo_diff', 'total_movement', 'ax', 'vz0', 'stand', 'balls'\n",
    "                      ], axis=1).copy()"
   ]
  },
  {
   "cell_type": "code",
   "execution_count": 1355,
   "metadata": {},
   "outputs": [],
   "source": [
    "s = off.dropna()"
   ]
  },
  {
   "cell_type": "code",
   "execution_count": 1356,
   "metadata": {},
   "outputs": [
    {
     "data": {
      "text/html": [
       "<div>\n",
       "<style scoped>\n",
       "    .dataframe tbody tr th:only-of-type {\n",
       "        vertical-align: middle;\n",
       "    }\n",
       "\n",
       "    .dataframe tbody tr th {\n",
       "        vertical-align: top;\n",
       "    }\n",
       "\n",
       "    .dataframe thead th {\n",
       "        text-align: right;\n",
       "    }\n",
       "</style>\n",
       "<table border=\"1\" class=\"dataframe\">\n",
       "  <thead>\n",
       "    <tr style=\"text-align: right;\">\n",
       "      <th></th>\n",
       "      <th>half_inning</th>\n",
       "      <th>Unnamed: 1</th>\n",
       "      <th>pitch_type</th>\n",
       "      <th>game_date</th>\n",
       "      <th>release_speed</th>\n",
       "      <th>release_pos_x</th>\n",
       "      <th>release_pos_z</th>\n",
       "      <th>player_name</th>\n",
       "      <th>batter</th>\n",
       "      <th>pitcher</th>\n",
       "      <th>...</th>\n",
       "      <th>is_strike</th>\n",
       "      <th>pitch_type_dict</th>\n",
       "      <th>velo_diff</th>\n",
       "      <th>hmov_diff</th>\n",
       "      <th>vmov_diff</th>\n",
       "      <th>likely_strike</th>\n",
       "      <th>avg_velo</th>\n",
       "      <th>avg_hmov</th>\n",
       "      <th>avg_vmov</th>\n",
       "      <th>total_movement</th>\n",
       "    </tr>\n",
       "  </thead>\n",
       "  <tbody>\n",
       "    <tr>\n",
       "      <th>3</th>\n",
       "      <td>716352_1_Bot</td>\n",
       "      <td>5</td>\n",
       "      <td>ST</td>\n",
       "      <td>2023-10-01</td>\n",
       "      <td>81.9</td>\n",
       "      <td>-2.67</td>\n",
       "      <td>5.47</td>\n",
       "      <td>King, Michael</td>\n",
       "      <td>677951</td>\n",
       "      <td>650633</td>\n",
       "      <td>...</td>\n",
       "      <td>0</td>\n",
       "      <td>2</td>\n",
       "      <td>-12.402347</td>\n",
       "      <td>2.503069</td>\n",
       "      <td>-0.745325</td>\n",
       "      <td>0</td>\n",
       "      <td>94.302347</td>\n",
       "      <td>-1.063069</td>\n",
       "      <td>0.785325</td>\n",
       "      <td>1.48</td>\n",
       "    </tr>\n",
       "    <tr>\n",
       "      <th>11</th>\n",
       "      <td>716352_1_Top</td>\n",
       "      <td>19</td>\n",
       "      <td>CU</td>\n",
       "      <td>2023-10-01</td>\n",
       "      <td>70.3</td>\n",
       "      <td>-1.17</td>\n",
       "      <td>6.16</td>\n",
       "      <td>Greinke, Zack</td>\n",
       "      <td>683011</td>\n",
       "      <td>425844</td>\n",
       "      <td>...</td>\n",
       "      <td>0</td>\n",
       "      <td>2</td>\n",
       "      <td>-18.803535</td>\n",
       "      <td>1.348232</td>\n",
       "      <td>-1.857795</td>\n",
       "      <td>0</td>\n",
       "      <td>89.103535</td>\n",
       "      <td>-0.488232</td>\n",
       "      <td>1.037795</td>\n",
       "      <td>1.68</td>\n",
       "    </tr>\n",
       "    <tr>\n",
       "      <th>12</th>\n",
       "      <td>716352_1_Top</td>\n",
       "      <td>14</td>\n",
       "      <td>SL</td>\n",
       "      <td>2023-10-01</td>\n",
       "      <td>78.9</td>\n",
       "      <td>-1.41</td>\n",
       "      <td>6.10</td>\n",
       "      <td>Greinke, Zack</td>\n",
       "      <td>643396</td>\n",
       "      <td>425844</td>\n",
       "      <td>...</td>\n",
       "      <td>1</td>\n",
       "      <td>2</td>\n",
       "      <td>-10.203535</td>\n",
       "      <td>1.798232</td>\n",
       "      <td>-1.317795</td>\n",
       "      <td>1</td>\n",
       "      <td>89.103535</td>\n",
       "      <td>-0.488232</td>\n",
       "      <td>1.037795</td>\n",
       "      <td>1.59</td>\n",
       "    </tr>\n",
       "    <tr>\n",
       "      <th>21</th>\n",
       "      <td>716352_2_Top</td>\n",
       "      <td>52</td>\n",
       "      <td>CU</td>\n",
       "      <td>2023-10-01</td>\n",
       "      <td>70.3</td>\n",
       "      <td>-1.30</td>\n",
       "      <td>6.18</td>\n",
       "      <td>Greinke, Zack</td>\n",
       "      <td>665828</td>\n",
       "      <td>425844</td>\n",
       "      <td>...</td>\n",
       "      <td>0</td>\n",
       "      <td>2</td>\n",
       "      <td>-18.803535</td>\n",
       "      <td>1.288232</td>\n",
       "      <td>-1.897795</td>\n",
       "      <td>0</td>\n",
       "      <td>89.103535</td>\n",
       "      <td>-0.488232</td>\n",
       "      <td>1.037795</td>\n",
       "      <td>1.66</td>\n",
       "    </tr>\n",
       "    <tr>\n",
       "      <th>22</th>\n",
       "      <td>716352_2_Top</td>\n",
       "      <td>51</td>\n",
       "      <td>SL</td>\n",
       "      <td>2023-10-01</td>\n",
       "      <td>76.8</td>\n",
       "      <td>-1.38</td>\n",
       "      <td>6.19</td>\n",
       "      <td>Greinke, Zack</td>\n",
       "      <td>665828</td>\n",
       "      <td>425844</td>\n",
       "      <td>...</td>\n",
       "      <td>0</td>\n",
       "      <td>2</td>\n",
       "      <td>-12.303535</td>\n",
       "      <td>1.878232</td>\n",
       "      <td>-1.077795</td>\n",
       "      <td>0</td>\n",
       "      <td>89.103535</td>\n",
       "      <td>-0.488232</td>\n",
       "      <td>1.037795</td>\n",
       "      <td>1.43</td>\n",
       "    </tr>\n",
       "  </tbody>\n",
       "</table>\n",
       "<p>5 rows × 114 columns</p>\n",
       "</div>"
      ],
      "text/plain": [
       "     half_inning  Unnamed: 1 pitch_type   game_date  release_speed  \\\n",
       "3   716352_1_Bot           5         ST  2023-10-01           81.9   \n",
       "11  716352_1_Top          19         CU  2023-10-01           70.3   \n",
       "12  716352_1_Top          14         SL  2023-10-01           78.9   \n",
       "21  716352_2_Top          52         CU  2023-10-01           70.3   \n",
       "22  716352_2_Top          51         SL  2023-10-01           76.8   \n",
       "\n",
       "    release_pos_x  release_pos_z    player_name  batter  pitcher  ...  \\\n",
       "3           -2.67           5.47  King, Michael  677951   650633  ...   \n",
       "11          -1.17           6.16  Greinke, Zack  683011   425844  ...   \n",
       "12          -1.41           6.10  Greinke, Zack  643396   425844  ...   \n",
       "21          -1.30           6.18  Greinke, Zack  665828   425844  ...   \n",
       "22          -1.38           6.19  Greinke, Zack  665828   425844  ...   \n",
       "\n",
       "   is_strike pitch_type_dict  velo_diff  hmov_diff  vmov_diff  likely_strike  \\\n",
       "3          0               2 -12.402347   2.503069  -0.745325              0   \n",
       "11         0               2 -18.803535   1.348232  -1.857795              0   \n",
       "12         1               2 -10.203535   1.798232  -1.317795              1   \n",
       "21         0               2 -18.803535   1.288232  -1.897795              0   \n",
       "22         0               2 -12.303535   1.878232  -1.077795              0   \n",
       "\n",
       "     avg_velo  avg_hmov  avg_vmov  total_movement  \n",
       "3   94.302347 -1.063069  0.785325            1.48  \n",
       "11  89.103535 -0.488232  1.037795            1.68  \n",
       "12  89.103535 -0.488232  1.037795            1.59  \n",
       "21  89.103535 -0.488232  1.037795            1.66  \n",
       "22  89.103535 -0.488232  1.037795            1.43  \n",
       "\n",
       "[5 rows x 114 columns]"
      ]
     },
     "execution_count": 1356,
     "metadata": {},
     "output_type": "execute_result"
    }
   ],
   "source": [
    "offspeed_data.head()"
   ]
  },
  {
   "cell_type": "code",
   "execution_count": 1357,
   "metadata": {},
   "outputs": [],
   "source": [
    "x2 = s.drop(['is_strike'], axis=1).copy()\n",
    "y2 = s['is_strike'].copy()"
   ]
  },
  {
   "cell_type": "code",
   "execution_count": 1358,
   "metadata": {},
   "outputs": [],
   "source": [
    "x_train1, x_test1, y_train1, y_test1 = train_test_split(x2, y2, test_size=0.2, random_state=42) # split data"
   ]
  },
  {
   "cell_type": "code",
   "execution_count": 1359,
   "metadata": {},
   "outputs": [],
   "source": [
    "# Extracting 'fielder_2' and 'deltaRE' into separate DataFrames\n",
    "x_train_catchers1 = x_train1[['fielder_2', 'deltaRE', 'plate_x', 'plate_z', 'sz_top', 'sz_bot']].copy()\n",
    "x_test_catchers1 = x_test1[['fielder_2', 'deltaRE', 'plate_x', 'sz_top', 'plate_z', 'sz_bot']].copy()\n",
    "\n",
    "# Dropping 'fielder_2' and 'deltaRE' columns from the original DataFrames\n",
    "x_train1.drop(['fielder_2', 'deltaRE', 'plate_x', 'sz_top', 'sz_bot'], axis=1, inplace=True)\n",
    "x_test1.drop(['fielder_2', 'deltaRE', 'plate_x', 'sz_top', 'sz_bot'], axis=1, inplace=True)"
   ]
  },
  {
   "cell_type": "code",
   "execution_count": 1360,
   "metadata": {},
   "outputs": [
    {
     "name": "stdout",
     "output_type": "stream",
     "text": [
      "         feature       VIF\n",
      "0           zone  3.736509\n",
      "1        strikes  2.167366\n",
      "2        plate_z  3.117366\n",
      "3  likely_strike  1.453816\n"
     ]
    }
   ],
   "source": [
    "vif_data1 = pd.DataFrame()\n",
    "vif_data1[\"feature\"] = x_train1.columns\n",
    "\n",
    "# Calculating VIF for each feature\n",
    "vif_data1[\"VIF\"] = [variance_inflation_factor(x_train1.values, i) for i in range(len(x_train1.columns))]\n",
    "print(vif_data1)"
   ]
  },
  {
   "cell_type": "code",
   "execution_count": 1361,
   "metadata": {},
   "outputs": [],
   "source": [
    "x_train_scaled_1 = scaler.fit_transform(x_train1)\n",
    "x_test_scaled_1 = scaler.transform(x_test1)"
   ]
  },
  {
   "cell_type": "code",
   "execution_count": 1362,
   "metadata": {},
   "outputs": [],
   "source": [
    "clf1 = LogisticRegression(random_state=0).fit(x_train_scaled_1, y_train1)"
   ]
  },
  {
   "cell_type": "code",
   "execution_count": 1363,
   "metadata": {},
   "outputs": [],
   "source": [
    "# Get feature importance (coefficients)\n",
    "feature_importance1 = clf1.coef_[0]"
   ]
  },
  {
   "cell_type": "code",
   "execution_count": 1364,
   "metadata": {},
   "outputs": [],
   "source": [
    "# Pair feature names with their importance\n",
    "features1 = list(x_train1.columns)\n",
    "feature_importance_dict1 = dict(zip(features1, feature_importance1))"
   ]
  },
  {
   "cell_type": "code",
   "execution_count": 1365,
   "metadata": {},
   "outputs": [],
   "source": [
    "sorted_features1 = {k: v for k, v in sorted(feature_importance_dict1.items(), key=lambda item: abs(item[1]), reverse=True)}"
   ]
  },
  {
   "cell_type": "code",
   "execution_count": 1366,
   "metadata": {},
   "outputs": [
    {
     "data": {
      "image/png": "[encoded data removed]",
      "text/plain": [
       "<Figure size 1000x600 with 1 Axes>"
      ]
     },
     "metadata": {},
     "output_type": "display_data"
    }
   ],
   "source": [
    "# Convert the dictionary to a DataFrame\n",
    "df_sorted_features1 = pd.DataFrame(list(sorted_features1.items()), columns=['Feature', 'Importance'])\n",
    "\n",
    "# Create the bar chart\n",
    "plt.figure(figsize=(10, 6))\n",
    "plt.barh(df_sorted_features1['Feature'], df_sorted_features1['Importance'], color='dodgerblue')\n",
    "plt.xlabel('Feature Importance Value')\n",
    "plt.ylabel('Feature')\n",
    "plt.title('Sorted Feature Importances')\n",
    "plt.grid(axis='x')\n",
    "\n",
    "# Show the plot\n",
    "plt.show()"
   ]
  },
  {
   "cell_type": "code",
   "execution_count": 1367,
   "metadata": {},
   "outputs": [
    {
     "data": {
      "text/plain": [
       "array([0, 1, 1, ..., 0, 1, 0], dtype=int64)"
      ]
     },
     "execution_count": 1367,
     "metadata": {},
     "output_type": "execute_result"
    }
   ],
   "source": [
    "# Predict 'is_strike' on the test set\n",
    "y_pred1 = clf1.predict(x_test_scaled_1)\n",
    "\n",
    "y_pred1"
   ]
  },
  {
   "cell_type": "code",
   "execution_count": 1368,
   "metadata": {},
   "outputs": [],
   "source": [
    "# Calculate metrics\n",
    "accuracy1 = accuracy_score(y_test1, y_pred1)\n",
    "precision1 = precision_score(y_test1, y_pred1)\n",
    "recall1 = recall_score(y_test1, y_pred1)\n",
    "f11 = f1_score(y_test1, y_pred1)\n",
    "conf_matrix1 = confusion_matrix(y_test1, y_pred1)"
   ]
  },
  {
   "cell_type": "code",
   "execution_count": 1369,
   "metadata": {},
   "outputs": [
    {
     "name": "stdout",
     "output_type": "stream",
     "text": [
      "Accuracy: 0.9270589763574955\n",
      "Precision: 0.9233287171094046\n",
      "Recall: 0.8175231300858321\n",
      "F1: 0.8672105947735603\n",
      "Confusion Matrix:\n",
      " [[21212   609]\n",
      " [ 1637  7334]]\n"
     ]
    }
   ],
   "source": [
    "\n",
    "print('Accuracy:', accuracy1)\n",
    "print('Precision:', precision1)\n",
    "print('Recall:', recall1)\n",
    "print('F1:', f11)\n",
    "print('Confusion Matrix:\\n', conf_matrix1)\n",
    "results_df = pd.DataFrame({'Actual': y_test1, 'Predicted': y_pred1})\n",
    "results_df.reset_index(drop=True, inplace=True)\n",
    "x_test_catchers.reset_index(drop=True, inplace=True)\n",
    "results_df = pd.concat([results_df, x_test_catchers.reset_index(drop=True)], axis=1)"
   ]
  },
  {
   "cell_type": "code",
   "execution_count": 1297,
   "metadata": {},
   "outputs": [],
   "source": [
    "# Mask for false negatives\n",
    "mask_false_negatives_o = (results_df['Actual'] == 1) & (results_df['Predicted'] == 0)\n",
    "# Mask for false positives\n",
    "mask_false_positives_o = (results_df['Actual'] == 0) & (results_df['Predicted'] == 1)\n",
    "\n",
    "# Filter the DataFrame for false negatives and false positives\n",
    "false_negatives_df_o = result_df[mask_false_negatives_o]\n",
    "false_positives_df_o = result_df[mask_false_positives_o]\n",
    "\n",
    "# Concatenate the two to create a DataFrame containing both\n",
    "framing_o = pd.concat([false_negatives_df_o, false_positives_df_o])# Create a boolean mask for the conditions"
   ]
  },
  {
   "cell_type": "code",
   "execution_count": 1298,
   "metadata": {},
   "outputs": [],
   "source": [
    "# Create a boolean mask for the conditions\n",
    "condition_mask = (\n",
    "    (framing_o['plate_x'].abs() <= .708) & \n",
    "    (framing_o['plate_z'] <= framing_o['sz_top']) & \n",
    "    (framing_o['plate_z'] >= framing_o['sz_bot'])\n",
    ")\n",
    "# Assign 1 or 0 to 'true_strike' based on the conditions calculated before\n",
    "framing_o['true_strike'] = 0  # Initialize all as 0\n",
    "framing_o.loc[condition_mask, 'true_strike'] = 1  # Set to 1 where conditions are met\n",
    "framing_o.loc[framing_o['true_strike'] == 0, 'sum_of_squares'] = ((framing_o['plate_x']**2 + framing_o['plate_z']**2)**.5)\n",
    "framing_o['normalized_sum_of_squares'] = (framing_o['sum_of_squares'] - framing_o['sum_of_squares'].min()) / (framing_o['sum_of_squares'].max() - framing_o['sum_of_squares'].min())\n",
    "framing_o['framing_runs'] = framing_o['deltaRE'] - framing_o['normalized_sum_of_squares']"
   ]
  },
  {
   "attachments": {},
   "cell_type": "markdown",
   "metadata": {},
   "source": [
    "# Catcher Leaders"
   ]
  },
  {
   "cell_type": "code",
   "execution_count": 1376,
   "metadata": {},
   "outputs": [
    {
     "name": "stdout",
     "output_type": "stream",
     "text": [
      "6102\n"
     ]
    }
   ],
   "source": [
    "total_framing = pd.concat([framing, framing_o])\n",
    "print(len(total_framing))"
   ]
  },
  {
   "cell_type": "code",
   "execution_count": 1372,
   "metadata": {},
   "outputs": [],
   "source": [
    "players = pd.read_csv('player_query.csv')\n",
    "merged = total_framing.merge(players, left_on='fielder_2', right_on='mlb_id', how='left')"
   ]
  },
  {
   "cell_type": "code",
   "execution_count": 1378,
   "metadata": {},
   "outputs": [],
   "source": [
    "# Step 1: Group by 'mlb_name' and sum 'deltaRE', then filter those with count above 25\n",
    "leaderboard = merged.groupby('mlb_name').agg({'deltaRE': 'sum', 'mlb_name': 'count'})\n",
    "leaderboard.columns = ['Total_deltaRE', 'Count']\n",
    "# Filtering: Remove catchers with fewer than 25 occurrences\n",
    "leaderboard_filtered = leaderboard[leaderboard['Count'] >= 25].copy()\n",
    "\n",
    "# Step 2: Multiply Total_deltaRE by -1\n",
    "leaderboard_filtered['Total_deltaRE'] = leaderboard_filtered['Total_deltaRE'] * -1\n",
    "\n",
    "# Step 3: Calculate the league average deltaRE\n",
    "# Note: You might want to filter out catchers with low counts before calculating the average\n",
    "average_deltaRE = leaderboard_filtered['Total_deltaRE'].mean()\n",
    "\n",
    "# Step 4: Compute Framing Runs Above Average\n",
    "leaderboard_filtered['Framing_Runs_Above_Average'] = leaderboard_filtered['Total_deltaRE'] - average_deltaRE\n",
    "\n",
    "# Sort the leaderboard based on Framing Runs Above Average\n",
    "leaderboard_filtereds = leaderboard_filtered.sort_values(by='Framing_Runs_Above_Average', ascending=False)\n",
    "\n",
    "# Save to CSV\n",
    "leaderboard_filtereds.to_csv('leaderboard_framing_runs_above_average.csv')"
   ]
  },
  {
   "cell_type": "code",
   "execution_count": 1380,
   "metadata": {},
   "outputs": [
    {
     "name": "stdout",
     "output_type": "stream",
     "text": [
      "                   Total_deltaRE  Count  Framing_Runs_Above_Average\n",
      "mlb_name                                                           \n",
      "Jake Rogers             5.822795    129                    4.343636\n",
      "Cal Raleigh             5.314964    134                    3.835806\n",
      "Jonah Heim              4.422283    157                    2.943125\n",
      "Francisco Alvarez       4.291230    132                    2.812071\n",
      "William Contreras       4.151865    158                    2.672706\n",
      "...                          ...    ...                         ...\n",
      "Luis Campusano         -0.428603     53                   -1.907762\n",
      "Chad Wallach           -0.759540     42                   -2.238699\n",
      "Riley Adams            -1.028841     56                   -2.507999\n",
      "Martin Maldonado       -1.041293    133                   -2.520451\n",
      "Logan OHoppe           -1.151044     70                   -2.630203\n",
      "\n",
      "[72 rows x 3 columns]\n"
     ]
    }
   ],
   "source": [
    "print(leaderboard_filtereds)"
   ]
  },
  {
   "cell_type": "code",
   "execution_count": null,
   "metadata": {},
   "outputs": [],
   "source": []
  }
 ],
 "metadata": {
  "kernelspec": {
   "display_name": "Python 3",
   "language": "python",
   "name": "python3"
  },
  "language_info": {
   "codemirror_mode": {
    "name": "ipython",
    "version": 3
   },
   "file_extension": ".py",
   "mimetype": "text/x-python",
   "name": "python",
   "nbconvert_exporter": "python",
   "pygments_lexer": "ipython3",
   "version": "3.11.5"
  },
  "orig_nbformat": 4
 },
 "nbformat": 4,
 "nbformat_minor": 2
}
