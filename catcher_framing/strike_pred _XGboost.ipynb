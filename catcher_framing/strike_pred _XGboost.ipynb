{
 "cells": [
  {
   "cell_type": "code",
   "execution_count": 3,
   "metadata": {},
   "outputs": [],
   "source": [
    "import pandas as pd\n",
    "from sklearn.model_selection import train_test_split\n",
    "import optuna\n",
    "import matplotlib.pyplot as plt\n",
    "import numpy as np\n",
    "from sklearn.metrics import accuracy_score, precision_score, recall_score, f1_score, confusion_matrix, log_loss\n",
    "import xgboost as xgb\n",
    "import pybaseball as pb"
   ]
  },
  {
   "cell_type": "code",
   "execution_count": 4,
   "metadata": {},
   "outputs": [],
   "source": [
    "# Read in the 2022 data, use this for training\n",
    "datas = pd.read_csv(\"Y:/departments/research_and_development/baseball_operations/clayton_goodiez/csv/2022_data.csv\")"
   ]
  },
  {
   "cell_type": "code",
   "execution_count": 5,
   "metadata": {},
   "outputs": [],
   "source": [
    "#use this for predictions\n",
    "df = pd.read_csv(\"Y:/departments/research_and_development/baseball_operations/clayton_goodiez/csv/deltaRE_og_description.csv\")"
   ]
  },
  {
   "cell_type": "code",
   "execution_count": 6,
   "metadata": {},
   "outputs": [],
   "source": [
    "model_data = datas.loc[(datas['description'] == 'called_strike') | (datas['description'] == 'ball')].copy() # only called strikes and balls\n",
    "df = df.loc[(df['description'] == 'called_strike') | (df['description'] == 'ball')].copy() # only called strikes and balls"
   ]
  },
  {
   "cell_type": "code",
   "execution_count": 7,
   "metadata": {},
   "outputs": [],
   "source": [
    "model_data['is_strike'] = model_data['description'].map({'called_strike': 1, 'ball': 0}) # convert to binary\n",
    "model_data['p_throws'] = model_data['p_throws'].map({'R': 1, 'L': 0}) # convert to binary\n",
    "model_data['stand'] = model_data['stand'].map({'R': 1, 'L': 0}) # convert to binary\n",
    "df['is_strike'] = df['description'].map({'called_strike': 1, 'ball': 0}) # convert to binary\n",
    "df['p_throws'] = df['p_throws'].map({'R': 1, 'L': 0}) # convert to binary\n",
    "df['stand'] = df['stand'].map({'R': 1, 'L': 0}) # convert to binary"
   ]
  },
  {
   "cell_type": "markdown",
   "metadata": {},
   "source": [
    "# CHANGE PITCH TYPE CLASSIFICATION BASED ON YEAR"
   ]
  },
  {
   "cell_type": "code",
   "execution_count": 8,
   "metadata": {},
   "outputs": [
    {
     "data": {
      "text/plain": [
       "array(['FF', 'SI', 'KC', 'SL', 'FS', 'CU', 'CH', 'FC', 'ST', 'SV', 'CS',\n",
       "       nan, 'FA', 'EP', 'KN'], dtype=object)"
      ]
     },
     "execution_count": 8,
     "metadata": {},
     "output_type": "execute_result"
    }
   ],
   "source": [
    "model_data['pitch_type'].unique()"
   ]
  },
  {
   "cell_type": "code",
   "execution_count": 9,
   "metadata": {},
   "outputs": [],
   "source": [
    "#map pitch types to numbers\n",
    "pitch_type_dict = {'FF': 1, 'SL': 2, 'CH': 2, 'CU': 2, 'SI': 1, 'FC': 1, 'KC': 2, 'FS': 2, 'KN': 2, 'EP': 2, 'FO': 2, 'SC': 2, 'ST': 2, 'FA': 1, 'SV': 2, 'CS': 2, 'nan': 17}\n",
    "df['pitch_type_dict'] = df['pitch_type'].map(pitch_type_dict)\n",
    "model_data['pitch_type_dict'] = model_data['pitch_type'].map(pitch_type_dict)"
   ]
  },
  {
   "cell_type": "code",
   "execution_count": 10,
   "metadata": {},
   "outputs": [
    {
     "data": {
      "text/plain": [
       "pitch_type_dict\n",
       "1.0    208736\n",
       "2.0    152322\n",
       "Name: count, dtype: int64"
      ]
     },
     "execution_count": 10,
     "metadata": {},
     "output_type": "execute_result"
    }
   ],
   "source": [
    "model_data['pitch_type_dict'].value_counts()"
   ]
  },
  {
   "cell_type": "code",
   "execution_count": 11,
   "metadata": {},
   "outputs": [],
   "source": [
    "model_data.loc[model_data['p_throws'] == 'L', 'pfx_x'] *= -1"
   ]
  },
  {
   "cell_type": "code",
   "execution_count": 12,
   "metadata": {},
   "outputs": [],
   "source": [
    "fastball_data = model_data[model_data['pitch_type_dict'] == 1]\n",
    "avg_values = fastball_data.groupby('pitcher').agg({\n",
    "    'release_speed': 'mean',\n",
    "    'pfx_x': 'mean',\n",
    "    'pfx_z': 'mean'\n",
    "}).reset_index()\n",
    "avg_values.columns = ['pitcher', 'avg_velo', 'avg_hmov', 'avg_vmov']"
   ]
  },
  {
   "cell_type": "code",
   "execution_count": 13,
   "metadata": {},
   "outputs": [],
   "source": [
    "model_data = pd.merge(model_data, avg_values, on='pitcher', how='left')"
   ]
  },
  {
   "cell_type": "code",
   "execution_count": 14,
   "metadata": {},
   "outputs": [],
   "source": [
    "model_data['velo_diff'] = model_data['release_speed'] - model_data['avg_velo']\n",
    "model_data['hmov_diff'] = model_data['pfx_x'] - model_data['avg_hmov']\n",
    "model_data['vmov_diff'] = model_data['pfx_z'] - model_data['avg_vmov']\n",
    "model_data['total_movement'] = model_data['pfx_x'].abs() + model_data['pfx_z'].abs()"
   ]
  },
  {
   "cell_type": "code",
   "execution_count": 15,
   "metadata": {},
   "outputs": [],
   "source": [
    "model_data['likely_strike'] = ((model_data['plate_x'].abs() <= .708) & \n",
    "                               (model_data['plate_z'] <= model_data['sz_top']) & \n",
    "                               (model_data['plate_z'] >= model_data['sz_bot'])).astype(int)\n",
    "df['likely_strike'] = ((df['plate_x'].abs() <= .708) &\n",
    "                          (df['plate_z'] <= df['sz_top']) &\n",
    "                            (df['plate_z'] >= df['sz_bot'])).astype(int)\n"
   ]
  },
  {
   "cell_type": "code",
   "execution_count": 16,
   "metadata": {},
   "outputs": [],
   "source": [
    "fastball_data = model_data[model_data['pitch_type_dict'] == 1].copy()\n",
    "offspeed_data = model_data[model_data['pitch_type_dict'] == 2].copy()"
   ]
  },
  {
   "cell_type": "code",
   "execution_count": 17,
   "metadata": {},
   "outputs": [
    {
     "data": {
      "text/html": [
       "<div>\n",
       "<style scoped>\n",
       "    .dataframe tbody tr th:only-of-type {\n",
       "        vertical-align: middle;\n",
       "    }\n",
       "\n",
       "    .dataframe tbody tr th {\n",
       "        vertical-align: top;\n",
       "    }\n",
       "\n",
       "    .dataframe thead th {\n",
       "        text-align: right;\n",
       "    }\n",
       "</style>\n",
       "<table border=\"1\" class=\"dataframe\">\n",
       "  <thead>\n",
       "    <tr style=\"text-align: right;\">\n",
       "      <th></th>\n",
       "      <th>Unnamed: 0</th>\n",
       "      <th>pitch_type</th>\n",
       "      <th>game_date</th>\n",
       "      <th>release_speed</th>\n",
       "      <th>release_pos_x</th>\n",
       "      <th>release_pos_z</th>\n",
       "      <th>player_name</th>\n",
       "      <th>batter</th>\n",
       "      <th>pitcher</th>\n",
       "      <th>events</th>\n",
       "      <th>...</th>\n",
       "      <th>is_strike</th>\n",
       "      <th>pitch_type_dict</th>\n",
       "      <th>avg_velo</th>\n",
       "      <th>avg_hmov</th>\n",
       "      <th>avg_vmov</th>\n",
       "      <th>velo_diff</th>\n",
       "      <th>hmov_diff</th>\n",
       "      <th>vmov_diff</th>\n",
       "      <th>total_movement</th>\n",
       "      <th>likely_strike</th>\n",
       "    </tr>\n",
       "  </thead>\n",
       "  <tbody>\n",
       "    <tr>\n",
       "      <th>0</th>\n",
       "      <td>3837</td>\n",
       "      <td>FF</td>\n",
       "      <td>2022-04-30</td>\n",
       "      <td>93.2</td>\n",
       "      <td>-1.70</td>\n",
       "      <td>6.00</td>\n",
       "      <td>Sawamura, Hirokazu</td>\n",
       "      <td>455139</td>\n",
       "      <td>617228</td>\n",
       "      <td>NaN</td>\n",
       "      <td>...</td>\n",
       "      <td>0</td>\n",
       "      <td>1.0</td>\n",
       "      <td>95.837788</td>\n",
       "      <td>-0.734424</td>\n",
       "      <td>1.317788</td>\n",
       "      <td>-2.637788</td>\n",
       "      <td>0.064424</td>\n",
       "      <td>0.072212</td>\n",
       "      <td>2.06</td>\n",
       "      <td>0</td>\n",
       "    </tr>\n",
       "    <tr>\n",
       "      <th>1</th>\n",
       "      <td>4047</td>\n",
       "      <td>FF</td>\n",
       "      <td>2022-04-30</td>\n",
       "      <td>92.7</td>\n",
       "      <td>-1.44</td>\n",
       "      <td>5.96</td>\n",
       "      <td>Sawamura, Hirokazu</td>\n",
       "      <td>455139</td>\n",
       "      <td>617228</td>\n",
       "      <td>NaN</td>\n",
       "      <td>...</td>\n",
       "      <td>0</td>\n",
       "      <td>1.0</td>\n",
       "      <td>95.837788</td>\n",
       "      <td>-0.734424</td>\n",
       "      <td>1.317788</td>\n",
       "      <td>-3.137788</td>\n",
       "      <td>0.174424</td>\n",
       "      <td>-0.047788</td>\n",
       "      <td>1.83</td>\n",
       "      <td>0</td>\n",
       "    </tr>\n",
       "    <tr>\n",
       "      <th>2</th>\n",
       "      <td>2453</td>\n",
       "      <td>FF</td>\n",
       "      <td>2022-04-30</td>\n",
       "      <td>97.6</td>\n",
       "      <td>-2.02</td>\n",
       "      <td>6.13</td>\n",
       "      <td>López, Jorge</td>\n",
       "      <td>593428</td>\n",
       "      <td>605347</td>\n",
       "      <td>walk</td>\n",
       "      <td>...</td>\n",
       "      <td>0</td>\n",
       "      <td>1.0</td>\n",
       "      <td>97.617891</td>\n",
       "      <td>-1.386102</td>\n",
       "      <td>0.716230</td>\n",
       "      <td>-0.017891</td>\n",
       "      <td>0.656102</td>\n",
       "      <td>0.783770</td>\n",
       "      <td>2.23</td>\n",
       "      <td>0</td>\n",
       "    </tr>\n",
       "    <tr>\n",
       "      <th>3</th>\n",
       "      <td>2480</td>\n",
       "      <td>SI</td>\n",
       "      <td>2022-04-30</td>\n",
       "      <td>98.1</td>\n",
       "      <td>-2.00</td>\n",
       "      <td>6.12</td>\n",
       "      <td>López, Jorge</td>\n",
       "      <td>593428</td>\n",
       "      <td>605347</td>\n",
       "      <td>NaN</td>\n",
       "      <td>...</td>\n",
       "      <td>0</td>\n",
       "      <td>1.0</td>\n",
       "      <td>97.617891</td>\n",
       "      <td>-1.386102</td>\n",
       "      <td>0.716230</td>\n",
       "      <td>0.482109</td>\n",
       "      <td>0.106102</td>\n",
       "      <td>0.223770</td>\n",
       "      <td>2.22</td>\n",
       "      <td>0</td>\n",
       "    </tr>\n",
       "    <tr>\n",
       "      <th>5</th>\n",
       "      <td>2943</td>\n",
       "      <td>SI</td>\n",
       "      <td>2022-04-30</td>\n",
       "      <td>97.9</td>\n",
       "      <td>-1.84</td>\n",
       "      <td>6.14</td>\n",
       "      <td>López, Jorge</td>\n",
       "      <td>596115</td>\n",
       "      <td>605347</td>\n",
       "      <td>NaN</td>\n",
       "      <td>...</td>\n",
       "      <td>0</td>\n",
       "      <td>1.0</td>\n",
       "      <td>97.617891</td>\n",
       "      <td>-1.386102</td>\n",
       "      <td>0.716230</td>\n",
       "      <td>0.282109</td>\n",
       "      <td>0.116102</td>\n",
       "      <td>0.303770</td>\n",
       "      <td>2.29</td>\n",
       "      <td>0</td>\n",
       "    </tr>\n",
       "  </tbody>\n",
       "</table>\n",
       "<p>5 rows × 103 columns</p>\n",
       "</div>"
      ],
      "text/plain": [
       "   Unnamed: 0 pitch_type   game_date  release_speed  release_pos_x  \\\n",
       "0        3837         FF  2022-04-30           93.2          -1.70   \n",
       "1        4047         FF  2022-04-30           92.7          -1.44   \n",
       "2        2453         FF  2022-04-30           97.6          -2.02   \n",
       "3        2480         SI  2022-04-30           98.1          -2.00   \n",
       "5        2943         SI  2022-04-30           97.9          -1.84   \n",
       "\n",
       "   release_pos_z         player_name  batter  pitcher events  ... is_strike  \\\n",
       "0           6.00  Sawamura, Hirokazu  455139   617228    NaN  ...         0   \n",
       "1           5.96  Sawamura, Hirokazu  455139   617228    NaN  ...         0   \n",
       "2           6.13        López, Jorge  593428   605347   walk  ...         0   \n",
       "3           6.12        López, Jorge  593428   605347    NaN  ...         0   \n",
       "5           6.14        López, Jorge  596115   605347    NaN  ...         0   \n",
       "\n",
       "   pitch_type_dict   avg_velo  avg_hmov  avg_vmov  velo_diff hmov_diff  \\\n",
       "0              1.0  95.837788 -0.734424  1.317788  -2.637788  0.064424   \n",
       "1              1.0  95.837788 -0.734424  1.317788  -3.137788  0.174424   \n",
       "2              1.0  97.617891 -1.386102  0.716230  -0.017891  0.656102   \n",
       "3              1.0  97.617891 -1.386102  0.716230   0.482109  0.106102   \n",
       "5              1.0  97.617891 -1.386102  0.716230   0.282109  0.116102   \n",
       "\n",
       "  vmov_diff  total_movement  likely_strike  \n",
       "0  0.072212            2.06              0  \n",
       "1 -0.047788            1.83              0  \n",
       "2  0.783770            2.23              0  \n",
       "3  0.223770            2.22              0  \n",
       "5  0.303770            2.29              0  \n",
       "\n",
       "[5 rows x 103 columns]"
      ]
     },
     "execution_count": 17,
     "metadata": {},
     "output_type": "execute_result"
    }
   ],
   "source": [
    "fastball_data.head()"
   ]
  },
  {
   "cell_type": "code",
   "execution_count": 18,
   "metadata": {},
   "outputs": [
    {
     "data": {
      "text/html": [
       "<div>\n",
       "<style scoped>\n",
       "    .dataframe tbody tr th:only-of-type {\n",
       "        vertical-align: middle;\n",
       "    }\n",
       "\n",
       "    .dataframe tbody tr th {\n",
       "        vertical-align: top;\n",
       "    }\n",
       "\n",
       "    .dataframe thead th {\n",
       "        text-align: right;\n",
       "    }\n",
       "</style>\n",
       "<table border=\"1\" class=\"dataframe\">\n",
       "  <thead>\n",
       "    <tr style=\"text-align: right;\">\n",
       "      <th></th>\n",
       "      <th>Unnamed: 0</th>\n",
       "      <th>pitch_type</th>\n",
       "      <th>game_date</th>\n",
       "      <th>release_speed</th>\n",
       "      <th>release_pos_x</th>\n",
       "      <th>release_pos_z</th>\n",
       "      <th>player_name</th>\n",
       "      <th>batter</th>\n",
       "      <th>pitcher</th>\n",
       "      <th>events</th>\n",
       "      <th>...</th>\n",
       "      <th>is_strike</th>\n",
       "      <th>pitch_type_dict</th>\n",
       "      <th>avg_velo</th>\n",
       "      <th>avg_hmov</th>\n",
       "      <th>avg_vmov</th>\n",
       "      <th>velo_diff</th>\n",
       "      <th>hmov_diff</th>\n",
       "      <th>vmov_diff</th>\n",
       "      <th>total_movement</th>\n",
       "      <th>likely_strike</th>\n",
       "    </tr>\n",
       "  </thead>\n",
       "  <tbody>\n",
       "    <tr>\n",
       "      <th>4</th>\n",
       "      <td>2638</td>\n",
       "      <td>KC</td>\n",
       "      <td>2022-04-30</td>\n",
       "      <td>85.6</td>\n",
       "      <td>-2.14</td>\n",
       "      <td>6.11</td>\n",
       "      <td>López, Jorge</td>\n",
       "      <td>593428</td>\n",
       "      <td>605347</td>\n",
       "      <td>NaN</td>\n",
       "      <td>...</td>\n",
       "      <td>0</td>\n",
       "      <td>2.0</td>\n",
       "      <td>97.617891</td>\n",
       "      <td>-1.386102</td>\n",
       "      <td>0.716230</td>\n",
       "      <td>-12.017891</td>\n",
       "      <td>1.786102</td>\n",
       "      <td>-1.716230</td>\n",
       "      <td>1.40</td>\n",
       "      <td>0</td>\n",
       "    </tr>\n",
       "    <tr>\n",
       "      <th>8</th>\n",
       "      <td>2936</td>\n",
       "      <td>SL</td>\n",
       "      <td>2022-04-30</td>\n",
       "      <td>85.6</td>\n",
       "      <td>-1.50</td>\n",
       "      <td>5.96</td>\n",
       "      <td>Brasier, Ryan</td>\n",
       "      <td>602104</td>\n",
       "      <td>518489</td>\n",
       "      <td>NaN</td>\n",
       "      <td>...</td>\n",
       "      <td>0</td>\n",
       "      <td>2.0</td>\n",
       "      <td>95.883333</td>\n",
       "      <td>-0.731261</td>\n",
       "      <td>1.288919</td>\n",
       "      <td>-10.283333</td>\n",
       "      <td>1.651261</td>\n",
       "      <td>-1.298919</td>\n",
       "      <td>0.93</td>\n",
       "      <td>0</td>\n",
       "    </tr>\n",
       "    <tr>\n",
       "      <th>10</th>\n",
       "      <td>3179</td>\n",
       "      <td>SL</td>\n",
       "      <td>2022-04-30</td>\n",
       "      <td>84.8</td>\n",
       "      <td>-1.54</td>\n",
       "      <td>5.96</td>\n",
       "      <td>Brasier, Ryan</td>\n",
       "      <td>596059</td>\n",
       "      <td>518489</td>\n",
       "      <td>NaN</td>\n",
       "      <td>...</td>\n",
       "      <td>1</td>\n",
       "      <td>2.0</td>\n",
       "      <td>95.883333</td>\n",
       "      <td>-0.731261</td>\n",
       "      <td>1.288919</td>\n",
       "      <td>-11.083333</td>\n",
       "      <td>1.311261</td>\n",
       "      <td>-1.198919</td>\n",
       "      <td>0.67</td>\n",
       "      <td>1</td>\n",
       "    </tr>\n",
       "    <tr>\n",
       "      <th>12</th>\n",
       "      <td>3498</td>\n",
       "      <td>SL</td>\n",
       "      <td>2022-04-30</td>\n",
       "      <td>85.2</td>\n",
       "      <td>-1.42</td>\n",
       "      <td>5.97</td>\n",
       "      <td>Brasier, Ryan</td>\n",
       "      <td>596059</td>\n",
       "      <td>518489</td>\n",
       "      <td>NaN</td>\n",
       "      <td>...</td>\n",
       "      <td>0</td>\n",
       "      <td>2.0</td>\n",
       "      <td>95.883333</td>\n",
       "      <td>-0.731261</td>\n",
       "      <td>1.288919</td>\n",
       "      <td>-10.683333</td>\n",
       "      <td>1.451261</td>\n",
       "      <td>-1.188919</td>\n",
       "      <td>0.82</td>\n",
       "      <td>0</td>\n",
       "    </tr>\n",
       "    <tr>\n",
       "      <th>14</th>\n",
       "      <td>3676</td>\n",
       "      <td>SL</td>\n",
       "      <td>2022-04-30</td>\n",
       "      <td>85.3</td>\n",
       "      <td>-1.35</td>\n",
       "      <td>6.01</td>\n",
       "      <td>Brasier, Ryan</td>\n",
       "      <td>596059</td>\n",
       "      <td>518489</td>\n",
       "      <td>NaN</td>\n",
       "      <td>...</td>\n",
       "      <td>1</td>\n",
       "      <td>2.0</td>\n",
       "      <td>95.883333</td>\n",
       "      <td>-0.731261</td>\n",
       "      <td>1.288919</td>\n",
       "      <td>-10.583333</td>\n",
       "      <td>1.371261</td>\n",
       "      <td>-1.338919</td>\n",
       "      <td>0.69</td>\n",
       "      <td>1</td>\n",
       "    </tr>\n",
       "  </tbody>\n",
       "</table>\n",
       "<p>5 rows × 103 columns</p>\n",
       "</div>"
      ],
      "text/plain": [
       "    Unnamed: 0 pitch_type   game_date  release_speed  release_pos_x  \\\n",
       "4         2638         KC  2022-04-30           85.6          -2.14   \n",
       "8         2936         SL  2022-04-30           85.6          -1.50   \n",
       "10        3179         SL  2022-04-30           84.8          -1.54   \n",
       "12        3498         SL  2022-04-30           85.2          -1.42   \n",
       "14        3676         SL  2022-04-30           85.3          -1.35   \n",
       "\n",
       "    release_pos_z    player_name  batter  pitcher events  ... is_strike  \\\n",
       "4            6.11   López, Jorge  593428   605347    NaN  ...         0   \n",
       "8            5.96  Brasier, Ryan  602104   518489    NaN  ...         0   \n",
       "10           5.96  Brasier, Ryan  596059   518489    NaN  ...         1   \n",
       "12           5.97  Brasier, Ryan  596059   518489    NaN  ...         0   \n",
       "14           6.01  Brasier, Ryan  596059   518489    NaN  ...         1   \n",
       "\n",
       "    pitch_type_dict   avg_velo  avg_hmov  avg_vmov  velo_diff hmov_diff  \\\n",
       "4               2.0  97.617891 -1.386102  0.716230 -12.017891  1.786102   \n",
       "8               2.0  95.883333 -0.731261  1.288919 -10.283333  1.651261   \n",
       "10              2.0  95.883333 -0.731261  1.288919 -11.083333  1.311261   \n",
       "12              2.0  95.883333 -0.731261  1.288919 -10.683333  1.451261   \n",
       "14              2.0  95.883333 -0.731261  1.288919 -10.583333  1.371261   \n",
       "\n",
       "   vmov_diff  total_movement  likely_strike  \n",
       "4  -1.716230            1.40              0  \n",
       "8  -1.298919            0.93              0  \n",
       "10 -1.198919            0.67              1  \n",
       "12 -1.188919            0.82              0  \n",
       "14 -1.338919            0.69              1  \n",
       "\n",
       "[5 rows x 103 columns]"
      ]
     },
     "execution_count": 18,
     "metadata": {},
     "output_type": "execute_result"
    }
   ],
   "source": [
    "offspeed_data.head()"
   ]
  },
  {
   "cell_type": "code",
   "execution_count": 19,
   "metadata": {},
   "outputs": [
    {
     "data": {
      "text/plain": [
       "152322"
      ]
     },
     "execution_count": 19,
     "metadata": {},
     "output_type": "execute_result"
    }
   ],
   "source": [
    "len(offspeed_data)"
   ]
  },
  {
   "attachments": {},
   "cell_type": "markdown",
   "metadata": {},
   "source": [
    "# Fastball Model First"
   ]
  },
  {
   "cell_type": "code",
   "execution_count": 20,
   "metadata": {},
   "outputs": [],
   "source": [
    "x = fastball_data.drop(['description', 'events', 'game_pk', 'game_date', 'des', 'pitch_type_dict',\n",
    "                     'spin_rate_deprecated', 'break_angle_deprecated', 'break_length_deprecated', 'game_type', 'home_team',\n",
    "                     'away_team', 'type', 'bb_type', 'inning_topbot', 'hc_x', 'hc_y', 'tfs_deprecated', 'tfs_zulu_deprecated',\n",
    "                     'hit_distance_sc', 'launch_speed', 'launch_angle', 'estimated_ba_using_speedangle', 'estimated_woba_using_speedangle',\n",
    "                     'woba_value', 'woba_denom', 'babip_value', 'iso_value', 'launch_speed_angle', 'pitch_name', 'home_score', 'away_score',\n",
    "                     'bat_score', 'fld_score', 'post_away_score', 'post_home_score', 'post_bat_score', 'post_fld_score',\n",
    "                      'if_fielding_alignment', 'of_fielding_alignment', 'delta_home_win_exp', 'delta_run_exp',\n",
    "                      'player_name', 'hit_location', 'umpire', 'sv_id', 'spin_dir', \n",
    "                      'pitch_type', 'fielder_2.1', 'pitcher.1', 'fielder_3', 'fielder_4', 'fielder_5', 'fielder_6', 'fielder_7', 'fielder_8', \n",
    "                      'fielder_9', 'batter', 'pitcher', 'on_3b', 'on_2b', 'on_1b', 'game_year', 'outs_when_up', 'pitch_number',  \n",
    "                      'at_bat_number', 'inning', 'fielder_2', 'sz_top', 'sz_bot',\n",
    "                      #removed these columns because of collinearity\n",
    "                      'release_pos_z',  'effective_speed', 'release_pos_y', 'vy0', 'vx0', 'ax', 'release_extension', 'spin_axis', 'release_spin_rate',\n",
    "                      'pfx_z', 'ay', 'p_throws', 'az', 'avg_velo', 'avg_hmov', 'avg_vmov', 'pfx_x', 'release_speed', 'Unnamed: 0',\n",
    "                      #'release_spin_rate', 'p_throws', 'spin_axis', 'zone',\n",
    "                      #removed these columns because they are not useful\n",
    "                      'total_movement', 'vmov_diff', 'hmov_diff', 'velo_diff', 'vz0', 'release_pos_x', 'balls'\n",
    "                      ], axis=1).copy()"
   ]
  },
  {
   "cell_type": "code",
   "execution_count": 21,
   "metadata": {},
   "outputs": [],
   "source": [
    "x1 = x.drop(['is_strike'], axis=1).copy()\n",
    "y1 = x['is_strike'].copy()"
   ]
  },
  {
   "cell_type": "code",
   "execution_count": 22,
   "metadata": {},
   "outputs": [],
   "source": [
    "x_train, x_test, y_train, y_test = train_test_split(x1, y1, test_size=0.2, random_state=42) # split data"
   ]
  },
  {
   "cell_type": "code",
   "execution_count": 23,
   "metadata": {},
   "outputs": [],
   "source": [
    "dtrain = xgb.DMatrix(x_train, label=y_train)\n",
    "dtest = xgb.DMatrix(x_test, label=y_test)\n",
    "\n",
    "params = {\n",
    "    'max_depth': 6,\n",
    "    'eta': 0.3,\n",
    "    'objective': 'binary:logistic',\n",
    "    'eval_metric': 'logloss',\n",
    "    'subsample': 0.9,\n",
    "    'colsample_bytree': 1,\n",
    "}\n",
    "\n",
    "# Initial Model\n",
    "model = xgb.train(params, dtrain)"
   ]
  },
  {
   "cell_type": "code",
   "execution_count": 24,
   "metadata": {},
   "outputs": [
    {
     "name": "stdout",
     "output_type": "stream",
     "text": [
      "Accuracy: 0.9188703650474275\n",
      "Log Loss: 0.18700382035075497\n"
     ]
    }
   ],
   "source": [
    "# Generate predictions\n",
    "y_pred = model.predict(dtest)\n",
    "y_pred_binary = [1 if p >= 0.5 else 0 for p in y_pred]\n",
    "\n",
    "# Calculate Accuracy\n",
    "accuracy = accuracy_score(y_test, y_pred_binary)\n",
    "print(f\"Accuracy: {accuracy}\")\n",
    "\n",
    "# Calculate Log Loss\n",
    "logloss = log_loss(y_test, y_pred)\n",
    "print(f\"Log Loss: {logloss}\")"
   ]
  },
  {
   "cell_type": "markdown",
   "metadata": {},
   "source": [
    "# Initial Paramater Tuning"
   ]
  },
  {
   "cell_type": "code",
   "execution_count": 25,
   "metadata": {},
   "outputs": [],
   "source": [
    "#Use an objective function to find the best parameters\n",
    "def objective(trial):\n",
    "    dtrain = xgb.DMatrix(x_train, label=y_train)\n",
    "    dtest = xgb.DMatrix(x_test, label=y_test)\n",
    "    \n",
    "    param = {\n",
    "        'max_depth': trial.suggest_int('max_depth', 3, 9),\n",
    "        'eta': trial.suggest_float('eta', 0.01, 0.3),\n",
    "        'objective': 'binary:logistic',\n",
    "        'eval_metric': 'logloss',\n",
    "        'subsample': trial.suggest_float('subsample', 0.6, 0.9),\n",
    "        'colsample_bytree': trial.suggest_float('colsample_bytree', 0.5, 1),\n",
    "    }\n",
    "\n",
    "    model = xgb.train(param, dtrain)\n",
    "    y_pred = model.predict(dtest)\n",
    "    y_pred_binary = [1 if p >= 0.5 else 0 for p in y_pred]\n",
    "    accuracy = accuracy_score(y_test, y_pred_binary)\n",
    "    return accuracy\n"
   ]
  },
  {
   "cell_type": "code",
   "execution_count": 26,
   "metadata": {},
   "outputs": [
    {
     "name": "stderr",
     "output_type": "stream",
     "text": [
      "[I 2023-11-01 22:12:00,372] A new study created in memory with name: no-name-06fa5731-55c9-4191-8a51-2d1b04b363c2\n",
      "[I 2023-11-01 22:12:00,626] Trial 0 finished with value: 0.9180320015330076 and parameters: {'max_depth': 4, 'eta': 0.09210003513581294, 'subsample': 0.6692512135057964, 'colsample_bytree': 0.5907881933014868}. Best is trial 0 with value: 0.9180320015330076.\n",
      "[I 2023-11-01 22:12:00,895] Trial 1 finished with value: 0.9182954872089681 and parameters: {'max_depth': 8, 'eta': 0.1720015645565204, 'subsample': 0.8424697734904982, 'colsample_bytree': 0.5219671910494545}. Best is trial 1 with value: 0.9182954872089681.\n",
      "[I 2023-11-01 22:12:01,155] Trial 2 finished with value: 0.91879850531762 and parameters: {'max_depth': 5, 'eta': 0.13361997819177426, 'subsample': 0.6331189675456403, 'colsample_bytree': 0.7279453598457574}. Best is trial 2 with value: 0.91879850531762.\n",
      "[I 2023-11-01 22:12:01,424] Trial 3 finished with value: 0.9214094088339562 and parameters: {'max_depth': 7, 'eta': 0.23558767241947073, 'subsample': 0.6548388847973895, 'colsample_bytree': 0.7531589713326454}. Best is trial 3 with value: 0.9214094088339562.\n",
      "[I 2023-11-01 22:12:01,671] Trial 4 finished with value: 0.918630832614736 and parameters: {'max_depth': 4, 'eta': 0.16149799254978436, 'subsample': 0.6449146923418089, 'colsample_bytree': 0.9656625425673836}. Best is trial 3 with value: 0.9214094088339562.\n",
      "[I 2023-11-01 22:12:01,946] Trial 5 finished with value: 0.9179601418032002 and parameters: {'max_depth': 8, 'eta': 0.08130910671822807, 'subsample': 0.6845201866777739, 'colsample_bytree': 0.5775360453912186}. Best is trial 3 with value: 0.9214094088339562.\n",
      "[I 2023-11-01 22:12:02,216] Trial 6 finished with value: 0.9222956788349143 and parameters: {'max_depth': 8, 'eta': 0.226904673511699, 'subsample': 0.6149641437155182, 'colsample_bytree': 0.72462316946735}. Best is trial 6 with value: 0.9222956788349143.\n",
      "[I 2023-11-01 22:12:02,459] Trial 7 finished with value: 0.9180320015330076 and parameters: {'max_depth': 3, 'eta': 0.29169787351259113, 'subsample': 0.8143053079875117, 'colsample_bytree': 0.9398647827673918}. Best is trial 6 with value: 0.9222956788349143.\n",
      "[I 2023-11-01 22:12:02,714] Trial 8 finished with value: 0.9181278145060842 and parameters: {'max_depth': 5, 'eta': 0.08812546489465625, 'subsample': 0.8450810511074835, 'colsample_bytree': 0.8958331522187457}. Best is trial 6 with value: 0.9222956788349143.\n",
      "[I 2023-11-01 22:12:02,952] Trial 9 finished with value: 0.9158762096387851 and parameters: {'max_depth': 4, 'eta': 0.051205524315546785, 'subsample': 0.7534360552533732, 'colsample_bytree': 0.7037425671522869}. Best is trial 6 with value: 0.9222956788349143.\n",
      "[I 2023-11-01 22:12:03,256] Trial 10 finished with value: 0.650306601513845 and parameters: {'max_depth': 9, 'eta': 0.011195175661904144, 'subsample': 0.7252486709857052, 'colsample_bytree': 0.8341389055148021}. Best is trial 6 with value: 0.9222956788349143.\n",
      "[I 2023-11-01 22:12:03,553] Trial 11 finished with value: 0.9200680272108843 and parameters: {'max_depth': 7, 'eta': 0.23590510355370004, 'subsample': 0.6027715833805952, 'colsample_bytree': 0.7954582721398962}. Best is trial 6 with value: 0.9222956788349143.\n",
      "[I 2023-11-01 22:12:03,848] Trial 12 finished with value: 0.9197805882916547 and parameters: {'max_depth': 7, 'eta': 0.22470483142250758, 'subsample': 0.6061950756406582, 'colsample_bytree': 0.6852678662488856}. Best is trial 6 with value: 0.9222956788349143.\n",
      "[I 2023-11-01 22:12:04,134] Trial 13 finished with value: 0.9208345309954968 and parameters: {'max_depth': 7, 'eta': 0.2223919276367518, 'subsample': 0.6981647440400842, 'colsample_bytree': 0.7906502879118307}. Best is trial 6 with value: 0.9222956788349143.\n",
      "[I 2023-11-01 22:12:04,442] Trial 14 finished with value: 0.919828494778193 and parameters: {'max_depth': 9, 'eta': 0.29678902573755966, 'subsample': 0.6434306435369133, 'colsample_bytree': 0.6540386731089043}. Best is trial 6 with value: 0.9222956788349143.\n",
      "[I 2023-11-01 22:12:04,718] Trial 15 finished with value: 0.9185829261281978 and parameters: {'max_depth': 6, 'eta': 0.26114447968893134, 'subsample': 0.8998885893236449, 'colsample_bytree': 0.7447316715572104}. Best is trial 6 with value: 0.9222956788349143.\n",
      "[I 2023-11-01 22:12:05,013] Trial 16 finished with value: 0.9185350196416595 and parameters: {'max_depth': 8, 'eta': 0.1957813359055941, 'subsample': 0.6000169330932955, 'colsample_bytree': 0.6428795203892228}. Best is trial 6 with value: 0.9222956788349143.\n",
      "[I 2023-11-01 22:12:05,306] Trial 17 finished with value: 0.9187266455878126 and parameters: {'max_depth': 6, 'eta': 0.25378353772710355, 'subsample': 0.659872013336359, 'colsample_bytree': 0.8566561100770856}. Best is trial 6 with value: 0.9222956788349143.\n",
      "[I 2023-11-01 22:12:05,612] Trial 18 finished with value: 0.9211459231579956 and parameters: {'max_depth': 8, 'eta': 0.1958799912677925, 'subsample': 0.6937691783681931, 'colsample_bytree': 0.777250952791696}. Best is trial 6 with value: 0.9222956788349143.\n",
      "[I 2023-11-01 22:12:05,905] Trial 19 finished with value: 0.9220561464022229 and parameters: {'max_depth': 7, 'eta': 0.2691450998624627, 'subsample': 0.6311436804203667, 'colsample_bytree': 0.7474728772887294}. Best is trial 6 with value: 0.9222956788349143.\n",
      "[I 2023-11-01 22:12:06,221] Trial 20 finished with value: 0.925529366676248 and parameters: {'max_depth': 9, 'eta': 0.2698557446584738, 'subsample': 0.6268562176704087, 'colsample_bytree': 0.9987511297459555}. Best is trial 20 with value: 0.925529366676248.\n",
      "[I 2023-11-01 22:12:06,557] Trial 21 finished with value: 0.92519402127048 and parameters: {'max_depth': 9, 'eta': 0.26650636827220286, 'subsample': 0.627619804406555, 'colsample_bytree': 0.972129536982066}. Best is trial 20 with value: 0.925529366676248.\n",
      "[I 2023-11-01 22:12:06,879] Trial 22 finished with value: 0.925361693973364 and parameters: {'max_depth': 9, 'eta': 0.27124882961162744, 'subsample': 0.6240324742836589, 'colsample_bytree': 0.9861838785534333}. Best is trial 20 with value: 0.925529366676248.\n",
      "[I 2023-11-01 22:12:07,199] Trial 23 finished with value: 0.9250982082974035 and parameters: {'max_depth': 9, 'eta': 0.28298706635255, 'subsample': 0.6311304792509858, 'colsample_bytree': 0.9866878815561417}. Best is trial 20 with value: 0.925529366676248.\n",
      "[I 2023-11-01 22:12:07,517] Trial 24 finished with value: 0.9259605250550924 and parameters: {'max_depth': 9, 'eta': 0.2805272769074046, 'subsample': 0.6244495388186782, 'colsample_bytree': 0.9859517701608814}. Best is trial 24 with value: 0.9259605250550924.\n",
      "[I 2023-11-01 22:12:07,824] Trial 25 finished with value: 0.9250742550541343 and parameters: {'max_depth': 9, 'eta': 0.29774298564190355, 'subsample': 0.6679547130338829, 'colsample_bytree': 0.9993130747052746}. Best is trial 24 with value: 0.9259605250550924.\n",
      "[I 2023-11-01 22:12:08,142] Trial 26 finished with value: 0.9251461147839417 and parameters: {'max_depth': 9, 'eta': 0.2730263520014737, 'subsample': 0.6211017344975315, 'colsample_bytree': 0.9370248549534974}. Best is trial 24 with value: 0.9259605250550924.\n",
      "[I 2023-11-01 22:12:08,453] Trial 27 finished with value: 0.923469387755102 and parameters: {'max_depth': 8, 'eta': 0.24746063661407144, 'subsample': 0.6547740486663777, 'colsample_bytree': 0.9245531978903149}. Best is trial 24 with value: 0.9259605250550924.\n",
      "[I 2023-11-01 22:12:08,782] Trial 28 finished with value: 0.9253856472166331 and parameters: {'max_depth': 9, 'eta': 0.27550832202147196, 'subsample': 0.7073101295035786, 'colsample_bytree': 0.9993002166700177}. Best is trial 24 with value: 0.9259605250550924.\n",
      "[I 2023-11-01 22:12:09,087] Trial 29 finished with value: 0.9245712369454824 and parameters: {'max_depth': 8, 'eta': 0.2966910961061266, 'subsample': 0.6704228957420635, 'colsample_bytree': 0.8945868303316835}. Best is trial 24 with value: 0.9259605250550924.\n",
      "[I 2023-11-01 22:12:09,396] Trial 30 finished with value: 0.9247868161349047 and parameters: {'max_depth': 9, 'eta': 0.24618332704228504, 'subsample': 0.7149550734809313, 'colsample_bytree': 0.9986274738916006}. Best is trial 24 with value: 0.9259605250550924.\n",
      "[I 2023-11-01 22:12:09,709] Trial 31 finished with value: 0.9250982082974035 and parameters: {'max_depth': 9, 'eta': 0.27451382193740975, 'subsample': 0.6735431075435477, 'colsample_bytree': 0.956345480276052}. Best is trial 24 with value: 0.9259605250550924.\n",
      "[I 2023-11-01 22:12:10,029] Trial 32 finished with value: 0.925026348567596 and parameters: {'max_depth': 9, 'eta': 0.27972621790029845, 'subsample': 0.6398505600312713, 'colsample_bytree': 0.9583237576669563}. Best is trial 24 with value: 0.9259605250550924.\n",
      "[I 2023-11-01 22:12:10,330] Trial 33 finished with value: 0.9247389096483664 and parameters: {'max_depth': 8, 'eta': 0.25644640955662323, 'subsample': 0.622960888723176, 'colsample_bytree': 0.9962629428848567}. Best is trial 24 with value: 0.9259605250550924.\n",
      "[I 2023-11-01 22:12:10,653] Trial 34 finished with value: 0.9240203123502922 and parameters: {'max_depth': 9, 'eta': 0.21107959209670182, 'subsample': 0.6004265617863469, 'colsample_bytree': 0.9099876584920521}. Best is trial 24 with value: 0.9259605250550924.\n",
      "[I 2023-11-01 22:12:10,958] Trial 35 finished with value: 0.9232777618089489 and parameters: {'max_depth': 8, 'eta': 0.2490989506864341, 'subsample': 0.6510534740604392, 'colsample_bytree': 0.9641108213946671}. Best is trial 24 with value: 0.9259605250550924.\n",
      "[I 2023-11-01 22:12:11,286] Trial 36 finished with value: 0.9249784420810577 and parameters: {'max_depth': 9, 'eta': 0.2812327693984527, 'subsample': 0.6423872587061987, 'colsample_bytree': 0.933924390681659}. Best is trial 24 with value: 0.9259605250550924.\n",
      "[I 2023-11-01 22:12:11,568] Trial 37 finished with value: 0.9185829261281978 and parameters: {'max_depth': 5, 'eta': 0.14299451510060646, 'subsample': 0.6779049410314513, 'colsample_bytree': 0.9721141953940873}. Best is trial 24 with value: 0.9259605250550924.\n",
      "[I 2023-11-01 22:12:11,871] Trial 38 finished with value: 0.9235891539714477 and parameters: {'max_depth': 8, 'eta': 0.2433991978758884, 'subsample': 0.6166763005893365, 'colsample_bytree': 0.8750286330957184}. Best is trial 24 with value: 0.9259605250550924.\n",
      "[I 2023-11-01 22:12:12,170] Trial 39 finished with value: 0.9227986969435662 and parameters: {'max_depth': 7, 'eta': 0.26400091706435747, 'subsample': 0.6577256217064541, 'colsample_bytree': 0.9206753661413906}. Best is trial 24 with value: 0.9259605250550924.\n",
      "[I 2023-11-01 22:12:12,477] Trial 40 finished with value: 0.9241400785666379 and parameters: {'max_depth': 8, 'eta': 0.2819880615412083, 'subsample': 0.6379603701592474, 'colsample_bytree': 0.9444545521056703}. Best is trial 24 with value: 0.9259605250550924.\n",
      "[I 2023-11-01 22:12:12,785] Trial 41 finished with value: 0.9249784420810577 and parameters: {'max_depth': 9, 'eta': 0.2665406502953357, 'subsample': 0.6230181978359028, 'colsample_bytree': 0.9696985314207794}. Best is trial 24 with value: 0.9259605250550924.\n",
      "[I 2023-11-01 22:12:13,096] Trial 42 finished with value: 0.924834722621443 and parameters: {'max_depth': 9, 'eta': 0.2664655404605565, 'subsample': 0.615477889594429, 'colsample_bytree': 0.9639771470295948}. Best is trial 24 with value: 0.9259605250550924.\n",
      "[I 2023-11-01 22:12:13,362] Trial 43 finished with value: 0.9177924691003162 and parameters: {'max_depth': 3, 'eta': 0.2898952671096143, 'subsample': 0.6310654206404678, 'colsample_bytree': 0.9806137054844236}. Best is trial 24 with value: 0.9259605250550924.\n",
      "[I 2023-11-01 22:12:13,673] Trial 44 finished with value: 0.9246191434320207 and parameters: {'max_depth': 9, 'eta': 0.23904629604760397, 'subsample': 0.6569452109260813, 'colsample_bytree': 0.9467362233385838}. Best is trial 24 with value: 0.9259605250550924.\n",
      "[I 2023-11-01 22:12:13,985] Trial 45 finished with value: 0.925361693973364 and parameters: {'max_depth': 9, 'eta': 0.2565493173049007, 'subsample': 0.6894714819843165, 'colsample_bytree': 0.9993492459374848}. Best is trial 24 with value: 0.9259605250550924.\n",
      "[I 2023-11-01 22:12:14,283] Trial 46 finished with value: 0.924667049918559 and parameters: {'max_depth': 8, 'eta': 0.2991799658540873, 'subsample': 0.734964572982188, 'colsample_bytree': 0.997709120310591}. Best is trial 24 with value: 0.9259605250550924.\n",
      "[I 2023-11-01 22:12:14,601] Trial 47 finished with value: 0.9228466034301044 and parameters: {'max_depth': 8, 'eta': 0.2262740538290189, 'subsample': 0.7021260106610838, 'colsample_bytree': 0.916271572510439}. Best is trial 24 with value: 0.9259605250550924.\n",
      "[I 2023-11-01 22:12:14,917] Trial 48 finished with value: 0.9250982082974035 and parameters: {'max_depth': 9, 'eta': 0.25484865740768736, 'subsample': 0.6776586761097853, 'colsample_bytree': 0.9788436133352848}. Best is trial 24 with value: 0.9259605250550924.\n",
      "[I 2023-11-01 22:12:15,237] Trial 49 finished with value: 0.924164031809907 and parameters: {'max_depth': 9, 'eta': 0.23160204399705692, 'subsample': 0.6810614655880637, 'colsample_bytree': 0.9008955151090271}. Best is trial 24 with value: 0.9259605250550924.\n",
      "[I 2023-11-01 22:12:15,514] Trial 50 finished with value: 0.9190619909935805 and parameters: {'max_depth': 4, 'eta': 0.286652046776283, 'subsample': 0.6464264436785228, 'colsample_bytree': 0.9455369713505246}. Best is trial 24 with value: 0.9259605250550924.\n",
      "[I 2023-11-01 22:12:15,832] Trial 51 finished with value: 0.9247868161349047 and parameters: {'max_depth': 9, 'eta': 0.259567642578482, 'subsample': 0.6097637329266774, 'colsample_bytree': 0.9784363777103702}. Best is trial 24 with value: 0.9259605250550924.\n",
      "[I 2023-11-01 22:12:16,147] Trial 52 finished with value: 0.9251700680272109 and parameters: {'max_depth': 9, 'eta': 0.2745848918267009, 'subsample': 0.6872022981914139, 'colsample_bytree': 0.9807847375715821}. Best is trial 24 with value: 0.9259605250550924.\n",
      "[I 2023-11-01 22:12:16,465] Trial 53 finished with value: 0.9258647120820159 and parameters: {'max_depth': 9, 'eta': 0.28633998762366375, 'subsample': 0.6661389502421791, 'colsample_bytree': 0.9997156598692821}. Best is trial 24 with value: 0.9259605250550924.\n",
      "[I 2023-11-01 22:12:16,785] Trial 54 finished with value: 0.9255054134329789 and parameters: {'max_depth': 9, 'eta': 0.288407621140707, 'subsample': 0.6662155993383584, 'colsample_bytree': 0.948779495902647}. Best is trial 24 with value: 0.9259605250550924.\n",
      "[I 2023-11-01 22:12:17,069] Trial 55 finished with value: 0.9187026923445435 and parameters: {'max_depth': 6, 'eta': 0.28805125840279183, 'subsample': 0.6619888367632876, 'colsample_bytree': 0.9532485748503465}. Best is trial 24 with value: 0.9259605250550924.\n",
      "[I 2023-11-01 22:12:17,383] Trial 56 finished with value: 0.9248826291079812 and parameters: {'max_depth': 8, 'eta': 0.288994884361522, 'subsample': 0.6498923362487722, 'colsample_bytree': 0.9281266339914899}. Best is trial 24 with value: 0.9259605250550924.\n",
      "[I 2023-11-01 22:12:17,692] Trial 57 finished with value: 0.9254335537031714 and parameters: {'max_depth': 9, 'eta': 0.273236021767957, 'subsample': 0.6665891950654087, 'colsample_bytree': 0.9504370003234872}. Best is trial 24 with value: 0.9259605250550924.\n",
      "[I 2023-11-01 22:12:17,991] Trial 58 finished with value: 0.9218405672128006 and parameters: {'max_depth': 7, 'eta': 0.23796160647282028, 'subsample': 0.6651783267811954, 'colsample_bytree': 0.8832942315752144}. Best is trial 24 with value: 0.9259605250550924.\n",
      "[I 2023-11-01 22:12:18,311] Trial 59 finished with value: 0.925888665325285 and parameters: {'max_depth': 9, 'eta': 0.29935179901700615, 'subsample': 0.6973726687303522, 'colsample_bytree': 0.9339287914641057}. Best is trial 24 with value: 0.9259605250550924.\n",
      "[I 2023-11-01 22:12:18,613] Trial 60 finished with value: 0.9245472837022133 and parameters: {'max_depth': 8, 'eta': 0.29373612817490974, 'subsample': 0.6960806986634364, 'colsample_bytree': 0.9334007152119131}. Best is trial 24 with value: 0.9259605250550924.\n",
      "[I 2023-11-01 22:12:18,932] Trial 61 finished with value: 0.9252179745137492 and parameters: {'max_depth': 9, 'eta': 0.2808885341224686, 'subsample': 0.6730036398368711, 'colsample_bytree': 0.9549865819256853}. Best is trial 24 with value: 0.9259605250550924.\n",
      "[I 2023-11-01 22:12:19,248] Trial 62 finished with value: 0.9250023953243269 and parameters: {'max_depth': 9, 'eta': 0.2972972663102264, 'subsample': 0.7088643304778908, 'colsample_bytree': 0.9140091479335132}. Best is trial 24 with value: 0.9259605250550924.\n",
      "[I 2023-11-01 22:12:19,566] Trial 63 finished with value: 0.9250982082974035 and parameters: {'max_depth': 9, 'eta': 0.2744818737365775, 'subsample': 0.6865906779200718, 'colsample_bytree': 0.9676291644837428}. Best is trial 24 with value: 0.9259605250550924.\n",
      "[I 2023-11-01 22:12:19,874] Trial 64 finished with value: 0.9251700680272109 and parameters: {'max_depth': 9, 'eta': 0.28597945966325805, 'subsample': 0.6676879235529285, 'colsample_bytree': 0.9436616185626775}. Best is trial 24 with value: 0.9259605250550924.\n",
      "[I 2023-11-01 22:12:20,190] Trial 65 finished with value: 0.9254096004599023 and parameters: {'max_depth': 9, 'eta': 0.2643929209417731, 'subsample': 0.7063585338805538, 'colsample_bytree': 0.9801878787331664}. Best is trial 24 with value: 0.9259605250550924.\n",
      "[I 2023-11-01 22:12:20,497] Trial 66 finished with value: 0.9247868161349047 and parameters: {'max_depth': 8, 'eta': 0.2995096138130658, 'subsample': 0.6374233615813305, 'colsample_bytree': 0.9851466814453538}. Best is trial 24 with value: 0.9259605250550924.\n",
      "[I 2023-11-01 22:12:20,809] Trial 67 finished with value: 0.9255772731627863 and parameters: {'max_depth': 9, 'eta': 0.2644305288559653, 'subsample': 0.6958788564611689, 'colsample_bytree': 0.962214791946485}. Best is trial 24 with value: 0.9259605250550924.\n",
      "[I 2023-11-01 22:12:21,191] Trial 68 finished with value: 0.923972405863754 and parameters: {'max_depth': 8, 'eta': 0.2493422017463042, 'subsample': 0.6485627208051398, 'colsample_bytree': 0.9347249405366944}. Best is trial 24 with value: 0.9259605250550924.\n",
      "[I 2023-11-01 22:12:21,506] Trial 69 finished with value: 0.9252179745137492 and parameters: {'max_depth': 9, 'eta': 0.27112606640688897, 'subsample': 0.6946846826768209, 'colsample_bytree': 0.9019467620430932}. Best is trial 24 with value: 0.9259605250550924.\n",
      "[I 2023-11-01 22:12:21,815] Trial 70 finished with value: 0.9240921720800996 and parameters: {'max_depth': 8, 'eta': 0.2831343404702028, 'subsample': 0.6801429852725233, 'colsample_bytree': 0.852995757674003}. Best is trial 24 with value: 0.9259605250550924.\n",
      "[I 2023-11-01 22:12:22,138] Trial 71 finished with value: 0.9249784420810577 and parameters: {'max_depth': 9, 'eta': 0.261593426180889, 'subsample': 0.7200094283371992, 'colsample_bytree': 0.9622961814656711}. Best is trial 24 with value: 0.9259605250550924.\n",
      "[I 2023-11-01 22:12:22,458] Trial 72 finished with value: 0.9251461147839417 and parameters: {'max_depth': 9, 'eta': 0.26428233906609777, 'subsample': 0.6998769670685726, 'colsample_bytree': 0.9809867269630183}. Best is trial 24 with value: 0.9259605250550924.\n",
      "[I 2023-11-01 22:12:22,790] Trial 73 finished with value: 0.9256251796493246 and parameters: {'max_depth': 9, 'eta': 0.29161947736016863, 'subsample': 0.6640699216107482, 'colsample_bytree': 0.9504218791729881}. Best is trial 24 with value: 0.9259605250550924.\n",
      "[I 2023-11-01 22:12:23,116] Trial 74 finished with value: 0.9251461147839417 and parameters: {'max_depth': 9, 'eta': 0.2913001139481044, 'subsample': 0.6345691315284828, 'colsample_bytree': 0.9259609221453936}. Best is trial 24 with value: 0.9259605250550924.\n",
      "[I 2023-11-01 22:12:23,432] Trial 75 finished with value: 0.9247149564050973 and parameters: {'max_depth': 9, 'eta': 0.2762812883346278, 'subsample': 0.6636603803598449, 'colsample_bytree': 0.9616689445363091}. Best is trial 24 with value: 0.9259605250550924.\n",
      "[I 2023-11-01 22:12:23,752] Trial 76 finished with value: 0.9263198237041296 and parameters: {'max_depth': 9, 'eta': 0.2999034650289315, 'subsample': 0.6570524952214774, 'colsample_bytree': 0.9497475299240516}. Best is trial 76 with value: 0.9263198237041296.\n",
      "[I 2023-11-01 22:12:24,066] Trial 77 finished with value: 0.9250503018108652 and parameters: {'max_depth': 8, 'eta': 0.290919681093169, 'subsample': 0.6573336560708467, 'colsample_bytree': 0.9193979184322936}. Best is trial 76 with value: 0.9263198237041296.\n",
      "[I 2023-11-01 22:12:24,382] Trial 78 finished with value: 0.9251700680272109 and parameters: {'max_depth': 9, 'eta': 0.2999243135229441, 'subsample': 0.6494614922009153, 'colsample_bytree': 0.9900797513212584}. Best is trial 76 with value: 0.9263198237041296.\n",
      "[I 2023-11-01 22:12:24,701] Trial 79 finished with value: 0.9252658810002874 and parameters: {'max_depth': 9, 'eta': 0.28176960089203157, 'subsample': 0.6272427267081956, 'colsample_bytree': 0.9426184564929876}. Best is trial 76 with value: 0.9263198237041296.\n",
      "[I 2023-11-01 22:12:24,993] Trial 80 finished with value: 0.9214573153204944 and parameters: {'max_depth': 6, 'eta': 0.2906081745341933, 'subsample': 0.6396681019321381, 'colsample_bytree': 0.9633292470392616}. Best is trial 76 with value: 0.9263198237041296.\n",
      "[I 2023-11-01 22:12:25,313] Trial 81 finished with value: 0.9249065823512503 and parameters: {'max_depth': 9, 'eta': 0.2704193117766824, 'subsample': 0.6722222119588561, 'colsample_bytree': 0.9534354434230855}. Best is trial 76 with value: 0.9263198237041296.\n",
      "[I 2023-11-01 22:12:25,630] Trial 82 finished with value: 0.9253856472166331 and parameters: {'max_depth': 9, 'eta': 0.2771177761376772, 'subsample': 0.6563914212933736, 'colsample_bytree': 0.9711548458361534}. Best is trial 76 with value: 0.9263198237041296.\n",
      "[I 2023-11-01 22:12:25,943] Trial 83 finished with value: 0.9251221615406726 and parameters: {'max_depth': 9, 'eta': 0.28404099932057736, 'subsample': 0.6678451376523796, 'colsample_bytree': 0.9897071782155386}. Best is trial 76 with value: 0.9263198237041296.\n",
      "[I 2023-11-01 22:12:26,224] Trial 84 finished with value: 0.9185589728849286 and parameters: {'max_depth': 5, 'eta': 0.2554962419124028, 'subsample': 0.682550194302178, 'colsample_bytree': 0.9332377857109071}. Best is trial 76 with value: 0.9263198237041296.\n",
      "[I 2023-11-01 22:12:26,536] Trial 85 finished with value: 0.9250023953243269 and parameters: {'max_depth': 9, 'eta': 0.29240381685846767, 'subsample': 0.6436341206702525, 'colsample_bytree': 0.9503154819599391}. Best is trial 76 with value: 0.9263198237041296.\n",
      "[I 2023-11-01 22:12:26,861] Trial 86 finished with value: 0.9255772731627863 and parameters: {'max_depth': 9, 'eta': 0.2710976247269428, 'subsample': 0.6108548910590235, 'colsample_bytree': 0.904302112242159}. Best is trial 76 with value: 0.9263198237041296.\n",
      "[I 2023-11-01 22:12:27,182] Trial 87 finished with value: 0.9250742550541343 and parameters: {'max_depth': 9, 'eta': 0.25101114564556165, 'subsample': 0.6078608552939787, 'colsample_bytree': 0.9092140258626336}. Best is trial 76 with value: 0.9263198237041296.\n",
      "[I 2023-11-01 22:12:27,506] Trial 88 finished with value: 0.9250503018108652 and parameters: {'max_depth': 9, 'eta': 0.27823134341189837, 'subsample': 0.6171560181592924, 'colsample_bytree': 0.9885291856172592}. Best is trial 76 with value: 0.9263198237041296.\n",
      "[I 2023-11-01 22:12:27,811] Trial 89 finished with value: 0.9238286864041391 and parameters: {'max_depth': 8, 'eta': 0.2694044435142459, 'subsample': 0.6113969107613406, 'colsample_bytree': 0.9727380283997391}. Best is trial 76 with value: 0.9263198237041296.\n",
      "[I 2023-11-01 22:12:28,135] Trial 90 finished with value: 0.924164031809907 and parameters: {'max_depth': 8, 'eta': 0.2997628147386203, 'subsample': 0.6293864991353849, 'colsample_bytree': 0.9235956514020325}. Best is trial 76 with value: 0.9263198237041296.\n",
      "[I 2023-11-01 22:12:28,452] Trial 91 finished with value: 0.9254814601897097 and parameters: {'max_depth': 9, 'eta': 0.2845476127648694, 'subsample': 0.674764570630086, 'colsample_bytree': 0.9455699667036522}. Best is trial 76 with value: 0.9263198237041296.\n",
      "[I 2023-11-01 22:12:28,765] Trial 92 finished with value: 0.9252419277570183 and parameters: {'max_depth': 9, 'eta': 0.2854093497567002, 'subsample': 0.690297254759669, 'colsample_bytree': 0.9340723674521798}. Best is trial 76 with value: 0.9263198237041296.\n",
      "[I 2023-11-01 22:12:29,082] Trial 93 finished with value: 0.9250503018108652 and parameters: {'max_depth': 9, 'eta': 0.2599306270532044, 'subsample': 0.6234763488328158, 'colsample_bytree': 0.9685243945416351}. Best is trial 76 with value: 0.9263198237041296.\n",
      "[I 2023-11-01 22:12:29,397] Trial 94 finished with value: 0.9255533199195171 and parameters: {'max_depth': 9, 'eta': 0.2933194505253733, 'subsample': 0.6538710744868911, 'colsample_bytree': 0.942897659170146}. Best is trial 76 with value: 0.9263198237041296.\n",
      "[I 2023-11-01 22:12:29,717] Trial 95 finished with value: 0.9253377407300949 and parameters: {'max_depth': 9, 'eta': 0.2943431603885228, 'subsample': 0.6518466555833151, 'colsample_bytree': 0.9074183859050708}. Best is trial 76 with value: 0.9263198237041296.\n",
      "[I 2023-11-01 22:12:30,041] Trial 96 finished with value: 0.9250023953243269 and parameters: {'max_depth': 9, 'eta': 0.2780539812704307, 'subsample': 0.6431819082859348, 'colsample_bytree': 0.9990801144624682}. Best is trial 76 with value: 0.9263198237041296.\n",
      "[I 2023-11-01 22:12:30,311] Trial 97 finished with value: 0.9177924691003162 and parameters: {'max_depth': 3, 'eta': 0.29279579385117965, 'subsample': 0.6321804285673398, 'colsample_bytree': 0.8902147316381135}. Best is trial 76 with value: 0.9263198237041296.\n",
      "[I 2023-11-01 22:12:30,629] Trial 98 finished with value: 0.9250503018108652 and parameters: {'max_depth': 9, 'eta': 0.26880912608232843, 'subsample': 0.6578895650265473, 'colsample_bytree': 0.9541375504015225}. Best is trial 76 with value: 0.9263198237041296.\n",
      "[I 2023-11-01 22:12:30,942] Trial 99 finished with value: 0.9250742550541343 and parameters: {'max_depth': 9, 'eta': 0.28830263075374657, 'subsample': 0.6356524101872693, 'colsample_bytree': 0.9739786754571399}. Best is trial 76 with value: 0.9263198237041296.\n"
     ]
    }
   ],
   "source": [
    "#create an optuna study and specifcy the the direction of the optimization\n",
    "study = optuna.create_study(direction='maximize')\n",
    "study.optimize(objective, n_trials=100)"
   ]
  },
  {
   "cell_type": "code",
   "execution_count": 27,
   "metadata": {},
   "outputs": [
    {
     "name": "stdout",
     "output_type": "stream",
     "text": [
      "Best trial:\n",
      "Accuracy: 0.9263198237041296\n",
      "Best hyperparameters: {'max_depth': 9, 'eta': 0.2999034650289315, 'subsample': 0.6570524952214774, 'colsample_bytree': 0.9497475299240516}\n"
     ]
    }
   ],
   "source": [
    "print('Best trial:')\n",
    "trial = study.best_trial\n",
    "print(f'Accuracy: {trial.value}')\n",
    "print('Best hyperparameters: {}'.format(trial.params))"
   ]
  },
  {
   "cell_type": "markdown",
   "metadata": {},
   "source": [
    "# Final Fastball Model"
   ]
  },
  {
   "cell_type": "code",
   "execution_count": 28,
   "metadata": {},
   "outputs": [],
   "source": [
    "# Ensure trial is the best trial from the study\n",
    "best_trial = study.best_trial\n",
    "\n",
    "# Set parameters\n",
    "final_parameters = {\n",
    "    'max_depth': best_trial.params['max_depth'],\n",
    "    'eta': best_trial.params['eta'],\n",
    "    'objective': 'binary:logistic',\n",
    "    'eval_metric': 'logloss',\n",
    "    'subsample': best_trial.params['subsample'],\n",
    "    'colsample_bytree': best_trial.params['colsample_bytree'],\n",
    "}\n",
    "\n",
    "# Prepare the data\n",
    "dtrain = xgb.DMatrix(x_train, label=y_train)\n",
    "# Optionally, prepare a validation set\n",
    "#dval = xgb.DMatrix(x_val, label=y_val)\n",
    "\n",
    "# Train the final model\n",
    "# Optionally, include early stopping\n",
    "# final_model = xgb.train(final_parameters, dtrain, early_stopping_rounds=10, evals=[(dval, 'eval')])\n",
    "final_model = xgb.train(final_parameters, dtrain)\n"
   ]
  },
  {
   "cell_type": "code",
   "execution_count": 29,
   "metadata": {},
   "outputs": [
    {
     "name": "stdout",
     "output_type": "stream",
     "text": [
      "Accuracy: 0.9263198237041296\n",
      "Log Loss: 0.18441906204317202\n"
     ]
    }
   ],
   "source": [
    "# Generate predictions\n",
    "y_pred = final_model.predict(dtest)\n",
    "y_pred_binary = [1 if p >= 0.5 else 0 for p in y_pred]\n",
    "\n",
    "# Calculate Accuracy\n",
    "accuracy = accuracy_score(y_test, y_pred_binary)\n",
    "print(f\"Accuracy: {accuracy}\")\n",
    "\n",
    "# Calculate Log Loss\n",
    "logloss = log_loss(y_test, y_pred)\n",
    "print(f\"Log Loss: {logloss}\")"
   ]
  },
  {
   "cell_type": "code",
   "execution_count": 30,
   "metadata": {},
   "outputs": [
    {
     "data": {
      "image/png": "[encoded data removed]",
      "text/plain": [
       "<Figure size 640x480 with 1 Axes>"
      ]
     },
     "metadata": {},
     "output_type": "display_data"
    }
   ],
   "source": [
    "importance = final_model.get_score(importance_type='gain')\n",
    "# Visualizing the feature importances\n",
    "xgb.plot_importance(importance)\n",
    "plt.show()"
   ]
  },
  {
   "cell_type": "markdown",
   "metadata": {},
   "source": [
    "# Offspeed Model "
   ]
  },
  {
   "cell_type": "code",
   "execution_count": 31,
   "metadata": {},
   "outputs": [],
   "source": [
    "off = offspeed_data.drop(['description', 'events', 'game_pk', 'game_date', 'des', 'pitch_type_dict',\n",
    "                     'spin_rate_deprecated', 'break_angle_deprecated', 'break_length_deprecated', 'game_type', 'home_team',\n",
    "                     'away_team', 'type', 'bb_type', 'inning_topbot', 'hc_x', 'hc_y', 'tfs_deprecated', 'tfs_zulu_deprecated',\n",
    "                     'hit_distance_sc', 'launch_speed', 'launch_angle', 'estimated_ba_using_speedangle', 'estimated_woba_using_speedangle',\n",
    "                     'woba_value', 'woba_denom', 'babip_value', 'iso_value', 'launch_speed_angle', 'pitch_name', 'home_score', 'away_score',\n",
    "                     'bat_score', 'fld_score', 'post_away_score', 'post_home_score', 'post_bat_score', 'post_fld_score',\n",
    "                      'if_fielding_alignment', 'of_fielding_alignment', 'delta_home_win_exp', 'delta_run_exp',\n",
    "                      'player_name', 'hit_location', 'umpire', 'sv_id', 'spin_dir', \n",
    "                      'pitch_type', 'fielder_2.1', 'pitcher.1', 'fielder_3', 'fielder_4', 'fielder_5', 'fielder_6', 'fielder_7', 'fielder_8', \n",
    "                      'fielder_9', 'batter', 'pitcher', 'on_3b', 'on_2b', 'on_1b', 'game_year', 'outs_when_up', 'pitch_number',  \n",
    "                      'at_bat_number', 'inning', 'fielder_2', 'sz_top', 'sz_bot',\n",
    "                      #removed these columns because of collinearity\n",
    "                      'release_pos_z',  'effective_speed', 'release_pos_y', 'vy0', 'vx0', 'ax', 'release_extension', 'spin_axis', 'release_spin_rate',\n",
    "                      'pfx_z', 'ay', 'p_throws', 'az', 'avg_velo', 'avg_hmov', 'avg_vmov', 'pfx_x', 'Unnamed: 0', 'release_pos_x', 'balls', \n",
    "                        'total_movement', 'vmov_diff', 'hmov_diff', 'velo_diff', 'vz0', 'release_speed'\n",
    "                      #'release_spin_rate', 'p_throws', 'spin_axis', 'zone',\n",
    "                      #removed these columns because they are not useful\n",
    "                      ], axis=1).copy()"
   ]
  },
  {
   "cell_type": "code",
   "execution_count": 32,
   "metadata": {},
   "outputs": [],
   "source": [
    "x2 = off.drop(['is_strike'], axis=1).copy()\n",
    "y2 = off['is_strike'].copy()"
   ]
  },
  {
   "cell_type": "code",
   "execution_count": 33,
   "metadata": {},
   "outputs": [
    {
     "data": {
      "text/plain": [
       "152322"
      ]
     },
     "execution_count": 33,
     "metadata": {},
     "output_type": "execute_result"
    }
   ],
   "source": [
    "\n",
    "len(x2)"
   ]
  },
  {
   "cell_type": "code",
   "execution_count": 34,
   "metadata": {},
   "outputs": [],
   "source": [
    "x_train1, x_test1, y_train1, y_test1 = train_test_split(x2, y2, test_size=0.2, random_state=42) # split data"
   ]
  },
  {
   "cell_type": "code",
   "execution_count": 35,
   "metadata": {},
   "outputs": [],
   "source": [
    "dtrain1 = xgb.DMatrix(x_train1, label=y_train1)\n",
    "dtest1 = xgb.DMatrix(x_test1, label=y_test1)\n",
    "\n",
    "params1 = {\n",
    "    'max_depth': 6,\n",
    "    'eta': 0.3,\n",
    "    'objective': 'binary:logistic',\n",
    "    'eval_metric': 'logloss',\n",
    "    'subsample': 0.9,\n",
    "    'colsample_bytree': 1\n",
    "}\n",
    "\n",
    "# Initial Model\n",
    "model2 = xgb.train(params1, dtrain1)"
   ]
  },
  {
   "cell_type": "code",
   "execution_count": 36,
   "metadata": {},
   "outputs": [
    {
     "name": "stdout",
     "output_type": "stream",
     "text": [
      "Unique labels in y_test1: [0 1]\n",
      "Unique labels in y_train1: [0 1]\n"
     ]
    }
   ],
   "source": [
    "print(f\"Unique labels in y_test1: {np.unique(y_test1)}\")\n",
    "print(f\"Unique labels in y_train1: {np.unique(y_train1)}\")\n"
   ]
  },
  {
   "cell_type": "code",
   "execution_count": 37,
   "metadata": {},
   "outputs": [
    {
     "name": "stdout",
     "output_type": "stream",
     "text": [
      "Accuracy: 0.9336287543082226\n",
      "Log Loss: 0.1557187611740709\n"
     ]
    }
   ],
   "source": [
    "# Generate predictions\n",
    "y_pred1 = model2.predict(dtest1)\n",
    "y_pred_binary1 = [1 if p >= 0.5 else 0 for p in y_pred1]\n",
    "\n",
    "# Calculate Accuracy\n",
    "accuracy = accuracy_score(y_test1, y_pred_binary1)\n",
    "print(f\"Accuracy: {accuracy}\")\n",
    "\n",
    "# Calculate Log Loss\n",
    "logloss = log_loss(y_test1, y_pred1)\n",
    "print(f\"Log Loss: {logloss}\")"
   ]
  },
  {
   "cell_type": "code",
   "execution_count": 38,
   "metadata": {},
   "outputs": [],
   "source": [
    "#Use an objective function to find the best parameters\n",
    "def objectives(trial):\n",
    "    dtrain1 = xgb.DMatrix(x_train1, label=y_train1)\n",
    "    dtest1 = xgb.DMatrix(x_test1, label=y_test1)\n",
    "    \n",
    "    param1 = {\n",
    "        'max_depth': trial.suggest_int('max_depth', 3, 9),\n",
    "        'eta': trial.suggest_float('eta', 0.01, 0.3),\n",
    "        'objective': 'binary:logistic',\n",
    "        'eval_metric': 'logloss',\n",
    "        'subsample': trial.suggest_float('subsample', 0.6, 0.9),\n",
    "        'colsample_bytree': trial.suggest_float('colsample_bytree', 0.5, 1),\n",
    "    }\n",
    "\n",
    "    model2 = xgb.train(param1, dtrain1)\n",
    "    y_pred1= model2.predict(dtest1)\n",
    "    y_pred_binary1 = [1 if p >= 0.5 else 0 for p in y_pred1]\n",
    "    accuracy = accuracy_score(y_test1, y_pred_binary1)\n",
    "    return accuracy"
   ]
  },
  {
   "cell_type": "code",
   "execution_count": 39,
   "metadata": {},
   "outputs": [
    {
     "name": "stderr",
     "output_type": "stream",
     "text": [
      "[I 2023-11-01 22:12:31,877] A new study created in memory with name: no-name-1535ca00-f0de-4c36-b2e4-f373db41b940\n",
      "[I 2023-11-01 22:12:32,123] Trial 0 finished with value: 0.9306745445593304 and parameters: {'max_depth': 6, 'eta': 0.06729579444010415, 'subsample': 0.6468778159986307, 'colsample_bytree': 0.8104356133024826}. Best is trial 0 with value: 0.9306745445593304.\n",
      "[I 2023-11-01 22:12:32,336] Trial 1 finished with value: 0.9307730182176268 and parameters: {'max_depth': 9, 'eta': 0.07415332002965493, 'subsample': 0.7601516824812331, 'colsample_bytree': 0.5098522181803653}. Best is trial 1 with value: 0.9307730182176268.\n",
      "[I 2023-11-01 22:12:32,517] Trial 2 finished with value: 0.9261775808304612 and parameters: {'max_depth': 3, 'eta': 0.052867317884432614, 'subsample': 0.8763193681827955, 'colsample_bytree': 0.928534645337492}. Best is trial 1 with value: 0.9307730182176268.\n",
      "[I 2023-11-01 22:12:32,719] Trial 3 finished with value: 0.9394715247004759 and parameters: {'max_depth': 7, 'eta': 0.2955230846540929, 'subsample': 0.7168833016579764, 'colsample_bytree': 0.7879882371382878}. Best is trial 3 with value: 0.9394715247004759.\n",
      "[I 2023-11-01 22:12:32,902] Trial 4 finished with value: 0.9323157721976038 and parameters: {'max_depth': 3, 'eta': 0.08268631431573219, 'subsample': 0.7007150314484547, 'colsample_bytree': 0.9381202808453168}. Best is trial 3 with value: 0.9394715247004759.\n",
      "[I 2023-11-01 22:12:33,088] Trial 5 finished with value: 0.9321516494337765 and parameters: {'max_depth': 3, 'eta': 0.09451553022495206, 'subsample': 0.6943612685500411, 'colsample_bytree': 0.8078666282152032}. Best is trial 3 with value: 0.9394715247004759.\n",
      "[I 2023-11-01 22:12:33,276] Trial 6 finished with value: 0.932611193172493 and parameters: {'max_depth': 5, 'eta': 0.185370346521973, 'subsample': 0.8727000394543128, 'colsample_bytree': 0.5661985290814657}. Best is trial 3 with value: 0.9394715247004759.\n",
      "[I 2023-11-01 22:12:33,451] Trial 7 finished with value: 0.9325127195141966 and parameters: {'max_depth': 3, 'eta': 0.2225004775895194, 'subsample': 0.8113342023866401, 'colsample_bytree': 0.7303109387576832}. Best is trial 3 with value: 0.9394715247004759.\n",
      "[I 2023-11-01 22:12:33,646] Trial 8 finished with value: 0.9311997374035779 and parameters: {'max_depth': 6, 'eta': 0.06926710910342201, 'subsample': 0.7283272706868054, 'colsample_bytree': 0.9785856596759681}. Best is trial 3 with value: 0.9394715247004759.\n",
      "[I 2023-11-01 22:12:33,861] Trial 9 finished with value: 0.9297226325291318 and parameters: {'max_depth': 9, 'eta': 0.06310502091088324, 'subsample': 0.8875526509264658, 'colsample_bytree': 0.7069015011561313}. Best is trial 3 with value: 0.9394715247004759.\n",
      "[I 2023-11-01 22:12:34,100] Trial 10 finished with value: 0.9351715082881996 and parameters: {'max_depth': 8, 'eta': 0.2858259520543737, 'subsample': 0.614216534310192, 'colsample_bytree': 0.6501467131720304}. Best is trial 3 with value: 0.9394715247004759.\n",
      "[I 2023-11-01 22:12:34,333] Trial 11 finished with value: 0.9348760873133104 and parameters: {'max_depth': 8, 'eta': 0.29634823433990176, 'subsample': 0.616953882427603, 'colsample_bytree': 0.6482380989786592}. Best is trial 3 with value: 0.9394715247004759.\n",
      "[I 2023-11-01 22:12:34,577] Trial 12 finished with value: 0.9350073855243722 and parameters: {'max_depth': 7, 'eta': 0.29673254293236706, 'subsample': 0.6031651923028041, 'colsample_bytree': 0.6326546133213725}. Best is trial 3 with value: 0.9394715247004759.\n",
      "[I 2023-11-01 22:12:34,818] Trial 13 finished with value: 0.9381257180370918 and parameters: {'max_depth': 7, 'eta': 0.25375336828415046, 'subsample': 0.6619035032091105, 'colsample_bytree': 0.8138569657302284}. Best is trial 3 with value: 0.9394715247004759.\n",
      "[I 2023-11-01 22:12:35,033] Trial 14 finished with value: 0.9337928770720499 and parameters: {'max_depth': 5, 'eta': 0.23321637658805597, 'subsample': 0.6684444109668972, 'colsample_bytree': 0.8385862373821891}. Best is trial 3 with value: 0.9394715247004759.\n",
      "[I 2023-11-01 22:12:35,270] Trial 15 finished with value: 0.9379944198260298 and parameters: {'max_depth': 7, 'eta': 0.25001665500747344, 'subsample': 0.7420914080424342, 'colsample_bytree': 0.8480920041001969}. Best is trial 3 with value: 0.9394715247004759.\n",
      "[I 2023-11-01 22:12:35,497] Trial 16 finished with value: 0.9334646315443952 and parameters: {'max_depth': 7, 'eta': 0.16640072841564585, 'subsample': 0.662818381458841, 'colsample_bytree': 0.7452572828719912}. Best is trial 3 with value: 0.9394715247004759.\n",
      "[I 2023-11-01 22:12:35,713] Trial 17 finished with value: 0.9335631052026916 and parameters: {'max_depth': 5, 'eta': 0.2662472139576751, 'subsample': 0.7793270570196473, 'colsample_bytree': 0.8836741825363675}. Best is trial 3 with value: 0.9394715247004759.\n",
      "[I 2023-11-01 22:12:35,941] Trial 18 finished with value: 0.9367470868209421 and parameters: {'max_depth': 8, 'eta': 0.20349818288772153, 'subsample': 0.7040228063202115, 'colsample_bytree': 0.7917787584600912}. Best is trial 3 with value: 0.9394715247004759.\n",
      "[I 2023-11-01 22:12:36,162] Trial 19 finished with value: 0.9335959297554571 and parameters: {'max_depth': 6, 'eta': 0.2629315638298954, 'subsample': 0.6459220870994449, 'colsample_bytree': 0.7704836110666146}. Best is trial 3 with value: 0.9394715247004759.\n",
      "[I 2023-11-01 22:12:36,397] Trial 20 finished with value: 0.938289840800919 and parameters: {'max_depth': 7, 'eta': 0.23138639814279222, 'subsample': 0.7271684298473078, 'colsample_bytree': 0.8709715768319826}. Best is trial 3 with value: 0.9394715247004759.\n",
      "[I 2023-11-01 22:12:36,628] Trial 21 finished with value: 0.9379944198260298 and parameters: {'max_depth': 7, 'eta': 0.2354298350980417, 'subsample': 0.722470681309531, 'colsample_bytree': 0.8746975794377995}. Best is trial 3 with value: 0.9394715247004759.\n",
      "[I 2023-11-01 22:12:36,860] Trial 22 finished with value: 0.939963892991958 and parameters: {'max_depth': 8, 'eta': 0.2727578005563219, 'subsample': 0.6821548469876385, 'colsample_bytree': 0.8939561693512692}. Best is trial 22 with value: 0.939963892991958.\n",
      "[I 2023-11-01 22:12:37,094] Trial 23 finished with value: 0.939963892991958 and parameters: {'max_depth': 8, 'eta': 0.2753920843717158, 'subsample': 0.7583461131111776, 'colsample_bytree': 0.8881382848105204}. Best is trial 22 with value: 0.939963892991958.\n",
      "[I 2023-11-01 22:12:37,330] Trial 24 finished with value: 0.9400295420974889 and parameters: {'max_depth': 8, 'eta': 0.2774013868312911, 'subsample': 0.7733573400548178, 'colsample_bytree': 0.9992815636049521}. Best is trial 24 with value: 0.9400295420974889.\n",
      "[I 2023-11-01 22:12:37,585] Trial 25 finished with value: 0.9401936648613163 and parameters: {'max_depth': 9, 'eta': 0.27331102519646616, 'subsample': 0.7839854877885105, 'colsample_bytree': 0.996798587278381}. Best is trial 25 with value: 0.9401936648613163.\n",
      "[I 2023-11-01 22:12:37,836] Trial 26 finished with value: 0.9397341211225997 and parameters: {'max_depth': 9, 'eta': 0.2685966816138729, 'subsample': 0.7967152126005638, 'colsample_bytree': 0.9899111046351196}. Best is trial 25 with value: 0.9401936648613163.\n",
      "[I 2023-11-01 22:12:38,088] Trial 27 finished with value: 0.9391432791728213 and parameters: {'max_depth': 9, 'eta': 0.20069891573498141, 'subsample': 0.8200376358789272, 'colsample_bytree': 0.9991177912468341}. Best is trial 25 with value: 0.9401936648613163.\n",
      "[I 2023-11-01 22:12:38,325] Trial 28 finished with value: 0.9400623666502544 and parameters: {'max_depth': 8, 'eta': 0.277758221535858, 'subsample': 0.7752889254101154, 'colsample_bytree': 0.9463782388752775}. Best is trial 25 with value: 0.9401936648613163.\n",
      "[I 2023-11-01 22:12:38,570] Trial 29 finished with value: 0.9398325947808961 and parameters: {'max_depth': 9, 'eta': 0.25086179111497375, 'subsample': 0.7746570419339476, 'colsample_bytree': 0.9453689057121293}. Best is trial 25 with value: 0.9401936648613163.\n",
      "[I 2023-11-01 22:12:38,809] Trial 30 finished with value: 0.9335959297554571 and parameters: {'max_depth': 8, 'eta': 0.14205679048663472, 'subsample': 0.8280548705409598, 'colsample_bytree': 0.9621376965775641}. Best is trial 25 with value: 0.9401936648613163.\n",
      "[I 2023-11-01 22:12:39,043] Trial 31 finished with value: 0.9396684720170687 and parameters: {'max_depth': 8, 'eta': 0.2832889929883042, 'subsample': 0.7433238972607402, 'colsample_bytree': 0.9177752050680112}. Best is trial 25 with value: 0.9401936648613163.\n",
      "[I 2023-11-01 22:12:39,293] Trial 32 finished with value: 0.9401280157557853 and parameters: {'max_depth': 9, 'eta': 0.2765846056397793, 'subsample': 0.7768483290876441, 'colsample_bytree': 0.9596654972218254}. Best is trial 25 with value: 0.9401936648613163.\n",
      "[I 2023-11-01 22:12:39,547] Trial 33 finished with value: 0.939963892991958 and parameters: {'max_depth': 9, 'eta': 0.28048281873231234, 'subsample': 0.7736918725647907, 'colsample_bytree': 0.9653409020310285}. Best is trial 25 with value: 0.9401936648613163.\n",
      "[I 2023-11-01 22:12:39,799] Trial 34 finished with value: 0.9403577876251437 and parameters: {'max_depth': 9, 'eta': 0.2997973384920171, 'subsample': 0.7966918481970154, 'colsample_bytree': 0.9957223242122774}. Best is trial 34 with value: 0.9403577876251437.\n",
      "[I 2023-11-01 22:12:40,045] Trial 35 finished with value: 0.9407845068110947 and parameters: {'max_depth': 9, 'eta': 0.29957296960433477, 'subsample': 0.7940029661592294, 'colsample_bytree': 0.9323986657824042}. Best is trial 35 with value: 0.9407845068110947.\n",
      "[I 2023-11-01 22:12:40,288] Trial 36 finished with value: 0.9402593139668473 and parameters: {'max_depth': 9, 'eta': 0.2514933260789, 'subsample': 0.7976675063791656, 'colsample_bytree': 0.931000275000149}. Best is trial 35 with value: 0.9407845068110947.\n",
      "[I 2023-11-01 22:12:40,546] Trial 37 finished with value: 0.9405547349417365 and parameters: {'max_depth': 9, 'eta': 0.29377744499761377, 'subsample': 0.8401268001810781, 'colsample_bytree': 0.9281053582227802}. Best is trial 35 with value: 0.9407845068110947.\n",
      "[I 2023-11-01 22:12:40,792] Trial 38 finished with value: 0.9400951912030199 and parameters: {'max_depth': 9, 'eta': 0.25608191267618896, 'subsample': 0.8389214411093181, 'colsample_bytree': 0.9169315707126056}. Best is trial 35 with value: 0.9407845068110947.\n",
      "[I 2023-11-01 22:12:41,052] Trial 39 finished with value: 0.9392089282783522 and parameters: {'max_depth': 9, 'eta': 0.298626005510554, 'subsample': 0.8480936341544071, 'colsample_bytree': 0.9185419298106929}. Best is trial 35 with value: 0.9407845068110947.\n",
      "[I 2023-11-01 22:12:41,277] Trial 40 finished with value: 0.9330707369112096 and parameters: {'max_depth': 4, 'eta': 0.29362445440123264, 'subsample': 0.8088312090441565, 'colsample_bytree': 0.9324642721485283}. Best is trial 35 with value: 0.9407845068110947.\n",
      "[I 2023-11-01 22:12:41,538] Trial 41 finished with value: 0.9406203840472673 and parameters: {'max_depth': 9, 'eta': 0.29690543776180217, 'subsample': 0.7973165135682976, 'colsample_bytree': 0.9744278880532762}. Best is trial 35 with value: 0.9407845068110947.\n",
      "[I 2023-11-01 22:12:41,787] Trial 42 finished with value: 0.9400623666502544 and parameters: {'max_depth': 9, 'eta': 0.29771916668338, 'subsample': 0.8006207760473523, 'colsample_bytree': 0.9619424237972821}. Best is trial 35 with value: 0.9407845068110947.\n",
      "[I 2023-11-01 22:12:42,042] Trial 43 finished with value: 0.9404562612834401 and parameters: {'max_depth': 9, 'eta': 0.2891809885074947, 'subsample': 0.7962190625763864, 'colsample_bytree': 0.9704348796613522}. Best is trial 35 with value: 0.9407845068110947.\n",
      "[I 2023-11-01 22:12:42,289] Trial 44 finished with value: 0.9397669456753652 and parameters: {'max_depth': 9, 'eta': 0.28714144404501474, 'subsample': 0.8529683444889116, 'colsample_bytree': 0.9756356810638834}. Best is trial 35 with value: 0.9407845068110947.\n",
      "[I 2023-11-01 22:12:42,539] Trial 45 finished with value: 0.9404234367306745 and parameters: {'max_depth': 9, 'eta': 0.29955035771504773, 'subsample': 0.825642276917918, 'colsample_bytree': 0.9075384137790419}. Best is trial 35 with value: 0.9407845068110947.\n",
      "[I 2023-11-01 22:12:42,780] Trial 46 finished with value: 0.9400295420974889 and parameters: {'max_depth': 8, 'eta': 0.28677382887601016, 'subsample': 0.830629887040099, 'colsample_bytree': 0.9040179038559357}. Best is trial 35 with value: 0.9407845068110947.\n",
      "[I 2023-11-01 22:12:43,040] Trial 47 finished with value: 0.9393402264894141 and parameters: {'max_depth': 9, 'eta': 0.2629801427677128, 'subsample': 0.8162075382211581, 'colsample_bytree': 0.9505332478586219}. Best is trial 35 with value: 0.9407845068110947.\n",
      "[I 2023-11-01 22:12:43,251] Trial 48 finished with value: 0.9332348596750369 and parameters: {'max_depth': 4, 'eta': 0.24382143754915483, 'subsample': 0.8719945783100206, 'colsample_bytree': 0.9031915089433429}. Best is trial 35 with value: 0.9407845068110947.\n",
      "[I 2023-11-01 22:12:43,498] Trial 49 finished with value: 0.9400623666502544 and parameters: {'max_depth': 8, 'eta': 0.2870449380337933, 'subsample': 0.8237213029057394, 'colsample_bytree': 0.858686429951289}. Best is trial 35 with value: 0.9407845068110947.\n",
      "[I 2023-11-01 22:12:43,740] Trial 50 finished with value: 0.9400295420974889 and parameters: {'max_depth': 8, 'eta': 0.2607378906829121, 'subsample': 0.8138641885908768, 'colsample_bytree': 0.9770846920292884}. Best is trial 35 with value: 0.9407845068110947.\n",
      "[I 2023-11-01 22:12:43,997] Trial 51 finished with value: 0.9400623666502544 and parameters: {'max_depth': 9, 'eta': 0.2990346399467865, 'subsample': 0.8029141539481701, 'colsample_bytree': 0.936987160849207}. Best is trial 35 with value: 0.9407845068110947.\n",
      "[I 2023-11-01 22:12:44,239] Trial 52 finished with value: 0.9403249630723781 and parameters: {'max_depth': 9, 'eta': 0.2865391745561496, 'subsample': 0.7882085442040854, 'colsample_bytree': 0.9792342653019432}. Best is trial 35 with value: 0.9407845068110947.\n",
      "[I 2023-11-01 22:12:44,517] Trial 53 finished with value: 0.9402264894140817 and parameters: {'max_depth': 9, 'eta': 0.26770923548846043, 'subsample': 0.7932305520162231, 'colsample_bytree': 0.950088480713707}. Best is trial 35 with value: 0.9407845068110947.\n",
      "[I 2023-11-01 22:12:44,764] Trial 54 finished with value: 0.9406203840472673 and parameters: {'max_depth': 9, 'eta': 0.2984402256873099, 'subsample': 0.8092063083443919, 'colsample_bytree': 0.9152262343486817}. Best is trial 35 with value: 0.9407845068110947.\n",
      "[I 2023-11-01 22:12:45,025] Trial 55 finished with value: 0.9403249630723781 and parameters: {'max_depth': 9, 'eta': 0.2884553384697815, 'subsample': 0.8102574418819791, 'colsample_bytree': 0.9086503818138023}. Best is trial 35 with value: 0.9407845068110947.\n",
      "[I 2023-11-01 22:12:45,266] Trial 56 finished with value: 0.9393402264894141 and parameters: {'max_depth': 8, 'eta': 0.2998998348780632, 'subsample': 0.8373758605028367, 'colsample_bytree': 0.8290262632506936}. Best is trial 35 with value: 0.9407845068110947.\n",
      "[I 2023-11-01 22:12:45,522] Trial 57 finished with value: 0.939963892991958 and parameters: {'max_depth': 9, 'eta': 0.2621731353362317, 'subsample': 0.7605821855237482, 'colsample_bytree': 0.8733892170463844}. Best is trial 35 with value: 0.9407845068110947.\n",
      "[I 2023-11-01 22:12:45,764] Trial 58 finished with value: 0.9393730510421795 and parameters: {'max_depth': 8, 'eta': 0.24262016994720617, 'subsample': 0.8190954912413646, 'colsample_bytree': 0.9291757644784715}. Best is trial 35 with value: 0.9407845068110947.\n",
      "[I 2023-11-01 22:12:46,007] Trial 59 finished with value: 0.9402593139668473 and parameters: {'max_depth': 9, 'eta': 0.2845631526332111, 'subsample': 0.8080883458695474, 'colsample_bytree': 0.8928627305538536}. Best is trial 35 with value: 0.9407845068110947.\n",
      "[I 2023-11-01 22:12:46,263] Trial 60 finished with value: 0.9397012965698343 and parameters: {'max_depth': 8, 'eta': 0.2687123684239792, 'subsample': 0.8546215081801596, 'colsample_bytree': 0.9215738555513604}. Best is trial 35 with value: 0.9407845068110947.\n",
      "[I 2023-11-01 22:12:46,523] Trial 61 finished with value: 0.9405219103889709 and parameters: {'max_depth': 9, 'eta': 0.29950636431275285, 'subsample': 0.7910321139621344, 'colsample_bytree': 0.9745191823395353}. Best is trial 35 with value: 0.9407845068110947.\n",
      "[I 2023-11-01 22:12:46,788] Trial 62 finished with value: 0.9399967175447235 and parameters: {'max_depth': 9, 'eta': 0.2905839659108013, 'subsample': 0.8274896631718146, 'colsample_bytree': 0.971884013036197}. Best is trial 35 with value: 0.9407845068110947.\n",
      "[I 2023-11-01 22:12:47,052] Trial 63 finished with value: 0.9398982438864271 and parameters: {'max_depth': 9, 'eta': 0.27781452559385283, 'subsample': 0.803462645460828, 'colsample_bytree': 0.9484715368126652}. Best is trial 35 with value: 0.9407845068110947.\n",
      "[I 2023-11-01 22:12:47,294] Trial 64 finished with value: 0.9405219103889709 and parameters: {'max_depth': 9, 'eta': 0.29093944746055217, 'subsample': 0.7872213112240197, 'colsample_bytree': 0.9833781545632305}. Best is trial 35 with value: 0.9407845068110947.\n",
      "[I 2023-11-01 22:12:47,550] Trial 65 finished with value: 0.9402593139668473 and parameters: {'max_depth': 9, 'eta': 0.2723471876608609, 'subsample': 0.7862150940085257, 'colsample_bytree': 0.9849346724832548}. Best is trial 35 with value: 0.9407845068110947.\n",
      "[I 2023-11-01 22:12:47,783] Trial 66 finished with value: 0.939963892991958 and parameters: {'max_depth': 8, 'eta': 0.290004744765451, 'subsample': 0.7630977741656759, 'colsample_bytree': 0.9774844334669954}. Best is trial 35 with value: 0.9407845068110947.\n",
      "[I 2023-11-01 22:12:48,008] Trial 67 finished with value: 0.9338585261775808 and parameters: {'max_depth': 6, 'eta': 0.259392368398067, 'subsample': 0.7914441770948799, 'colsample_bytree': 0.9601960300689697}. Best is trial 35 with value: 0.9407845068110947.\n",
      "[I 2023-11-01 22:12:48,251] Trial 68 finished with value: 0.9401608403085508 and parameters: {'max_depth': 9, 'eta': 0.28005673743650145, 'subsample': 0.7834579396944694, 'colsample_bytree': 0.9368909458044384}. Best is trial 35 with value: 0.9407845068110947.\n",
      "[I 2023-11-01 22:12:48,489] Trial 69 finished with value: 0.9403249630723781 and parameters: {'max_depth': 8, 'eta': 0.2692319096710213, 'subsample': 0.767136632947764, 'colsample_bytree': 0.9996013583230019}. Best is trial 35 with value: 0.9407845068110947.\n",
      "[I 2023-11-01 22:12:48,736] Trial 70 finished with value: 0.9406860331527983 and parameters: {'max_depth': 9, 'eta': 0.29077867550966907, 'subsample': 0.7494298133558689, 'colsample_bytree': 0.9824928646804127}. Best is trial 35 with value: 0.9407845068110947.\n",
      "[I 2023-11-01 22:12:48,982] Trial 71 finished with value: 0.9400623666502544 and parameters: {'max_depth': 9, 'eta': 0.2910446019026489, 'subsample': 0.7515398402375576, 'colsample_bytree': 0.9842035975537036}. Best is trial 35 with value: 0.9407845068110947.\n",
      "[I 2023-11-01 22:12:49,230] Trial 72 finished with value: 0.9405875594945019 and parameters: {'max_depth': 9, 'eta': 0.28056381830875515, 'subsample': 0.7818899233274309, 'colsample_bytree': 0.9650643782442145}. Best is trial 35 with value: 0.9407845068110947.\n",
      "[I 2023-11-01 22:12:49,482] Trial 73 finished with value: 0.9406860331527983 and parameters: {'max_depth': 9, 'eta': 0.2799113305991258, 'subsample': 0.7821875385439665, 'colsample_bytree': 0.9551134571747391}. Best is trial 35 with value: 0.9407845068110947.\n",
      "[I 2023-11-01 22:12:49,741] Trial 74 finished with value: 0.9392089282783522 and parameters: {'max_depth': 9, 'eta': 0.2795106367794561, 'subsample': 0.7538052481908389, 'colsample_bytree': 0.9533824022318446}. Best is trial 35 with value: 0.9407845068110947.\n",
      "[I 2023-11-01 22:12:49,996] Trial 75 finished with value: 0.9403577876251437 and parameters: {'max_depth': 9, 'eta': 0.2730957970702655, 'subsample': 0.7687722314911906, 'colsample_bytree': 0.9426200172354968}. Best is trial 35 with value: 0.9407845068110947.\n",
      "[I 2023-11-01 22:12:50,251] Trial 76 finished with value: 0.9400295420974889 and parameters: {'max_depth': 9, 'eta': 0.2537523718216421, 'subsample': 0.7445037466793896, 'colsample_bytree': 0.9250553098704586}. Best is trial 35 with value: 0.9407845068110947.\n",
      "[I 2023-11-01 22:12:50,489] Trial 77 finished with value: 0.9393402264894141 and parameters: {'max_depth': 8, 'eta': 0.2797318644701082, 'subsample': 0.7375901431911802, 'colsample_bytree': 0.9637848118252604}. Best is trial 35 with value: 0.9407845068110947.\n",
      "[I 2023-11-01 22:12:50,743] Trial 78 finished with value: 0.9400951912030199 and parameters: {'max_depth': 9, 'eta': 0.26527464534030376, 'subsample': 0.7830202239886938, 'colsample_bytree': 0.9407635633324969}. Best is trial 35 with value: 0.9407845068110947.\n",
      "[I 2023-11-01 22:12:50,981] Trial 79 finished with value: 0.9336944034137535 and parameters: {'max_depth': 5, 'eta': 0.2922467846828778, 'subsample': 0.7568062598807862, 'colsample_bytree': 0.8985210231869902}. Best is trial 35 with value: 0.9407845068110947.\n",
      "[I 2023-11-01 22:12:51,204] Trial 80 finished with value: 0.9390119809617594 and parameters: {'max_depth': 7, 'eta': 0.28159560102866404, 'subsample': 0.7693794628933001, 'colsample_bytree': 0.8815276446672216}. Best is trial 35 with value: 0.9407845068110947.\n",
      "[I 2023-11-01 22:12:51,456] Trial 81 finished with value: 0.9404890858362055 and parameters: {'max_depth': 9, 'eta': 0.2941014955652976, 'subsample': 0.7778890135035356, 'colsample_bytree': 0.9876332382148827}. Best is trial 35 with value: 0.9407845068110947.\n",
      "[I 2023-11-01 22:12:51,702] Trial 82 finished with value: 0.9401936648613163 and parameters: {'max_depth': 9, 'eta': 0.27214602643743385, 'subsample': 0.7889596050314065, 'colsample_bytree': 0.9686009437112028}. Best is trial 35 with value: 0.9407845068110947.\n",
      "[I 2023-11-01 22:12:51,964] Trial 83 finished with value: 0.939963892991958 and parameters: {'max_depth': 9, 'eta': 0.2998039056410884, 'subsample': 0.8046705976606842, 'colsample_bytree': 0.9587119642280985}. Best is trial 35 with value: 0.9407845068110947.\n",
      "[I 2023-11-01 22:12:52,209] Trial 84 finished with value: 0.9398325947808961 and parameters: {'max_depth': 9, 'eta': 0.28259925323462326, 'subsample': 0.7781434190511702, 'colsample_bytree': 0.9879522831759756}. Best is trial 35 with value: 0.9407845068110947.\n",
      "[I 2023-11-01 22:12:52,466] Trial 85 finished with value: 0.9400951912030199 and parameters: {'max_depth': 9, 'eta': 0.29212734735001517, 'subsample': 0.8144298885066992, 'colsample_bytree': 0.9321516664215491}. Best is trial 35 with value: 0.9407845068110947.\n",
      "[I 2023-11-01 22:12:52,702] Trial 86 finished with value: 0.9402921385196127 and parameters: {'max_depth': 8, 'eta': 0.2571626585880222, 'subsample': 0.7939918106623695, 'colsample_bytree': 0.9146747615097357}. Best is trial 35 with value: 0.9407845068110947.\n",
      "[I 2023-11-01 22:12:52,965] Trial 87 finished with value: 0.9399310684391925 and parameters: {'max_depth': 9, 'eta': 0.2855784609209371, 'subsample': 0.7999334069505437, 'colsample_bytree': 0.9548584450308455}. Best is trial 35 with value: 0.9407845068110947.\n",
      "[I 2023-11-01 22:12:53,223] Trial 88 finished with value: 0.9401280157557853 and parameters: {'max_depth': 9, 'eta': 0.29548619949205485, 'subsample': 0.7826409940240457, 'colsample_bytree': 0.9723142012410338}. Best is trial 35 with value: 0.9407845068110947.\n",
      "[I 2023-11-01 22:12:53,471] Trial 89 finished with value: 0.9403906121779091 and parameters: {'max_depth': 9, 'eta': 0.2772964963446055, 'subsample': 0.8099776206313876, 'colsample_bytree': 0.9883491005568971}. Best is trial 35 with value: 0.9407845068110947.\n",
      "[I 2023-11-01 22:12:53,715] Trial 90 finished with value: 0.9402593139668473 and parameters: {'max_depth': 8, 'eta': 0.26958223043107515, 'subsample': 0.7651078138648366, 'colsample_bytree': 0.9423008575691701}. Best is trial 35 with value: 0.9407845068110947.\n",
      "[I 2023-11-01 22:12:53,969] Trial 91 finished with value: 0.9403249630723781 and parameters: {'max_depth': 9, 'eta': 0.29126723829813483, 'subsample': 0.7760701522717882, 'colsample_bytree': 0.9893498310664437}. Best is trial 35 with value: 0.9407845068110947.\n",
      "[I 2023-11-01 22:12:54,213] Trial 92 finished with value: 0.9398982438864271 and parameters: {'max_depth': 9, 'eta': 0.29461953240310174, 'subsample': 0.7913186802700553, 'colsample_bytree': 0.9792085092927765}. Best is trial 35 with value: 0.9407845068110947.\n",
      "[I 2023-11-01 22:12:54,463] Trial 93 finished with value: 0.9397669456753652 and parameters: {'max_depth': 9, 'eta': 0.28453377188794543, 'subsample': 0.7725735867502388, 'colsample_bytree': 0.9984593273432311}. Best is trial 35 with value: 0.9407845068110947.\n",
      "[I 2023-11-01 22:12:54,717] Trial 94 finished with value: 0.9400951912030199 and parameters: {'max_depth': 9, 'eta': 0.29230216856781427, 'subsample': 0.7807010887186137, 'colsample_bytree': 0.967184942838726}. Best is trial 35 with value: 0.9407845068110947.\n",
      "[I 2023-11-01 22:12:54,964] Trial 95 finished with value: 0.9403249630723781 and parameters: {'max_depth': 9, 'eta': 0.2996855070211007, 'subsample': 0.7990097734207585, 'colsample_bytree': 0.9545455319283512}. Best is trial 35 with value: 0.9407845068110947.\n",
      "[I 2023-11-01 22:12:55,235] Trial 96 finished with value: 0.9401936648613163 and parameters: {'max_depth': 9, 'eta': 0.27403953064566267, 'subsample': 0.7616171701175012, 'colsample_bytree': 0.9298335574151886}. Best is trial 35 with value: 0.9407845068110947.\n",
      "[I 2023-11-01 22:12:55,484] Trial 97 finished with value: 0.9402593139668473 and parameters: {'max_depth': 9, 'eta': 0.28261996511164256, 'subsample': 0.8194649463715091, 'colsample_bytree': 0.9832960861306098}. Best is trial 35 with value: 0.9407845068110947.\n",
      "[I 2023-11-01 22:12:55,744] Trial 98 finished with value: 0.9397997702281307 and parameters: {'max_depth': 9, 'eta': 0.26490574792907207, 'subsample': 0.7881402941707213, 'colsample_bytree': 0.9686440319075893}. Best is trial 35 with value: 0.9407845068110947.\n",
      "[I 2023-11-01 22:12:55,960] Trial 99 finished with value: 0.9332348596750369 and parameters: {'max_depth': 4, 'eta': 0.29315634819322395, 'subsample': 0.8053890745701802, 'colsample_bytree': 0.9481013688182208}. Best is trial 35 with value: 0.9407845068110947.\n"
     ]
    }
   ],
   "source": [
    "#create an optuna study and specifcy the the direction of the optimization\n",
    "study = optuna.create_study(direction='maximize')\n",
    "study.optimize(objectives, n_trials=100)"
   ]
  },
  {
   "cell_type": "code",
   "execution_count": 40,
   "metadata": {},
   "outputs": [
    {
     "name": "stdout",
     "output_type": "stream",
     "text": [
      "Best trial:\n",
      "Accuracy: 0.9407845068110947\n",
      "Best hyperparameters: {'max_depth': 9, 'eta': 0.29957296960433477, 'subsample': 0.7940029661592294, 'colsample_bytree': 0.9323986657824042}\n"
     ]
    }
   ],
   "source": [
    "print('Best trial:')\n",
    "trial = study.best_trial\n",
    "print(f'Accuracy: {trial.value}')\n",
    "print('Best hyperparameters: {}'.format(trial.params))"
   ]
  },
  {
   "cell_type": "code",
   "execution_count": 41,
   "metadata": {},
   "outputs": [],
   "source": [
    "# Ensure trial is the best trial from the study\n",
    "best_trial1 = study.best_trial\n",
    "\n",
    "# Set parameters\n",
    "final_parameters1 = {\n",
    "    'max_depth': best_trial.params['max_depth'],\n",
    "    'eta': best_trial.params['eta'],\n",
    "    'objective': 'binary:logistic',\n",
    "    'eval_metric': 'logloss',\n",
    "    'subsample': best_trial.params['subsample'],\n",
    "    'colsample_bytree': best_trial.params['colsample_bytree'],\n",
    "}\n",
    "\n",
    "# Prepare the data\n",
    "dtrain = xgb.DMatrix(x_train1, label=y_train1)\n",
    "# Optionally, prepare a validation set\n",
    "#dval = xgb.DMatrix(x_val, label=y_val)\n",
    "\n",
    "# Train the final model\n",
    "# Optionally, include early stopping\n",
    "# final_model = xgb.train(final_parameters, dtrain, early_stopping_rounds=10, evals=[(dval, 'eval')])\n",
    "final_model1 = xgb.train(final_parameters1, dtrain1)"
   ]
  },
  {
   "cell_type": "code",
   "execution_count": 42,
   "metadata": {},
   "outputs": [
    {
     "name": "stdout",
     "output_type": "stream",
     "text": [
      "Accuracy: 0.9402921385196127\n",
      "Log Loss: 0.15322761565553691\n"
     ]
    }
   ],
   "source": [
    "# Generate predictions\n",
    "y_pred1 = final_model1.predict(dtest1)\n",
    "y_pred_binary1 = [1 if p >= 0.5 else 0 for p in y_pred1]\n",
    "\n",
    "# Calculate Accuracy\n",
    "accuracy = accuracy_score(y_test1, y_pred_binary1)\n",
    "print(f\"Accuracy: {accuracy}\")\n",
    "\n",
    "# Calculate Log Loss\n",
    "logloss = log_loss(y_test1, y_pred1)\n",
    "print(f\"Log Loss: {logloss}\")"
   ]
  },
  {
   "cell_type": "code",
   "execution_count": 43,
   "metadata": {},
   "outputs": [
    {
     "data": {
      "image/png": "[encoded data removed]",
      "text/plain": [
       "<Figure size 640x480 with 1 Axes>"
      ]
     },
     "metadata": {},
     "output_type": "display_data"
    }
   ],
   "source": [
    "importance1 = final_model1.get_score(importance_type='gain')\n",
    "# Visualizing the feature importances\n",
    "xgb.plot_importance(importance1)\n",
    "plt.show()"
   ]
  },
  {
   "cell_type": "markdown",
   "metadata": {},
   "source": [
    "# Predict 2023 data"
   ]
  },
  {
   "cell_type": "code",
   "execution_count": 44,
   "metadata": {},
   "outputs": [],
   "source": [
    "heaters_2023 = df[df['pitch_type_dict'] == 1].copy()\n",
    "offspeed_2023 = df[df['pitch_type_dict'] == 2].copy()"
   ]
  },
  {
   "cell_type": "code",
   "execution_count": 45,
   "metadata": {},
   "outputs": [],
   "source": [
    "\n",
    "# Select only the features you used for training the models\n",
    "features = ['zone', 'stand', 'strikes', 'plate_x', 'plate_z',  'likely_strike']  # Replace these with your actual features\n",
    "\n",
    "# Convert DataFrame to DMatrix\n",
    "dmatrix_heaters_2023 = xgb.DMatrix(heaters_2023[features])\n",
    "dmatrix_offspeed_2023 = xgb.DMatrix(offspeed_2023[features])\n",
    "\n",
    "# Make predictions\n",
    "heaters_2023['prediction'] = final_model.predict(dmatrix_heaters_2023)\n",
    "offspeed_2023['prediction'] = final_model1.predict(dmatrix_offspeed_2023)"
   ]
  },
  {
   "cell_type": "code",
   "execution_count": 46,
   "metadata": {},
   "outputs": [],
   "source": [
    "complete = pd.concat([heaters_2023, offspeed_2023], axis=0)\n",
    "complete['probability_added'] = 0"
   ]
  },
  {
   "cell_type": "code",
   "execution_count": 47,
   "metadata": {},
   "outputs": [
    {
     "name": "stderr",
     "output_type": "stream",
     "text": [
      "C:\\Users\\clayton.thompson\\AppData\\Local\\Temp\\ipykernel_26164\\3171989487.py:3: FutureWarning: Setting an item of incompatible dtype is deprecated and will raise in a future error of pandas. Value '[0.03244156 0.23146641 0.0354445  ... 0.03036588 0.03036588 0.13373393]' has dtype incompatible with int64, please explicitly cast to a compatible dtype first.\n",
      "  complete.loc[condition1, 'probability_added'] = 1 - complete.loc[condition1, 'prediction']\n"
     ]
    }
   ],
   "source": [
    "\n",
    "# Correct the conditions and assignment for 'probability_added'\n",
    "condition1 = (complete['is_strike'] == 1)\n",
    "complete.loc[condition1, 'probability_added'] = 1 - complete.loc[condition1, 'prediction']\n",
    "\n",
    "condition2 = (complete['is_strike'] == 0)\n",
    "complete.loc[condition2, 'probability_added'] = -1 + complete.loc[condition2, 'prediction']\n"
   ]
  },
  {
   "cell_type": "code",
   "execution_count": 48,
   "metadata": {},
   "outputs": [
    {
     "data": {
      "text/plain": [
       "362561"
      ]
     },
     "execution_count": 48,
     "metadata": {},
     "output_type": "execute_result"
    }
   ],
   "source": [
    "len(condition2)"
   ]
  },
  {
   "cell_type": "code",
   "execution_count": 50,
   "metadata": {},
   "outputs": [],
   "source": [
    "players = pd.read_csv(\"Y:/departments/research_and_development/baseball_operations/clayton_goodiez/csv/players_query.csv\")"
   ]
  },
  {
   "cell_type": "code",
   "execution_count": 51,
   "metadata": {},
   "outputs": [],
   "source": [
    "completed = complete.merge(players, left_on='fielder_2', right_on='mlb_id', how='left')"
   ]
  },
  {
   "cell_type": "code",
   "execution_count": 52,
   "metadata": {},
   "outputs": [],
   "source": [
    "strike_probs = completed.loc[completed['probability_added'] != 0].copy()"
   ]
  },
  {
   "cell_type": "code",
   "execution_count": 53,
   "metadata": {},
   "outputs": [
    {
     "data": {
      "text/html": [
       "<div>\n",
       "<style scoped>\n",
       "    .dataframe tbody tr th:only-of-type {\n",
       "        vertical-align: middle;\n",
       "    }\n",
       "\n",
       "    .dataframe tbody tr th {\n",
       "        vertical-align: top;\n",
       "    }\n",
       "\n",
       "    .dataframe thead th {\n",
       "        text-align: right;\n",
       "    }\n",
       "</style>\n",
       "<table border=\"1\" class=\"dataframe\">\n",
       "  <thead>\n",
       "    <tr style=\"text-align: right;\">\n",
       "      <th></th>\n",
       "      <th>half_inning</th>\n",
       "      <th>Unnamed: 1</th>\n",
       "      <th>pitch_type</th>\n",
       "      <th>game_date</th>\n",
       "      <th>release_speed</th>\n",
       "      <th>release_pos_x</th>\n",
       "      <th>release_pos_z</th>\n",
       "      <th>player_name</th>\n",
       "      <th>batter</th>\n",
       "      <th>pitcher</th>\n",
       "      <th>...</th>\n",
       "      <th>deltaRE</th>\n",
       "      <th>is_strike</th>\n",
       "      <th>pitch_type_dict</th>\n",
       "      <th>likely_strike</th>\n",
       "      <th>prediction</th>\n",
       "      <th>probability_added</th>\n",
       "      <th>Unnamed: 0</th>\n",
       "      <th>mlb_id</th>\n",
       "      <th>mlb_name</th>\n",
       "      <th>team_name</th>\n",
       "    </tr>\n",
       "  </thead>\n",
       "  <tbody>\n",
       "    <tr>\n",
       "      <th>0</th>\n",
       "      <td>716352_1_Bot</td>\n",
       "      <td>11</td>\n",
       "      <td>SI</td>\n",
       "      <td>2023-10-01</td>\n",
       "      <td>92.0</td>\n",
       "      <td>-2.78</td>\n",
       "      <td>5.68</td>\n",
       "      <td>King, Michael</td>\n",
       "      <td>672580</td>\n",
       "      <td>650633</td>\n",
       "      <td>...</td>\n",
       "      <td>-0.038179</td>\n",
       "      <td>1</td>\n",
       "      <td>1.0</td>\n",
       "      <td>1</td>\n",
       "      <td>0.967558</td>\n",
       "      <td>0.032442</td>\n",
       "      <td>4412</td>\n",
       "      <td>669224</td>\n",
       "      <td>Austin Wells</td>\n",
       "      <td>yankees</td>\n",
       "    </tr>\n",
       "    <tr>\n",
       "      <th>1</th>\n",
       "      <td>716352_1_Bot</td>\n",
       "      <td>8</td>\n",
       "      <td>SI</td>\n",
       "      <td>2023-10-01</td>\n",
       "      <td>93.5</td>\n",
       "      <td>-2.60</td>\n",
       "      <td>5.68</td>\n",
       "      <td>King, Michael</td>\n",
       "      <td>677951</td>\n",
       "      <td>650633</td>\n",
       "      <td>...</td>\n",
       "      <td>-0.028510</td>\n",
       "      <td>1</td>\n",
       "      <td>1.0</td>\n",
       "      <td>0</td>\n",
       "      <td>0.768534</td>\n",
       "      <td>0.231466</td>\n",
       "      <td>4412</td>\n",
       "      <td>669224</td>\n",
       "      <td>Austin Wells</td>\n",
       "      <td>yankees</td>\n",
       "    </tr>\n",
       "    <tr>\n",
       "      <th>2</th>\n",
       "      <td>716352_1_Bot</td>\n",
       "      <td>7</td>\n",
       "      <td>SI</td>\n",
       "      <td>2023-10-01</td>\n",
       "      <td>94.0</td>\n",
       "      <td>-2.59</td>\n",
       "      <td>5.74</td>\n",
       "      <td>King, Michael</td>\n",
       "      <td>677951</td>\n",
       "      <td>650633</td>\n",
       "      <td>...</td>\n",
       "      <td>0.020254</td>\n",
       "      <td>0</td>\n",
       "      <td>1.0</td>\n",
       "      <td>0</td>\n",
       "      <td>0.026395</td>\n",
       "      <td>-0.973605</td>\n",
       "      <td>4412</td>\n",
       "      <td>669224</td>\n",
       "      <td>Austin Wells</td>\n",
       "      <td>yankees</td>\n",
       "    </tr>\n",
       "    <tr>\n",
       "      <th>3</th>\n",
       "      <td>716352_1_Bot</td>\n",
       "      <td>3</td>\n",
       "      <td>SI</td>\n",
       "      <td>2023-10-01</td>\n",
       "      <td>93.9</td>\n",
       "      <td>-2.62</td>\n",
       "      <td>5.54</td>\n",
       "      <td>King, Michael</td>\n",
       "      <td>521692</td>\n",
       "      <td>650633</td>\n",
       "      <td>...</td>\n",
       "      <td>-0.016909</td>\n",
       "      <td>1</td>\n",
       "      <td>1.0</td>\n",
       "      <td>1</td>\n",
       "      <td>0.964556</td>\n",
       "      <td>0.035444</td>\n",
       "      <td>4412</td>\n",
       "      <td>669224</td>\n",
       "      <td>Austin Wells</td>\n",
       "      <td>yankees</td>\n",
       "    </tr>\n",
       "    <tr>\n",
       "      <th>4</th>\n",
       "      <td>716352_1_Bot</td>\n",
       "      <td>2</td>\n",
       "      <td>FF</td>\n",
       "      <td>2023-10-01</td>\n",
       "      <td>95.8</td>\n",
       "      <td>-2.24</td>\n",
       "      <td>5.97</td>\n",
       "      <td>King, Michael</td>\n",
       "      <td>521692</td>\n",
       "      <td>650633</td>\n",
       "      <td>...</td>\n",
       "      <td>-0.017354</td>\n",
       "      <td>1</td>\n",
       "      <td>1.0</td>\n",
       "      <td>1</td>\n",
       "      <td>0.835639</td>\n",
       "      <td>0.164361</td>\n",
       "      <td>4412</td>\n",
       "      <td>669224</td>\n",
       "      <td>Austin Wells</td>\n",
       "      <td>yankees</td>\n",
       "    </tr>\n",
       "  </tbody>\n",
       "</table>\n",
       "<p>5 rows × 113 columns</p>\n",
       "</div>"
      ],
      "text/plain": [
       "    half_inning  Unnamed: 1 pitch_type   game_date  release_speed  \\\n",
       "0  716352_1_Bot          11         SI  2023-10-01           92.0   \n",
       "1  716352_1_Bot           8         SI  2023-10-01           93.5   \n",
       "2  716352_1_Bot           7         SI  2023-10-01           94.0   \n",
       "3  716352_1_Bot           3         SI  2023-10-01           93.9   \n",
       "4  716352_1_Bot           2         FF  2023-10-01           95.8   \n",
       "\n",
       "   release_pos_x  release_pos_z    player_name  batter  pitcher  ...  \\\n",
       "0          -2.78           5.68  King, Michael  672580   650633  ...   \n",
       "1          -2.60           5.68  King, Michael  677951   650633  ...   \n",
       "2          -2.59           5.74  King, Michael  677951   650633  ...   \n",
       "3          -2.62           5.54  King, Michael  521692   650633  ...   \n",
       "4          -2.24           5.97  King, Michael  521692   650633  ...   \n",
       "\n",
       "    deltaRE is_strike  pitch_type_dict  likely_strike  prediction  \\\n",
       "0 -0.038179         1              1.0              1    0.967558   \n",
       "1 -0.028510         1              1.0              0    0.768534   \n",
       "2  0.020254         0              1.0              0    0.026395   \n",
       "3 -0.016909         1              1.0              1    0.964556   \n",
       "4 -0.017354         1              1.0              1    0.835639   \n",
       "\n",
       "   probability_added  Unnamed: 0  mlb_id      mlb_name  team_name  \n",
       "0           0.032442        4412  669224  Austin Wells    yankees  \n",
       "1           0.231466        4412  669224  Austin Wells    yankees  \n",
       "2          -0.973605        4412  669224  Austin Wells    yankees  \n",
       "3           0.035444        4412  669224  Austin Wells    yankees  \n",
       "4           0.164361        4412  669224  Austin Wells    yankees  \n",
       "\n",
       "[5 rows x 113 columns]"
      ]
     },
     "execution_count": 53,
     "metadata": {},
     "output_type": "execute_result"
    }
   ],
   "source": [
    "strike_probs.head()"
   ]
  },
  {
   "cell_type": "markdown",
   "metadata": {},
   "source": [
    "### Catcher Evaluation"
   ]
  },
  {
   "cell_type": "code",
   "execution_count": 54,
   "metadata": {},
   "outputs": [
    {
     "name": "stdout",
     "output_type": "stream",
     "text": [
      "                       probability_added\n",
      "mlb_name                                \n",
      "Mark Kolozsvary               -11.871180\n",
      "Henry Davis                   -12.058698\n",
      "Chris Okey                    -30.386621\n",
      "Tres Barrera                  -33.953463\n",
      "Zack Collins                  -74.741246\n",
      "Manny Pina                    -74.810691\n",
      "Caleb Hamilton                -83.932013\n",
      "Luis Torrens                  -88.294181\n",
      "Michael Perez                 -91.760805\n",
      "Tyler Cropley                -115.374480\n",
      "Meibrys Viloria              -120.043195\n",
      "Roberto Perez                -143.404151\n",
      "Sam Huff                     -160.753594\n",
      "Anthony Bemboom              -169.237915\n",
      "Chadwick Tromp               -187.564151\n",
      "Brian OKeefe                 -189.630818\n",
      "Cesar Salazar                -202.865933\n",
      "Jorge Alfaro                 -227.471267\n",
      "Brian Serven                 -291.020314\n",
      "MJ Melendez                  -313.171634\n",
      "Drew Millas                  -377.929555\n",
      "Logan Porter                 -398.571904\n",
      "Ivan Herrera                 -410.271311\n",
      "Sandy Leon                   -458.321961\n",
      "Tyler Heineman               -556.500053\n",
      "David Fry                    -558.092885\n",
      "Tyler Soderstrom             -649.503613\n",
      "Austin Wells                 -742.927460\n",
      "Tomas Nido                   -803.149709\n",
      "Ben Rortvedt                 -928.794990\n",
      "Korey Lee                   -1028.841153\n",
      "Brett Sullivan              -1031.343479\n",
      "Joey Bart                   -1036.571049\n",
      "Mitch Garver                -1043.672497\n",
      "Rene Pinto                  -1098.596933\n",
      "Curt Casali                 -1191.890124\n",
      "Garrett Stubbs              -1295.385724\n",
      "Miguel Amaya                -1338.478911\n",
      "Tucker Barnhart             -1353.662317\n",
      "Tom Murphy                  -1426.312007\n",
      "Luis Campusano              -1477.228434\n",
      "Mike Zunino                 -1569.268249\n",
      "Jose Herrera                -1623.924727\n",
      "Riley Adams                 -1647.763830\n",
      "Francisco Mejia             -1658.962273\n",
      "Carson Kelly                -1729.386313\n",
      "Blake Sabol                 -1747.981138\n",
      "Cam Gallagher               -1795.439098\n",
      "Austin Nola                 -1829.915478\n",
      "Omar Narvaez                -1832.879228\n",
      "Austin Wynns                -1848.011864\n",
      "Austin Barnes               -1867.684755\n",
      "Endy Rodriguez              -1903.268124\n",
      "Carlos Perez                -1932.167178\n",
      "Chad Wallach                -1934.062854\n",
      "Jose Trevino                -2052.658279\n",
      "Reese McGuire               -2078.160993\n",
      "Yainer Diaz                 -2083.694630\n",
      "James McCann                -2173.943659\n",
      "Jason Delay                 -2228.257722\n",
      "Logan OHoppe                -2230.868885\n",
      "Eric Haase                  -2235.523330\n",
      "Victor Caratini             -2239.249932\n",
      "Bo Naylor                   -2374.740144\n",
      "Freddy Fermin               -2384.806660\n",
      "Seby Zavala                 -2455.404680\n",
      "Luke Maile                  -2477.109413\n",
      "Travis dArnaud              -2566.552583\n",
      "Gary Sanchez                -2574.338421\n",
      "Austin Hedges               -2594.041110\n",
      "Danny Jansen                -2607.491082\n",
      "Andrew Knizner              -2616.726847\n",
      "Matt Thaiss                 -2781.298216\n",
      "Kyle Higashioka             -2874.879412\n",
      "Ryan Jeffers                -2926.498003\n",
      "Jacob Stallings             -2969.393066\n",
      "Patrick Bailey              -3136.723731\n",
      "Christian Bethancourt       -3340.243196\n",
      "Yasmani Grandal             -3462.751903\n",
      "Christian Vazquez           -3466.169700\n",
      "Tyler Stephenson            -3492.806946\n",
      "Alejandro Kirk              -3529.146462\n",
      "Nick Fortes                 -3538.751833\n",
      "Jake Rogers                 -3567.174104\n",
      "Salvador Perez              -3599.559857\n",
      "Willson Contreras           -3633.003705\n",
      "Yan Gomes                   -3883.544474\n",
      "Sean Murphy                 -3979.434454\n",
      "Gabriel Moreno              -4108.802745\n",
      "Will Smith                  -4304.157318\n",
      "Connor Wong                 -4332.805989\n",
      "Francisco Alvarez           -4351.517461\n",
      "William Contreras           -4414.409082\n",
      "Adley Rutschman             -4440.769161\n",
      "Cal Raleigh                 -4440.865321\n",
      "Elias Diaz                  -4824.689580\n",
      "Jonah Heim                  -4836.906050\n",
      "Martin Maldonado            -5032.853916\n",
      "Keibert Ruiz                -5272.355292\n",
      "Shea Langeliers             -5392.815386\n",
      "J.T. Realmuto               -5469.048332\n"
     ]
    }
   ],
   "source": [
    "# Set the display options to show all rows\n",
    "pd.set_option('display.max_rows', None)\n",
    "\n",
    "result = strike_probs.groupby('mlb_name').agg({'probability_added': 'sum'}).sort_values(by='probability_added', ascending=False)\n",
    "print(result)\n",
    "\n",
    "# Reset the display options to default\n",
    "pd.reset_option('display.max_rows')"
   ]
  },
  {
   "cell_type": "code",
   "execution_count": 55,
   "metadata": {},
   "outputs": [],
   "source": [
    "strike_probs['framing_runs'] = (strike_probs['deltaRE'] * -1) * strike_probs['probability_added'].abs()"
   ]
  },
  {
   "cell_type": "markdown",
   "metadata": {},
   "source": [
    "## Initial Situational Framing Runs Leaderboard"
   ]
  },
  {
   "cell_type": "code",
   "execution_count": 56,
   "metadata": {},
   "outputs": [
    {
     "name": "stdout",
     "output_type": "stream",
     "text": [
      "                       framing_runs\n",
      "mlb_name                           \n",
      "Henry Davis               -0.559694\n",
      "Mark Kolozsvary           -1.193204\n",
      "Chris Okey                -1.489442\n",
      "Tres Barrera              -2.042449\n",
      "Caleb Hamilton            -3.902482\n",
      "Zack Collins              -4.696620\n",
      "Michael Perez             -4.790408\n",
      "Luis Torrens              -5.129664\n",
      "Manny Pina                -5.484625\n",
      "Roberto Perez             -6.488964\n",
      "Tyler Cropley             -6.623550\n",
      "Anthony Bemboom           -6.830811\n",
      "Meibrys Viloria           -7.061754\n",
      "Brian OKeefe              -7.348789\n",
      "Sam Huff                  -8.034252\n",
      "Cesar Salazar             -8.969680\n",
      "Chadwick Tromp            -9.860855\n",
      "Jorge Alfaro             -12.799567\n",
      "Brian Serven             -15.948715\n",
      "MJ Melendez              -16.773940\n",
      "Ivan Herrera             -21.325729\n",
      "Drew Millas              -24.643048\n",
      "Logan Porter             -24.712937\n",
      "Sandy Leon               -25.613567\n",
      "Tyler Heineman           -26.683849\n",
      "David Fry                -33.537931\n",
      "Tyler Soderstrom         -40.267611\n",
      "Austin Wells             -40.835753\n",
      "Ben Rortvedt             -43.207827\n",
      "Tomas Nido               -44.357310\n",
      "Brett Sullivan           -53.452558\n",
      "Mitch Garver             -53.714294\n",
      "Joey Bart                -56.178293\n",
      "Rene Pinto               -59.119278\n",
      "Korey Lee                -59.713611\n",
      "Curt Casali              -66.943732\n",
      "Tucker Barnhart          -68.965434\n",
      "Garrett Stubbs           -71.064253\n",
      "Miguel Amaya             -73.854677\n",
      "Tom Murphy               -75.587557\n",
      "Luis Campusano           -81.544751\n",
      "Mike Zunino              -82.139462\n",
      "Cam Gallagher            -88.349014\n",
      "Carson Kelly             -88.660555\n",
      "Riley Adams              -89.756171\n",
      "Francisco Mejia          -90.262631\n",
      "Jose Herrera             -91.037838\n",
      "Austin Barnes            -94.067865\n",
      "Austin Nola              -97.507078\n",
      "Blake Sabol             -100.027648\n",
      "Omar Narvaez            -100.158228\n",
      "Jose Trevino            -107.092989\n",
      "Reese McGuire           -107.619569\n",
      "Austin Wynns            -107.717989\n",
      "Endy Rodriguez          -109.462077\n",
      "James McCann            -110.996501\n",
      "Chad Wallach            -111.492316\n",
      "Yainer Diaz             -115.319693\n",
      "Eric Haase              -116.666722\n",
      "Victor Caratini         -118.219283\n",
      "Carlos Perez            -122.870691\n",
      "Jason Delay             -128.681151\n",
      "Freddy Fermin           -129.512721\n",
      "Bo Naylor               -133.847611\n",
      "Danny Jansen            -133.903532\n",
      "Seby Zavala             -135.400797\n",
      "Logan OHoppe            -135.529479\n",
      "Austin Hedges           -136.631101\n",
      "Luke Maile              -137.126654\n",
      "Andrew Knizner          -140.798604\n",
      "Travis dArnaud          -143.299899\n",
      "Patrick Bailey          -143.406831\n",
      "Ryan Jeffers            -145.821313\n",
      "Gary Sanchez            -146.200177\n",
      "Kyle Higashioka         -151.709230\n",
      "Matt Thaiss             -157.152315\n",
      "Jacob Stallings         -158.374783\n",
      "Christian Bethancourt   -175.354709\n",
      "Jake Rogers             -175.706532\n",
      "Christian Vazquez       -179.413058\n",
      "Nick Fortes             -179.500632\n",
      "Alejandro Kirk          -182.667602\n",
      "Willson Contreras       -198.983630\n",
      "Tyler Stephenson        -198.994088\n",
      "Salvador Perez          -204.928542\n",
      "Yasmani Grandal         -207.258093\n",
      "Yan Gomes               -207.920695\n",
      "Sean Murphy             -212.181931\n",
      "Gabriel Moreno          -214.225664\n",
      "Cal Raleigh             -223.432219\n",
      "Will Smith              -224.088357\n",
      "William Contreras       -225.889794\n",
      "Connor Wong             -230.676677\n",
      "Adley Rutschman         -240.347794\n",
      "Francisco Alvarez       -244.285126\n",
      "Jonah Heim              -251.893980\n",
      "Martin Maldonado        -273.067347\n",
      "J.T. Realmuto           -273.847302\n",
      "Elias Diaz              -286.177605\n",
      "Keibert Ruiz            -299.645534\n",
      "Shea Langeliers         -331.709366\n"
     ]
    }
   ],
   "source": [
    "# Set the display options to show all rows\n",
    "pd.set_option('display.max_rows', None)\n",
    "\n",
    "result = strike_probs.groupby('mlb_name').agg({'framing_runs': 'sum'}).sort_values(by='framing_runs', ascending=False)\n",
    "print(result)\n",
    "\n",
    "# Reset the display options to default\n",
    "pd.reset_option('display.max_rows')"
   ]
  },
  {
   "cell_type": "code",
   "execution_count": 57,
   "metadata": {},
   "outputs": [],
   "source": [
    "framing = strike_probs.loc[((strike_probs['prediction'] >= .5) & (strike_probs['is_strike'] == 0)) | ((strike_probs['prediction'] <= .65) & (strike_probs['is_strike'] == 1))].copy()"
   ]
  },
  {
   "cell_type": "code",
   "execution_count": 58,
   "metadata": {},
   "outputs": [],
   "source": [
    "framing.drop(['Unnamed: 0', 'Unnamed: 1'], axis=1, inplace=True)"
   ]
  },
  {
   "cell_type": "markdown",
   "metadata": {},
   "source": [
    "### Get out meaningless strikes that have nothing to do with framing"
   ]
  },
  {
   "cell_type": "code",
   "execution_count": 59,
   "metadata": {},
   "outputs": [
    {
     "name": "stdout",
     "output_type": "stream",
     "text": [
      "                       framing_runs\n",
      "mlb_name                           \n",
      "William Contreras         22.235754\n",
      "Jonah Heim                21.515888\n",
      "Francisco Alvarez         21.030955\n",
      "Cal Raleigh               20.196220\n",
      "Patrick Bailey            19.348017\n",
      "Austin Hedges             18.538778\n",
      "Will Smith                18.302626\n",
      "Kyle Higashioka           17.793892\n",
      "Alejandro Kirk            16.988161\n",
      "Christian Vazquez         15.682081\n",
      "Elias Diaz                15.630233\n",
      "Adley Rutschman           15.328848\n",
      "J.T. Realmuto             15.172014\n",
      "Jake Rogers               14.941972\n",
      "Nick Fortes               14.845333\n",
      "Sean Murphy               14.473781\n",
      "Shea Langeliers           14.356285\n",
      "Keibert Ruiz              14.280143\n",
      "Yasmani Grandal           13.908779\n",
      "Connor Wong               13.322440\n",
      "Martin Maldonado          13.113764\n",
      "Willson Contreras         12.662038\n",
      "Gabriel Moreno            12.650900\n",
      "Victor Caratini           12.491456\n",
      "Yan Gomes                 12.036861\n",
      "Travis dArnaud            11.505189\n",
      "Christian Bethancourt     11.015454\n",
      "Seby Zavala               10.912983\n",
      "Gary Sanchez              10.664978\n",
      "Salvador Perez            10.584144\n",
      "Jason Delay                9.939844\n",
      "Austin Wynns               9.755816\n",
      "Ryan Jeffers               9.709126\n",
      "Tyler Stephenson           9.503866\n",
      "Freddy Fermin              9.458533\n",
      "Jacob Stallings            8.901498\n",
      "Andrew Knizner             8.666230\n",
      "Jose Trevino               8.644956\n",
      "Danny Jansen               8.546245\n",
      "Austin Barnes              8.439059\n",
      "Cam Gallagher              8.246992\n",
      "Matt Thaiss                8.118012\n",
      "Bo Naylor                  7.448080\n",
      "Endy Rodriguez             7.442390\n",
      "Omar Narvaez               7.208436\n",
      "Eric Haase                 7.011824\n",
      "James McCann               6.965234\n",
      "Reese McGuire              6.664454\n",
      "Tucker Barnhart            6.620207\n",
      "Blake Sabol                5.937720\n",
      "Carson Kelly               5.851072\n",
      "Luke Maile                 5.764095\n",
      "Miguel Amaya               5.462073\n",
      "Austin Nola                5.422133\n",
      "Chad Wallach               5.183310\n",
      "Mike Zunino                5.120548\n",
      "Logan OHoppe               4.984434\n",
      "Joey Bart                  4.917864\n",
      "Ben Rortvedt               4.824404\n",
      "Luis Campusano             4.673012\n",
      "Rene Pinto                 4.600817\n",
      "Francisco Mejia            4.564538\n",
      "Yainer Diaz                4.501216\n",
      "Mitch Garver               4.334265\n",
      "Riley Adams                3.899332\n",
      "Austin Wells               3.682427\n",
      "Garrett Stubbs             3.503541\n",
      "Carlos Perez               3.237966\n",
      "Jose Herrera               3.137352\n",
      "Curt Casali                3.049524\n",
      "Tomas Nido                 2.614283\n",
      "Brett Sullivan             2.538681\n",
      "MJ Melendez                2.332773\n",
      "Tom Murphy                 2.269448\n",
      "Tyler Heineman             2.223675\n",
      "Tyler Soderstrom           2.167545\n",
      "Korey Lee                  2.001617\n",
      "Sandy Leon                 1.932783\n",
      "Roberto Perez              1.840704\n",
      "Ivan Herrera               1.790419\n",
      "Brian Serven               1.526765\n",
      "Logan Porter               1.195141\n",
      "Chadwick Tromp             1.018776\n",
      "Anthony Bemboom            0.763756\n",
      "Sam Huff                   0.681127\n",
      "David Fry                  0.660441\n",
      "Brian OKeefe               0.646249\n",
      "Jorge Alfaro               0.540058\n",
      "Cesar Salazar              0.490365\n",
      "Tyler Cropley              0.486020\n",
      "Drew Millas                0.389135\n",
      "Mark Kolozsvary            0.377450\n",
      "Tres Barrera               0.207288\n",
      "Caleb Hamilton             0.200744\n",
      "Zack Collins               0.133128\n",
      "Manny Pina                 0.040537\n",
      "Michael Perez              0.035152\n",
      "Meibrys Viloria            0.023198\n",
      "Henry Davis                0.009543\n",
      "Chris Okey                 0.007242\n",
      "Luis Torrens              -0.023199\n"
     ]
    }
   ],
   "source": [
    "# Set the display options to show all rows\n",
    "pd.set_option('display.max_rows', None)\n",
    "\n",
    "result = framing.groupby('mlb_name').agg({'framing_runs': 'sum'}).sort_values(by='framing_runs', ascending=False)\n",
    "print(result)"
   ]
  },
  {
   "cell_type": "markdown",
   "metadata": {},
   "source": [
    "###  I think that this is the best leaderboard. Filters out the gimme pitches"
   ]
  },
  {
   "cell_type": "code",
   "execution_count": 60,
   "metadata": {},
   "outputs": [
    {
     "name": "stdout",
     "output_type": "stream",
     "text": [
      "This is a large query, it may take a moment to complete\n"
     ]
    },
    {
     "name": "stderr",
     "output_type": "stream",
     "text": [
      "100%|██████████| 6/6 [00:00<00:00,  6.36it/s]\n",
      "C:\\Users\\clayton.thompson\\AppData\\Roaming\\Python\\Python311\\site-packages\\pybaseball\\statcast.py:85: FutureWarning: The behavior of DataFrame concatenation with empty or all-NA entries is deprecated. In a future version, this will no longer exclude empty or all-NA columns when determining the result dtypes. To retain the old behavior, exclude the relevant entries before the concat operation.\n",
      "  final_data = pd.concat(dataframe_list, axis=0).convert_dtypes(convert_string=False)\n"
     ]
    }
   ],
   "source": [
    "data = pb.statcast(start_dt='2023-10-27', end_dt='2023-11-1')"
   ]
  },
  {
   "cell_type": "code",
   "execution_count": 61,
   "metadata": {},
   "outputs": [
    {
     "data": {
      "text/plain": [
       "<IntegerArray>\n",
       "[748535, 748540, 748541, 748542]\n",
       "Length: 4, dtype: Int64"
      ]
     },
     "execution_count": 61,
     "metadata": {},
     "output_type": "execute_result"
    }
   ],
   "source": [
    "data.game_pk.unique()"
   ]
  },
  {
   "cell_type": "code",
   "execution_count": 62,
   "metadata": {},
   "outputs": [
    {
     "data": {
      "text/html": [
       "<div>\n",
       "<style scoped>\n",
       "    .dataframe tbody tr th:only-of-type {\n",
       "        vertical-align: middle;\n",
       "    }\n",
       "\n",
       "    .dataframe tbody tr th {\n",
       "        vertical-align: top;\n",
       "    }\n",
       "\n",
       "    .dataframe thead th {\n",
       "        text-align: right;\n",
       "    }\n",
       "</style>\n",
       "<table border=\"1\" class=\"dataframe\">\n",
       "  <thead>\n",
       "    <tr style=\"text-align: right;\">\n",
       "      <th></th>\n",
       "      <th>pitch_type</th>\n",
       "      <th>game_date</th>\n",
       "      <th>release_speed</th>\n",
       "      <th>release_pos_x</th>\n",
       "      <th>release_pos_z</th>\n",
       "      <th>player_name</th>\n",
       "      <th>batter</th>\n",
       "      <th>pitcher</th>\n",
       "      <th>events</th>\n",
       "      <th>description</th>\n",
       "      <th>...</th>\n",
       "      <th>fld_score</th>\n",
       "      <th>post_away_score</th>\n",
       "      <th>post_home_score</th>\n",
       "      <th>post_bat_score</th>\n",
       "      <th>post_fld_score</th>\n",
       "      <th>if_fielding_alignment</th>\n",
       "      <th>of_fielding_alignment</th>\n",
       "      <th>spin_axis</th>\n",
       "      <th>delta_home_win_exp</th>\n",
       "      <th>delta_run_exp</th>\n",
       "    </tr>\n",
       "  </thead>\n",
       "  <tbody>\n",
       "    <tr>\n",
       "      <th>207</th>\n",
       "      <td>SL</td>\n",
       "      <td>2023-10-31</td>\n",
       "      <td>83.3</td>\n",
       "      <td>-1.66</td>\n",
       "      <td>5.85</td>\n",
       "      <td>Leclerc, José</td>\n",
       "      <td>572233</td>\n",
       "      <td>600917</td>\n",
       "      <td>field_out</td>\n",
       "      <td>hit_into_play</td>\n",
       "      <td>...</td>\n",
       "      <td>11</td>\n",
       "      <td>11</td>\n",
       "      <td>7</td>\n",
       "      <td>7</td>\n",
       "      <td>11</td>\n",
       "      <td>Strategic</td>\n",
       "      <td>Standard</td>\n",
       "      <td>67</td>\n",
       "      <td>-0.004</td>\n",
       "      <td>-0.202</td>\n",
       "    </tr>\n",
       "    <tr>\n",
       "      <th>217</th>\n",
       "      <td>FF</td>\n",
       "      <td>2023-10-31</td>\n",
       "      <td>96.6</td>\n",
       "      <td>-1.34</td>\n",
       "      <td>6.15</td>\n",
       "      <td>Leclerc, José</td>\n",
       "      <td>572233</td>\n",
       "      <td>600917</td>\n",
       "      <td>NaN</td>\n",
       "      <td>ball</td>\n",
       "      <td>...</td>\n",
       "      <td>11</td>\n",
       "      <td>11</td>\n",
       "      <td>7</td>\n",
       "      <td>7</td>\n",
       "      <td>11</td>\n",
       "      <td>Strategic</td>\n",
       "      <td>Standard</td>\n",
       "      <td>198</td>\n",
       "      <td>0.0</td>\n",
       "      <td>0.028</td>\n",
       "    </tr>\n",
       "    <tr>\n",
       "      <th>221</th>\n",
       "      <td>FF</td>\n",
       "      <td>2023-10-31</td>\n",
       "      <td>94.6</td>\n",
       "      <td>-1.12</td>\n",
       "      <td>6.13</td>\n",
       "      <td>Leclerc, José</td>\n",
       "      <td>572233</td>\n",
       "      <td>600917</td>\n",
       "      <td>NaN</td>\n",
       "      <td>ball</td>\n",
       "      <td>...</td>\n",
       "      <td>11</td>\n",
       "      <td>11</td>\n",
       "      <td>7</td>\n",
       "      <td>7</td>\n",
       "      <td>11</td>\n",
       "      <td>Strategic</td>\n",
       "      <td>Standard</td>\n",
       "      <td>200</td>\n",
       "      <td>0.0</td>\n",
       "      <td>0.017</td>\n",
       "    </tr>\n",
       "    <tr>\n",
       "      <th>234</th>\n",
       "      <td>SL</td>\n",
       "      <td>2023-10-31</td>\n",
       "      <td>83.7</td>\n",
       "      <td>-1.86</td>\n",
       "      <td>5.82</td>\n",
       "      <td>Leclerc, José</td>\n",
       "      <td>572233</td>\n",
       "      <td>600917</td>\n",
       "      <td>NaN</td>\n",
       "      <td>foul</td>\n",
       "      <td>...</td>\n",
       "      <td>11</td>\n",
       "      <td>11</td>\n",
       "      <td>7</td>\n",
       "      <td>7</td>\n",
       "      <td>11</td>\n",
       "      <td>Strategic</td>\n",
       "      <td>Standard</td>\n",
       "      <td>87</td>\n",
       "      <td>0.0</td>\n",
       "      <td>-0.046</td>\n",
       "    </tr>\n",
       "    <tr>\n",
       "      <th>252</th>\n",
       "      <td>SL</td>\n",
       "      <td>2023-10-31</td>\n",
       "      <td>85.0</td>\n",
       "      <td>-1.78</td>\n",
       "      <td>5.86</td>\n",
       "      <td>Leclerc, José</td>\n",
       "      <td>572233</td>\n",
       "      <td>600917</td>\n",
       "      <td>NaN</td>\n",
       "      <td>swinging_strike</td>\n",
       "      <td>...</td>\n",
       "      <td>11</td>\n",
       "      <td>11</td>\n",
       "      <td>7</td>\n",
       "      <td>7</td>\n",
       "      <td>11</td>\n",
       "      <td>Strategic</td>\n",
       "      <td>Standard</td>\n",
       "      <td>102</td>\n",
       "      <td>0.0</td>\n",
       "      <td>-0.038</td>\n",
       "    </tr>\n",
       "  </tbody>\n",
       "</table>\n",
       "<p>5 rows × 92 columns</p>\n",
       "</div>"
      ],
      "text/plain": [
       "    pitch_type  game_date  release_speed  release_pos_x  release_pos_z  \\\n",
       "207         SL 2023-10-31           83.3          -1.66           5.85   \n",
       "217         FF 2023-10-31           96.6          -1.34           6.15   \n",
       "221         FF 2023-10-31           94.6          -1.12           6.13   \n",
       "234         SL 2023-10-31           83.7          -1.86           5.82   \n",
       "252         SL 2023-10-31           85.0          -1.78           5.86   \n",
       "\n",
       "       player_name  batter  pitcher     events      description  ...  \\\n",
       "207  Leclerc, José  572233   600917  field_out    hit_into_play  ...   \n",
       "217  Leclerc, José  572233   600917        NaN             ball  ...   \n",
       "221  Leclerc, José  572233   600917        NaN             ball  ...   \n",
       "234  Leclerc, José  572233   600917        NaN             foul  ...   \n",
       "252  Leclerc, José  572233   600917        NaN  swinging_strike  ...   \n",
       "\n",
       "     fld_score  post_away_score  post_home_score  post_bat_score  \\\n",
       "207         11               11                7               7   \n",
       "217         11               11                7               7   \n",
       "221         11               11                7               7   \n",
       "234         11               11                7               7   \n",
       "252         11               11                7               7   \n",
       "\n",
       "     post_fld_score if_fielding_alignment of_fielding_alignment spin_axis  \\\n",
       "207              11             Strategic              Standard        67   \n",
       "217              11             Strategic              Standard       198   \n",
       "221              11             Strategic              Standard       200   \n",
       "234              11             Strategic              Standard        87   \n",
       "252              11             Strategic              Standard       102   \n",
       "\n",
       "    delta_home_win_exp delta_run_exp  \n",
       "207             -0.004        -0.202  \n",
       "217                0.0         0.028  \n",
       "221                0.0         0.017  \n",
       "234                0.0        -0.046  \n",
       "252                0.0        -0.038  \n",
       "\n",
       "[5 rows x 92 columns]"
      ]
     },
     "execution_count": 62,
     "metadata": {},
     "output_type": "execute_result"
    }
   ],
   "source": [
    "data.head()"
   ]
  },
  {
   "cell_type": "code",
   "execution_count": null,
   "metadata": {},
   "outputs": [],
   "source": [
    "data = data.loc[(data['description'] == 'called_strike') | (data['description'] == 'ball')].copy() # only called strikes and balls"
   ]
  },
  {
   "cell_type": "code",
   "execution_count": null,
   "metadata": {},
   "outputs": [],
   "source": [
    "data['pitch_type_dict'] = data['pitch_type'].map(pitch_type_dict)\n",
    "data['likely_strike'] = ((data['plate_x'].abs() <= .708) &\n",
    "                            (data['plate_z'] <= data['sz_top']) &\n",
    "                            (data['plate_z'] >= data['sz_bot'])).astype(int)\n",
    "data['is_strike'] = data['description'].map({'called_strike': 1, 'ball': 0}) # convert to binary\n",
    "data['p_throws'] = data['p_throws'].map({'R': 1, 'L': 0}) # convert to binary\n",
    "data['stand'] = data['stand'].map({'R': 1, 'L': 0}) # convert to binary"
   ]
  },
  {
   "cell_type": "code",
   "execution_count": null,
   "metadata": {},
   "outputs": [],
   "source": [
    "heaters_2023 = data[data['pitch_type_dict'] == 1].copy()\n",
    "offspeed_2023 = data[data['pitch_type_dict'] == 2].copy()\n",
    "# Select only the features you used for training the models\n",
    "features = ['zone', 'stand', 'strikes', 'plate_x', 'plate_z',  'likely_strike']  # Replace these with your actual features\n",
    "\n",
    "# Convert DataFrame to DMatrix\n",
    "dmatrix_heaters_2023 = xgb.DMatrix(heaters_2023[features])\n",
    "dmatrix_offspeed_2023 = xgb.DMatrix(offspeed_2023[features])\n",
    "\n",
    "# Make predictions\n",
    "heaters_2023['prediction'] = final_model.predict(dmatrix_heaters_2023)\n",
    "offspeed_2023['prediction'] = final_model1.predict(dmatrix_offspeed_2023)"
   ]
  },
  {
   "cell_type": "code",
   "execution_count": null,
   "metadata": {},
   "outputs": [],
   "source": [
    "complete = pd.concat([heaters_2023, offspeed_2023], axis=0)"
   ]
  },
  {
   "cell_type": "code",
   "execution_count": null,
   "metadata": {},
   "outputs": [],
   "source": [
    "complete['probability_added'] = 0.0\n",
    "# Correct the conditions and assignment for 'probability_added'\n",
    "condition1 = (complete['is_strike'] == 1)\n",
    "complete.loc[condition1, 'probability_added'] = 1.0 - complete.loc[condition1, 'prediction']\n",
    "\n",
    "condition2 = (complete['is_strike'] == 0)\n",
    "complete.loc[condition2, 'probability_added'] = 0.0 - complete.loc[condition2, 'prediction']"
   ]
  },
  {
   "cell_type": "code",
   "execution_count": null,
   "metadata": {},
   "outputs": [],
   "source": [
    "# Apply the condition to create a new 'deltaRE' column\n",
    "complete['deltaRE'] = np.where(complete['is_strike'] == 1, \n",
    "                               -0.05262950187221891, \n",
    "                               0.04634995015788309)"
   ]
  },
  {
   "cell_type": "code",
   "execution_count": null,
   "metadata": {},
   "outputs": [],
   "source": [
    "cp = complete.loc[complete['probability_added'] != 0].copy()\n",
    "cp['framing_runs'] = (cp['deltaRE'] * -1) * cp['probability_added'].abs()"
   ]
  },
  {
   "cell_type": "code",
   "execution_count": null,
   "metadata": {},
   "outputs": [],
   "source": [
    "cp.to_csv('world_series_2023.csv')"
   ]
  },
  {
   "cell_type": "code",
   "execution_count": null,
   "metadata": {},
   "outputs": [],
   "source": []
  }
 ],
 "metadata": {
  "kernelspec": {
   "display_name": "Python 3",
   "language": "python",
   "name": "python3"
  },
  "language_info": {
   "codemirror_mode": {
    "name": "ipython",
    "version": 3
   },
   "file_extension": ".py",
   "mimetype": "text/x-python",
   "name": "python",
   "nbconvert_exporter": "python",
   "pygments_lexer": "ipython3",
   "version": "3.11.5"
  },
  "orig_nbformat": 4
 },
 "nbformat": 4,
 "nbformat_minor": 2
}
